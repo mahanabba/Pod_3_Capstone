{
 "cells": [
  {
   "cell_type": "markdown",
   "metadata": {},
   "source": [
    "## Semester 1 Project Submission\n",
    "\n",
    "Please fill out:\n",
    "* Student name: Sage Reagan, Neil Dilawari, Mahan Abbasian, Daniel Perez\n",
    "* Instructor name: Charlie Rice, Lera Tsayukova\n",
    "\n"
   ]
  },
  {
   "cell_type": "markdown",
   "metadata": {},
   "source": [
    "## Importing Python libraries"
   ]
  },
  {
   "cell_type": "code",
   "execution_count": 2,
   "metadata": {},
   "outputs": [],
   "source": [
    "# In this cell we import the libraries needed for our analysis\n",
    "# pandas for data frame manipulation and import\n",
    "# sqlite3 for database connection, import and manipulation\n",
    "# numpy for array-wise operations\n",
    "# plt and sns for plotting data or data frames\n",
    "\n",
    "import pandas as pd\n",
    "import sqlite3\n",
    "import numpy as np\n",
    "import matplotlib.pyplot as plt\n",
    "import seaborn as sns\n",
    "from scipy import stats\n",
    "%matplotlib inline"
   ]
  },
  {
   "cell_type": "markdown",
   "metadata": {},
   "source": [
    "## Importing csv / tsv files"
   ]
  },
  {
   "cell_type": "markdown",
   "metadata": {},
   "source": [
    "In this step, we will import data using the pandas library.\n",
    "For that, there are two alternatives to import data:\n",
    "1. bomDF = pd.read_csv(\"zippedData/bom.movie_gross.csv.gz\", encoding=\"unicode_escape\") --> for compressed files\n",
    "2. bomDF = pd.read_csv(\"zippedData/bom.movie_gross.csv\") --> for uncompressed (raw) files"
   ]
  },
  {
   "cell_type": "code",
   "execution_count": 2,
   "metadata": {},
   "outputs": [],
   "source": [
    "# DataFrame from Box Office Mojo dataset\n",
    "bomDF = pd.read_csv(\"zippedData/bom.movie_gross.csv.gz\",encoding=\"unicode_escape\")"
   ]
  },
  {
   "cell_type": "code",
   "execution_count": 3,
   "metadata": {
    "scrolled": false
   },
   "outputs": [
    {
     "name": "stdout",
     "output_type": "stream",
     "text": [
      "(3387, 5)\n"
     ]
    }
   ],
   "source": [
    "print(bomDF.shape)"
   ]
  },
  {
   "cell_type": "code",
   "execution_count": 4,
   "metadata": {},
   "outputs": [
    {
     "data": {
      "text/html": [
       "<div>\n",
       "<style scoped>\n",
       "    .dataframe tbody tr th:only-of-type {\n",
       "        vertical-align: middle;\n",
       "    }\n",
       "\n",
       "    .dataframe tbody tr th {\n",
       "        vertical-align: top;\n",
       "    }\n",
       "\n",
       "    .dataframe thead th {\n",
       "        text-align: right;\n",
       "    }\n",
       "</style>\n",
       "<table border=\"1\" class=\"dataframe\">\n",
       "  <thead>\n",
       "    <tr style=\"text-align: right;\">\n",
       "      <th></th>\n",
       "      <th>title</th>\n",
       "      <th>studio</th>\n",
       "      <th>domestic_gross</th>\n",
       "      <th>foreign_gross</th>\n",
       "      <th>year</th>\n",
       "    </tr>\n",
       "  </thead>\n",
       "  <tbody>\n",
       "    <tr>\n",
       "      <th>0</th>\n",
       "      <td>Toy Story 3</td>\n",
       "      <td>BV</td>\n",
       "      <td>415000000.0</td>\n",
       "      <td>652000000</td>\n",
       "      <td>2010</td>\n",
       "    </tr>\n",
       "    <tr>\n",
       "      <th>1</th>\n",
       "      <td>Alice in Wonderland (2010)</td>\n",
       "      <td>BV</td>\n",
       "      <td>334200000.0</td>\n",
       "      <td>691300000</td>\n",
       "      <td>2010</td>\n",
       "    </tr>\n",
       "  </tbody>\n",
       "</table>\n",
       "</div>"
      ],
      "text/plain": [
       "                        title studio  domestic_gross foreign_gross  year\n",
       "0                 Toy Story 3     BV     415000000.0     652000000  2010\n",
       "1  Alice in Wonderland (2010)     BV     334200000.0     691300000  2010"
      ]
     },
     "execution_count": 4,
     "metadata": {},
     "output_type": "execute_result"
    }
   ],
   "source": [
    "bomDF.head(2)"
   ]
  },
  {
   "cell_type": "markdown",
   "metadata": {},
   "source": [
    "## Importing SQL datset"
   ]
  },
  {
   "cell_type": "markdown",
   "metadata": {},
   "source": [
    "Here, we import data from IMDB's SQLite database using sqlite3 library."
   ]
  },
  {
   "cell_type": "code",
   "execution_count": 6,
   "metadata": {},
   "outputs": [],
   "source": [
    "# DataFrame from IMDB dataset\n",
    "conn = sqlite3.connect('zippedData/im.db')"
   ]
  },
  {
   "cell_type": "code",
   "execution_count": 6,
   "metadata": {},
   "outputs": [
    {
     "data": {
      "text/html": [
       "<div>\n",
       "<style scoped>\n",
       "    .dataframe tbody tr th:only-of-type {\n",
       "        vertical-align: middle;\n",
       "    }\n",
       "\n",
       "    .dataframe tbody tr th {\n",
       "        vertical-align: top;\n",
       "    }\n",
       "\n",
       "    .dataframe thead th {\n",
       "        text-align: right;\n",
       "    }\n",
       "</style>\n",
       "<table border=\"1\" class=\"dataframe\">\n",
       "  <thead>\n",
       "    <tr style=\"text-align: right;\">\n",
       "      <th></th>\n",
       "      <th>movie_id</th>\n",
       "      <th>primary_title</th>\n",
       "      <th>original_title</th>\n",
       "      <th>start_year</th>\n",
       "      <th>runtime_minutes</th>\n",
       "      <th>genres</th>\n",
       "    </tr>\n",
       "  </thead>\n",
       "  <tbody>\n",
       "    <tr>\n",
       "      <th>0</th>\n",
       "      <td>tt0063540</td>\n",
       "      <td>Sunghursh</td>\n",
       "      <td>Sunghursh</td>\n",
       "      <td>2013</td>\n",
       "      <td>175.0</td>\n",
       "      <td>Action,Crime,Drama</td>\n",
       "    </tr>\n",
       "    <tr>\n",
       "      <th>1</th>\n",
       "      <td>tt0066787</td>\n",
       "      <td>One Day Before the Rainy Season</td>\n",
       "      <td>Ashad Ka Ek Din</td>\n",
       "      <td>2019</td>\n",
       "      <td>114.0</td>\n",
       "      <td>Biography,Drama</td>\n",
       "    </tr>\n",
       "  </tbody>\n",
       "</table>\n",
       "</div>"
      ],
      "text/plain": [
       "    movie_id                    primary_title   original_title  start_year  \\\n",
       "0  tt0063540                        Sunghursh        Sunghursh        2013   \n",
       "1  tt0066787  One Day Before the Rainy Season  Ashad Ka Ek Din        2019   \n",
       "\n",
       "   runtime_minutes              genres  \n",
       "0            175.0  Action,Crime,Drama  \n",
       "1            114.0     Biography,Drama  "
      ]
     },
     "execution_count": 6,
     "metadata": {},
     "output_type": "execute_result"
    }
   ],
   "source": [
    "movie_basicsDF = pd.read_sql(\"select * from movie_basics\", con=conn)\n",
    "movie_basicsDF.head(2)"
   ]
  },
  {
   "cell_type": "code",
   "execution_count": 7,
   "metadata": {
    "scrolled": true
   },
   "outputs": [
    {
     "data": {
      "text/html": [
       "<div>\n",
       "<style scoped>\n",
       "    .dataframe tbody tr th:only-of-type {\n",
       "        vertical-align: middle;\n",
       "    }\n",
       "\n",
       "    .dataframe tbody tr th {\n",
       "        vertical-align: top;\n",
       "    }\n",
       "\n",
       "    .dataframe thead th {\n",
       "        text-align: right;\n",
       "    }\n",
       "</style>\n",
       "<table border=\"1\" class=\"dataframe\">\n",
       "  <thead>\n",
       "    <tr style=\"text-align: right;\">\n",
       "      <th></th>\n",
       "      <th>movie_id</th>\n",
       "      <th>averagerating</th>\n",
       "      <th>numvotes</th>\n",
       "    </tr>\n",
       "  </thead>\n",
       "  <tbody>\n",
       "    <tr>\n",
       "      <th>0</th>\n",
       "      <td>tt10356526</td>\n",
       "      <td>8.3</td>\n",
       "      <td>31</td>\n",
       "    </tr>\n",
       "    <tr>\n",
       "      <th>1</th>\n",
       "      <td>tt10384606</td>\n",
       "      <td>8.9</td>\n",
       "      <td>559</td>\n",
       "    </tr>\n",
       "  </tbody>\n",
       "</table>\n",
       "</div>"
      ],
      "text/plain": [
       "     movie_id  averagerating  numvotes\n",
       "0  tt10356526            8.3        31\n",
       "1  tt10384606            8.9       559"
      ]
     },
     "execution_count": 7,
     "metadata": {},
     "output_type": "execute_result"
    }
   ],
   "source": [
    "movie_ratingsDF = pd.read_sql(\"select * from movie_ratings\", con=conn)\n",
    "movie_ratingsDF.head(2)"
   ]
  },
  {
   "cell_type": "markdown",
   "metadata": {},
   "source": [
    "## Daniel's Section: Relationship between genre and average rates/revenues"
   ]
  },
  {
   "cell_type": "markdown",
   "metadata": {},
   "source": [
    "### a. Does a movie's genre have an impact in mean average rates?"
   ]
  },
  {
   "cell_type": "markdown",
   "metadata": {},
   "source": [
    "- Step 1. Merging \"movie_basics\" and \"movie_ratings\" SQL tables"
   ]
  },
  {
   "cell_type": "code",
   "execution_count": 8,
   "metadata": {
    "scrolled": false
   },
   "outputs": [
    {
     "data": {
      "text/html": [
       "<div>\n",
       "<style scoped>\n",
       "    .dataframe tbody tr th:only-of-type {\n",
       "        vertical-align: middle;\n",
       "    }\n",
       "\n",
       "    .dataframe tbody tr th {\n",
       "        vertical-align: top;\n",
       "    }\n",
       "\n",
       "    .dataframe thead th {\n",
       "        text-align: right;\n",
       "    }\n",
       "</style>\n",
       "<table border=\"1\" class=\"dataframe\">\n",
       "  <thead>\n",
       "    <tr style=\"text-align: right;\">\n",
       "      <th></th>\n",
       "      <th>movie_id</th>\n",
       "      <th>primary_title</th>\n",
       "      <th>original_title</th>\n",
       "      <th>start_year</th>\n",
       "      <th>runtime_minutes</th>\n",
       "      <th>genres</th>\n",
       "      <th>movie_id</th>\n",
       "      <th>averagerating</th>\n",
       "      <th>numvotes</th>\n",
       "    </tr>\n",
       "  </thead>\n",
       "  <tbody>\n",
       "    <tr>\n",
       "      <th>0</th>\n",
       "      <td>tt0063540</td>\n",
       "      <td>Sunghursh</td>\n",
       "      <td>Sunghursh</td>\n",
       "      <td>2013</td>\n",
       "      <td>175.0</td>\n",
       "      <td>Action,Crime,Drama</td>\n",
       "      <td>tt0063540</td>\n",
       "      <td>7.0</td>\n",
       "      <td>77</td>\n",
       "    </tr>\n",
       "    <tr>\n",
       "      <th>1</th>\n",
       "      <td>tt0066787</td>\n",
       "      <td>One Day Before the Rainy Season</td>\n",
       "      <td>Ashad Ka Ek Din</td>\n",
       "      <td>2019</td>\n",
       "      <td>114.0</td>\n",
       "      <td>Biography,Drama</td>\n",
       "      <td>tt0066787</td>\n",
       "      <td>7.2</td>\n",
       "      <td>43</td>\n",
       "    </tr>\n",
       "    <tr>\n",
       "      <th>2</th>\n",
       "      <td>tt0069049</td>\n",
       "      <td>The Other Side of the Wind</td>\n",
       "      <td>The Other Side of the Wind</td>\n",
       "      <td>2018</td>\n",
       "      <td>122.0</td>\n",
       "      <td>Drama</td>\n",
       "      <td>tt0069049</td>\n",
       "      <td>6.9</td>\n",
       "      <td>4517</td>\n",
       "    </tr>\n",
       "    <tr>\n",
       "      <th>3</th>\n",
       "      <td>tt0069204</td>\n",
       "      <td>Sabse Bada Sukh</td>\n",
       "      <td>Sabse Bada Sukh</td>\n",
       "      <td>2018</td>\n",
       "      <td>NaN</td>\n",
       "      <td>Comedy,Drama</td>\n",
       "      <td>tt0069204</td>\n",
       "      <td>6.1</td>\n",
       "      <td>13</td>\n",
       "    </tr>\n",
       "    <tr>\n",
       "      <th>4</th>\n",
       "      <td>tt0100275</td>\n",
       "      <td>The Wandering Soap Opera</td>\n",
       "      <td>La Telenovela Errante</td>\n",
       "      <td>2017</td>\n",
       "      <td>80.0</td>\n",
       "      <td>Comedy,Drama,Fantasy</td>\n",
       "      <td>tt0100275</td>\n",
       "      <td>6.5</td>\n",
       "      <td>119</td>\n",
       "    </tr>\n",
       "  </tbody>\n",
       "</table>\n",
       "</div>"
      ],
      "text/plain": [
       "    movie_id                    primary_title              original_title  \\\n",
       "0  tt0063540                        Sunghursh                   Sunghursh   \n",
       "1  tt0066787  One Day Before the Rainy Season             Ashad Ka Ek Din   \n",
       "2  tt0069049       The Other Side of the Wind  The Other Side of the Wind   \n",
       "3  tt0069204                  Sabse Bada Sukh             Sabse Bada Sukh   \n",
       "4  tt0100275         The Wandering Soap Opera       La Telenovela Errante   \n",
       "\n",
       "   start_year  runtime_minutes                genres   movie_id  \\\n",
       "0        2013            175.0    Action,Crime,Drama  tt0063540   \n",
       "1        2019            114.0       Biography,Drama  tt0066787   \n",
       "2        2018            122.0                 Drama  tt0069049   \n",
       "3        2018              NaN          Comedy,Drama  tt0069204   \n",
       "4        2017             80.0  Comedy,Drama,Fantasy  tt0100275   \n",
       "\n",
       "   averagerating  numvotes  \n",
       "0            7.0        77  \n",
       "1            7.2        43  \n",
       "2            6.9      4517  \n",
       "3            6.1        13  \n",
       "4            6.5       119  "
      ]
     },
     "execution_count": 8,
     "metadata": {},
     "output_type": "execute_result"
    }
   ],
   "source": [
    "q = pd.read_sql(\"\"\"\n",
    "\n",
    "SELECT *\n",
    "FROM movie_basics b\n",
    "INNER JOIN movie_ratings r\n",
    "ON b.movie_id = r.movie_id\n",
    "\n",
    ";\n",
    "\"\"\", con=conn)\n",
    "q.head()"
   ]
  },
  {
   "cell_type": "markdown",
   "metadata": {},
   "source": [
    "- Step 2. Deleting rows with NAN values."
   ]
  },
  {
   "cell_type": "code",
   "execution_count": 9,
   "metadata": {
    "scrolled": true
   },
   "outputs": [
    {
     "data": {
      "text/plain": [
       "804"
      ]
     },
     "execution_count": 9,
     "metadata": {},
     "output_type": "execute_result"
    }
   ],
   "source": [
    "q['genres'].isna().sum()"
   ]
  },
  {
   "cell_type": "code",
   "execution_count": 10,
   "metadata": {},
   "outputs": [],
   "source": [
    "q.dropna(subset=['genres'], inplace=True)"
   ]
  },
  {
   "cell_type": "code",
   "execution_count": 11,
   "metadata": {
    "scrolled": true
   },
   "outputs": [
    {
     "data": {
      "text/plain": [
       "0"
      ]
     },
     "execution_count": 11,
     "metadata": {},
     "output_type": "execute_result"
    }
   ],
   "source": [
    "q['genres'].isna().sum()"
   ]
  },
  {
   "cell_type": "markdown",
   "metadata": {},
   "source": [
    "- Step 3. Creating a subset with 10 items, with the highest average ratings. Then, plot the results."
   ]
  },
  {
   "cell_type": "code",
   "execution_count": 70,
   "metadata": {},
   "outputs": [
    {
     "data": {
      "text/html": [
       "<div>\n",
       "<style scoped>\n",
       "    .dataframe tbody tr th:only-of-type {\n",
       "        vertical-align: middle;\n",
       "    }\n",
       "\n",
       "    .dataframe tbody tr th {\n",
       "        vertical-align: top;\n",
       "    }\n",
       "\n",
       "    .dataframe thead th {\n",
       "        text-align: right;\n",
       "    }\n",
       "</style>\n",
       "<table border=\"1\" class=\"dataframe\">\n",
       "  <thead>\n",
       "    <tr style=\"text-align: right;\">\n",
       "      <th></th>\n",
       "      <th>genres</th>\n",
       "      <th>start_year</th>\n",
       "      <th>runtime_minutes</th>\n",
       "      <th>averagerating</th>\n",
       "      <th>numvotes</th>\n",
       "    </tr>\n",
       "  </thead>\n",
       "  <tbody>\n",
       "    <tr>\n",
       "      <th>449</th>\n",
       "      <td>Comedy,Documentary,Fantasy</td>\n",
       "      <td>2015.0</td>\n",
       "      <td>70.0</td>\n",
       "      <td>9.4</td>\n",
       "      <td>5.0</td>\n",
       "    </tr>\n",
       "    <tr>\n",
       "      <th>633</th>\n",
       "      <td>Documentary,Family,Musical</td>\n",
       "      <td>2017.0</td>\n",
       "      <td>59.0</td>\n",
       "      <td>9.3</td>\n",
       "      <td>19.0</td>\n",
       "    </tr>\n",
       "    <tr>\n",
       "      <th>851</th>\n",
       "      <td>History,Sport</td>\n",
       "      <td>2016.0</td>\n",
       "      <td>NaN</td>\n",
       "      <td>9.2</td>\n",
       "      <td>5.0</td>\n",
       "    </tr>\n",
       "    <tr>\n",
       "      <th>837</th>\n",
       "      <td>Game-Show</td>\n",
       "      <td>2013.0</td>\n",
       "      <td>130.0</td>\n",
       "      <td>9.0</td>\n",
       "      <td>7.0</td>\n",
       "    </tr>\n",
       "    <tr>\n",
       "      <th>882</th>\n",
       "      <td>Music,Mystery</td>\n",
       "      <td>2012.0</td>\n",
       "      <td>NaN</td>\n",
       "      <td>9.0</td>\n",
       "      <td>5.0</td>\n",
       "    </tr>\n",
       "  </tbody>\n",
       "</table>\n",
       "</div>"
      ],
      "text/plain": [
       "                         genres  start_year  runtime_minutes  averagerating  \\\n",
       "449  Comedy,Documentary,Fantasy      2015.0             70.0            9.4   \n",
       "633  Documentary,Family,Musical      2017.0             59.0            9.3   \n",
       "851               History,Sport      2016.0              NaN            9.2   \n",
       "837                   Game-Show      2013.0            130.0            9.0   \n",
       "882               Music,Mystery      2012.0              NaN            9.0   \n",
       "\n",
       "     numvotes  \n",
       "449       5.0  \n",
       "633      19.0  \n",
       "851       5.0  \n",
       "837       7.0  \n",
       "882       5.0  "
      ]
     },
     "execution_count": 70,
     "metadata": {},
     "output_type": "execute_result"
    }
   ],
   "source": [
    "qmaxr= q.groupby('genres',  as_index=False).mean().nlargest(5, 'averagerating')\n",
    "qmaxr"
   ]
  },
  {
   "cell_type": "markdown",
   "metadata": {},
   "source": [
    "- Step 3. Creating a subset with 10 items, with the highest average ratings. Then, plot the results."
   ]
  },
  {
   "cell_type": "code",
   "execution_count": 71,
   "metadata": {
    "scrolled": false
   },
   "outputs": [
    {
     "data": {
      "image/png": "[encoded data removed]",
      "text/plain": [
       "<Figure size 432x288 with 1 Axes>"
      ]
     },
     "metadata": {},
     "output_type": "display_data"
    }
   ],
   "source": [
    "# Using seaborn library, we plot the 10 sample set from the dataset \"q\" with the highest average rating\n",
    "# X axis represents all genres distributed within the 50 sample set.\n",
    "# Y axis represents the average rating values.\n",
    "sns.set_style(\"darkgrid\")\n",
    "sns.barplot(x = 'genres', y = 'averagerating' , data = qmaxr)\n",
    "plt.xticks(rotation=45);\n",
    "plt.ylabel(\"Average rating\");\n",
    "plt.title(\"Genres with highest ratings\");\n",
    "plt.savefig(\"genres_high_ratings.png\",\n",
    "            bbox_inches =\"tight\",\n",
    "            orientation ='landscape');"
   ]
  },
  {
   "cell_type": "markdown",
   "metadata": {},
   "source": [
    "- Step 4. Creating a subset with 10 samples, with the lowest average ratings. Then, plot the results."
   ]
  },
  {
   "cell_type": "code",
   "execution_count": 68,
   "metadata": {
    "scrolled": false
   },
   "outputs": [
    {
     "data": {
      "text/html": [
       "<div>\n",
       "<style scoped>\n",
       "    .dataframe tbody tr th:only-of-type {\n",
       "        vertical-align: middle;\n",
       "    }\n",
       "\n",
       "    .dataframe tbody tr th {\n",
       "        vertical-align: top;\n",
       "    }\n",
       "\n",
       "    .dataframe thead th {\n",
       "        text-align: right;\n",
       "    }\n",
       "</style>\n",
       "<table border=\"1\" class=\"dataframe\">\n",
       "  <thead>\n",
       "    <tr style=\"text-align: right;\">\n",
       "      <th></th>\n",
       "      <th>genres</th>\n",
       "      <th>start_year</th>\n",
       "      <th>runtime_minutes</th>\n",
       "      <th>averagerating</th>\n",
       "      <th>numvotes</th>\n",
       "    </tr>\n",
       "  </thead>\n",
       "  <tbody>\n",
       "    <tr>\n",
       "      <th>527</th>\n",
       "      <td>Comedy,Musical,Sport</td>\n",
       "      <td>2015.0</td>\n",
       "      <td>101.0</td>\n",
       "      <td>1.4</td>\n",
       "      <td>28.0</td>\n",
       "    </tr>\n",
       "    <tr>\n",
       "      <th>153</th>\n",
       "      <td>Adult,Horror</td>\n",
       "      <td>2015.0</td>\n",
       "      <td>120.0</td>\n",
       "      <td>2.0</td>\n",
       "      <td>128.0</td>\n",
       "    </tr>\n",
       "    <tr>\n",
       "      <th>195</th>\n",
       "      <td>Adventure,Crime,Romance</td>\n",
       "      <td>2011.0</td>\n",
       "      <td>86.0</td>\n",
       "      <td>2.3</td>\n",
       "      <td>9.0</td>\n",
       "    </tr>\n",
       "    <tr>\n",
       "      <th>850</th>\n",
       "      <td>History,Sci-Fi,Thriller</td>\n",
       "      <td>2017.0</td>\n",
       "      <td>120.0</td>\n",
       "      <td>2.3</td>\n",
       "      <td>227.0</td>\n",
       "    </tr>\n",
       "    <tr>\n",
       "      <th>594</th>\n",
       "      <td>Crime,Music</td>\n",
       "      <td>2018.0</td>\n",
       "      <td>94.0</td>\n",
       "      <td>2.4</td>\n",
       "      <td>88.0</td>\n",
       "    </tr>\n",
       "  </tbody>\n",
       "</table>\n",
       "</div>"
      ],
      "text/plain": [
       "                      genres  start_year  runtime_minutes  averagerating  \\\n",
       "527     Comedy,Musical,Sport      2015.0            101.0            1.4   \n",
       "153             Adult,Horror      2015.0            120.0            2.0   \n",
       "195  Adventure,Crime,Romance      2011.0             86.0            2.3   \n",
       "850  History,Sci-Fi,Thriller      2017.0            120.0            2.3   \n",
       "594              Crime,Music      2018.0             94.0            2.4   \n",
       "\n",
       "     numvotes  \n",
       "527      28.0  \n",
       "153     128.0  \n",
       "195       9.0  \n",
       "850     227.0  \n",
       "594      88.0  "
      ]
     },
     "execution_count": 68,
     "metadata": {},
     "output_type": "execute_result"
    }
   ],
   "source": [
    "qminr = q.groupby('genres',  as_index=False).mean().nsmallest(5, 'averagerating')\n",
    "qminr"
   ]
  },
  {
   "cell_type": "code",
   "execution_count": 69,
   "metadata": {
    "scrolled": false
   },
   "outputs": [
    {
     "data": {
      "image/png": "[encoded data removed]",
      "text/plain": [
       "<Figure size 432x288 with 1 Axes>"
      ]
     },
     "metadata": {},
     "output_type": "display_data"
    }
   ],
   "source": [
    "# Using seaborn library, we plot the 50 sample set from the dataset \"q\" with the lowest average rating.\n",
    "# X axis represents all genres distributed within the 50 sample set.\n",
    "# Y axis represents the average rating values.\n",
    "sns.set_style(\"darkgrid\")\n",
    "sns.barplot(data=qminr, x=\"genres\", y=\"averagerating\");\n",
    "plt.xticks(rotation=45);\n",
    "plt.ylabel(\"Average rating\");\n",
    "plt.title(\"Genres with lowest ratings\");\n",
    "plt.savefig(\"genres_low_ratings.png\",\n",
    "            bbox_inches =\"tight\",\n",
    "            orientation ='landscape');"
   ]
  },
  {
   "cell_type": "markdown",
   "metadata": {},
   "source": [
    "#### What can be conclued for question a?\n",
    "- For the highest average rating movies, DOCUMENTARY is the most common genre within our 50 samples. Moreover, it is combined with other genres like Drama, Music or Sport.\n",
    "- For the lowest average rating movies, DRAMA is the most common genre within our 50 samples. Moreover, it is combined with other genres like Adventure, Horror or Thriller."
   ]
  },
  {
   "cell_type": "markdown",
   "metadata": {},
   "source": [
    "### b. Does a movie's genre have an impact in mean gross revenues?"
   ]
  },
  {
   "cell_type": "markdown",
   "metadata": {},
   "source": [
    "- Step 1. Explore where to merge the dataframes (Where? Movie titles)"
   ]
  },
  {
   "cell_type": "code",
   "execution_count": 16,
   "metadata": {},
   "outputs": [],
   "source": [
    "# df.head() gives by default the first 5 rows from the dataframe\n",
    "# df.tail() gives by default the last 5 rows from the dataframe"
   ]
  },
  {
   "cell_type": "code",
   "execution_count": 17,
   "metadata": {
    "scrolled": true
   },
   "outputs": [
    {
     "data": {
      "text/html": [
       "<div>\n",
       "<style scoped>\n",
       "    .dataframe tbody tr th:only-of-type {\n",
       "        vertical-align: middle;\n",
       "    }\n",
       "\n",
       "    .dataframe tbody tr th {\n",
       "        vertical-align: top;\n",
       "    }\n",
       "\n",
       "    .dataframe thead th {\n",
       "        text-align: right;\n",
       "    }\n",
       "</style>\n",
       "<table border=\"1\" class=\"dataframe\">\n",
       "  <thead>\n",
       "    <tr style=\"text-align: right;\">\n",
       "      <th></th>\n",
       "      <th>movie_id</th>\n",
       "      <th>primary_title</th>\n",
       "      <th>original_title</th>\n",
       "      <th>start_year</th>\n",
       "      <th>runtime_minutes</th>\n",
       "      <th>genres</th>\n",
       "      <th>movie_id</th>\n",
       "      <th>averagerating</th>\n",
       "      <th>numvotes</th>\n",
       "    </tr>\n",
       "  </thead>\n",
       "  <tbody>\n",
       "    <tr>\n",
       "      <th>0</th>\n",
       "      <td>tt0063540</td>\n",
       "      <td>Sunghursh</td>\n",
       "      <td>Sunghursh</td>\n",
       "      <td>2013</td>\n",
       "      <td>175.0</td>\n",
       "      <td>Action,Crime,Drama</td>\n",
       "      <td>tt0063540</td>\n",
       "      <td>7.0</td>\n",
       "      <td>77</td>\n",
       "    </tr>\n",
       "    <tr>\n",
       "      <th>1</th>\n",
       "      <td>tt0066787</td>\n",
       "      <td>One Day Before the Rainy Season</td>\n",
       "      <td>Ashad Ka Ek Din</td>\n",
       "      <td>2019</td>\n",
       "      <td>114.0</td>\n",
       "      <td>Biography,Drama</td>\n",
       "      <td>tt0066787</td>\n",
       "      <td>7.2</td>\n",
       "      <td>43</td>\n",
       "    </tr>\n",
       "  </tbody>\n",
       "</table>\n",
       "</div>"
      ],
      "text/plain": [
       "    movie_id                    primary_title   original_title  start_year  \\\n",
       "0  tt0063540                        Sunghursh        Sunghursh        2013   \n",
       "1  tt0066787  One Day Before the Rainy Season  Ashad Ka Ek Din        2019   \n",
       "\n",
       "   runtime_minutes              genres   movie_id  averagerating  numvotes  \n",
       "0            175.0  Action,Crime,Drama  tt0063540            7.0        77  \n",
       "1            114.0     Biography,Drama  tt0066787            7.2        43  "
      ]
     },
     "execution_count": 17,
     "metadata": {},
     "output_type": "execute_result"
    }
   ],
   "source": [
    "q.head(2)"
   ]
  },
  {
   "cell_type": "code",
   "execution_count": 18,
   "metadata": {
    "scrolled": true
   },
   "outputs": [
    {
     "data": {
      "text/html": [
       "<div>\n",
       "<style scoped>\n",
       "    .dataframe tbody tr th:only-of-type {\n",
       "        vertical-align: middle;\n",
       "    }\n",
       "\n",
       "    .dataframe tbody tr th {\n",
       "        vertical-align: top;\n",
       "    }\n",
       "\n",
       "    .dataframe thead th {\n",
       "        text-align: right;\n",
       "    }\n",
       "</style>\n",
       "<table border=\"1\" class=\"dataframe\">\n",
       "  <thead>\n",
       "    <tr style=\"text-align: right;\">\n",
       "      <th></th>\n",
       "      <th>title</th>\n",
       "      <th>studio</th>\n",
       "      <th>domestic_gross</th>\n",
       "      <th>foreign_gross</th>\n",
       "      <th>year</th>\n",
       "    </tr>\n",
       "  </thead>\n",
       "  <tbody>\n",
       "    <tr>\n",
       "      <th>0</th>\n",
       "      <td>Toy Story 3</td>\n",
       "      <td>BV</td>\n",
       "      <td>415000000.0</td>\n",
       "      <td>652000000</td>\n",
       "      <td>2010</td>\n",
       "    </tr>\n",
       "    <tr>\n",
       "      <th>1</th>\n",
       "      <td>Alice in Wonderland (2010)</td>\n",
       "      <td>BV</td>\n",
       "      <td>334200000.0</td>\n",
       "      <td>691300000</td>\n",
       "      <td>2010</td>\n",
       "    </tr>\n",
       "  </tbody>\n",
       "</table>\n",
       "</div>"
      ],
      "text/plain": [
       "                        title studio  domestic_gross foreign_gross  year\n",
       "0                 Toy Story 3     BV     415000000.0     652000000  2010\n",
       "1  Alice in Wonderland (2010)     BV     334200000.0     691300000  2010"
      ]
     },
     "execution_count": 18,
     "metadata": {},
     "output_type": "execute_result"
    }
   ],
   "source": [
    "bomDF.head(2)"
   ]
  },
  {
   "cell_type": "markdown",
   "metadata": {},
   "source": [
    "- Step 2. Change name in bomDF['title'] column to bomDF['primary_title']"
   ]
  },
  {
   "cell_type": "code",
   "execution_count": 19,
   "metadata": {},
   "outputs": [],
   "source": [
    "# For the dataframe merging to be successful, we must change the column name in any of the two dataframes.\n",
    "bomDF.rename(columns = {'title':'primary_title'}, inplace = True)"
   ]
  },
  {
   "cell_type": "code",
   "execution_count": 20,
   "metadata": {
    "scrolled": true
   },
   "outputs": [
    {
     "data": {
      "text/html": [
       "<div>\n",
       "<style scoped>\n",
       "    .dataframe tbody tr th:only-of-type {\n",
       "        vertical-align: middle;\n",
       "    }\n",
       "\n",
       "    .dataframe tbody tr th {\n",
       "        vertical-align: top;\n",
       "    }\n",
       "\n",
       "    .dataframe thead th {\n",
       "        text-align: right;\n",
       "    }\n",
       "</style>\n",
       "<table border=\"1\" class=\"dataframe\">\n",
       "  <thead>\n",
       "    <tr style=\"text-align: right;\">\n",
       "      <th></th>\n",
       "      <th>primary_title</th>\n",
       "      <th>studio</th>\n",
       "      <th>domestic_gross</th>\n",
       "      <th>foreign_gross</th>\n",
       "      <th>year</th>\n",
       "    </tr>\n",
       "  </thead>\n",
       "  <tbody>\n",
       "    <tr>\n",
       "      <th>0</th>\n",
       "      <td>Toy Story 3</td>\n",
       "      <td>BV</td>\n",
       "      <td>415000000.0</td>\n",
       "      <td>652000000</td>\n",
       "      <td>2010</td>\n",
       "    </tr>\n",
       "    <tr>\n",
       "      <th>1</th>\n",
       "      <td>Alice in Wonderland (2010)</td>\n",
       "      <td>BV</td>\n",
       "      <td>334200000.0</td>\n",
       "      <td>691300000</td>\n",
       "      <td>2010</td>\n",
       "    </tr>\n",
       "  </tbody>\n",
       "</table>\n",
       "</div>"
      ],
      "text/plain": [
       "                primary_title studio  domestic_gross foreign_gross  year\n",
       "0                 Toy Story 3     BV     415000000.0     652000000  2010\n",
       "1  Alice in Wonderland (2010)     BV     334200000.0     691300000  2010"
      ]
     },
     "execution_count": 20,
     "metadata": {},
     "output_type": "execute_result"
    }
   ],
   "source": [
    "bomDF.head(2)"
   ]
  },
  {
   "cell_type": "markdown",
   "metadata": {},
   "source": [
    "- Step 3. Merge (type: inner) the \"q\" dataframe with \"bomDF\" dataframe on 'primary_title'"
   ]
  },
  {
   "cell_type": "code",
   "execution_count": 21,
   "metadata": {},
   "outputs": [],
   "source": [
    "# the df.merge() function joins 2 dataframes by the inner type (default) on the column we want it to ('primary_title')\n",
    "full_merge = bomDF.merge(q,on='primary_title')"
   ]
  },
  {
   "cell_type": "code",
   "execution_count": 22,
   "metadata": {
    "scrolled": true
   },
   "outputs": [
    {
     "data": {
      "text/html": [
       "<div>\n",
       "<style scoped>\n",
       "    .dataframe tbody tr th:only-of-type {\n",
       "        vertical-align: middle;\n",
       "    }\n",
       "\n",
       "    .dataframe tbody tr th {\n",
       "        vertical-align: top;\n",
       "    }\n",
       "\n",
       "    .dataframe thead th {\n",
       "        text-align: right;\n",
       "    }\n",
       "</style>\n",
       "<table border=\"1\" class=\"dataframe\">\n",
       "  <thead>\n",
       "    <tr style=\"text-align: right;\">\n",
       "      <th></th>\n",
       "      <th>primary_title</th>\n",
       "      <th>studio</th>\n",
       "      <th>domestic_gross</th>\n",
       "      <th>foreign_gross</th>\n",
       "      <th>year</th>\n",
       "      <th>movie_id</th>\n",
       "      <th>original_title</th>\n",
       "      <th>start_year</th>\n",
       "      <th>runtime_minutes</th>\n",
       "      <th>genres</th>\n",
       "      <th>movie_id</th>\n",
       "      <th>averagerating</th>\n",
       "      <th>numvotes</th>\n",
       "    </tr>\n",
       "  </thead>\n",
       "  <tbody>\n",
       "    <tr>\n",
       "      <th>0</th>\n",
       "      <td>Toy Story 3</td>\n",
       "      <td>BV</td>\n",
       "      <td>415000000.0</td>\n",
       "      <td>652000000</td>\n",
       "      <td>2010</td>\n",
       "      <td>tt0435761</td>\n",
       "      <td>Toy Story 3</td>\n",
       "      <td>2010</td>\n",
       "      <td>103.0</td>\n",
       "      <td>Adventure,Animation,Comedy</td>\n",
       "      <td>tt0435761</td>\n",
       "      <td>8.3</td>\n",
       "      <td>682218</td>\n",
       "    </tr>\n",
       "    <tr>\n",
       "      <th>1</th>\n",
       "      <td>Inception</td>\n",
       "      <td>WB</td>\n",
       "      <td>292600000.0</td>\n",
       "      <td>535700000</td>\n",
       "      <td>2010</td>\n",
       "      <td>tt1375666</td>\n",
       "      <td>Inception</td>\n",
       "      <td>2010</td>\n",
       "      <td>148.0</td>\n",
       "      <td>Action,Adventure,Sci-Fi</td>\n",
       "      <td>tt1375666</td>\n",
       "      <td>8.8</td>\n",
       "      <td>1841066</td>\n",
       "    </tr>\n",
       "    <tr>\n",
       "      <th>2</th>\n",
       "      <td>Shrek Forever After</td>\n",
       "      <td>P/DW</td>\n",
       "      <td>238700000.0</td>\n",
       "      <td>513900000</td>\n",
       "      <td>2010</td>\n",
       "      <td>tt0892791</td>\n",
       "      <td>Shrek Forever After</td>\n",
       "      <td>2010</td>\n",
       "      <td>93.0</td>\n",
       "      <td>Adventure,Animation,Comedy</td>\n",
       "      <td>tt0892791</td>\n",
       "      <td>6.3</td>\n",
       "      <td>167532</td>\n",
       "    </tr>\n",
       "    <tr>\n",
       "      <th>3</th>\n",
       "      <td>The Twilight Saga: Eclipse</td>\n",
       "      <td>Sum.</td>\n",
       "      <td>300500000.0</td>\n",
       "      <td>398000000</td>\n",
       "      <td>2010</td>\n",
       "      <td>tt1325004</td>\n",
       "      <td>The Twilight Saga: Eclipse</td>\n",
       "      <td>2010</td>\n",
       "      <td>124.0</td>\n",
       "      <td>Adventure,Drama,Fantasy</td>\n",
       "      <td>tt1325004</td>\n",
       "      <td>5.0</td>\n",
       "      <td>211733</td>\n",
       "    </tr>\n",
       "    <tr>\n",
       "      <th>4</th>\n",
       "      <td>Iron Man 2</td>\n",
       "      <td>Par.</td>\n",
       "      <td>312400000.0</td>\n",
       "      <td>311500000</td>\n",
       "      <td>2010</td>\n",
       "      <td>tt1228705</td>\n",
       "      <td>Iron Man 2</td>\n",
       "      <td>2010</td>\n",
       "      <td>124.0</td>\n",
       "      <td>Action,Adventure,Sci-Fi</td>\n",
       "      <td>tt1228705</td>\n",
       "      <td>7.0</td>\n",
       "      <td>657690</td>\n",
       "    </tr>\n",
       "  </tbody>\n",
       "</table>\n",
       "</div>"
      ],
      "text/plain": [
       "                primary_title studio  domestic_gross foreign_gross  year  \\\n",
       "0                 Toy Story 3     BV     415000000.0     652000000  2010   \n",
       "1                   Inception     WB     292600000.0     535700000  2010   \n",
       "2         Shrek Forever After   P/DW     238700000.0     513900000  2010   \n",
       "3  The Twilight Saga: Eclipse   Sum.     300500000.0     398000000  2010   \n",
       "4                  Iron Man 2   Par.     312400000.0     311500000  2010   \n",
       "\n",
       "    movie_id              original_title  start_year  runtime_minutes  \\\n",
       "0  tt0435761                 Toy Story 3        2010            103.0   \n",
       "1  tt1375666                   Inception        2010            148.0   \n",
       "2  tt0892791         Shrek Forever After        2010             93.0   \n",
       "3  tt1325004  The Twilight Saga: Eclipse        2010            124.0   \n",
       "4  tt1228705                  Iron Man 2        2010            124.0   \n",
       "\n",
       "                       genres   movie_id  averagerating  numvotes  \n",
       "0  Adventure,Animation,Comedy  tt0435761            8.3    682218  \n",
       "1     Action,Adventure,Sci-Fi  tt1375666            8.8   1841066  \n",
       "2  Adventure,Animation,Comedy  tt0892791            6.3    167532  \n",
       "3     Adventure,Drama,Fantasy  tt1325004            5.0    211733  \n",
       "4     Action,Adventure,Sci-Fi  tt1228705            7.0    657690  "
      ]
     },
     "execution_count": 22,
     "metadata": {},
     "output_type": "execute_result"
    }
   ],
   "source": [
    "full_merge.head()"
   ]
  },
  {
   "cell_type": "markdown",
   "metadata": {},
   "source": [
    "- Step 4. Change full_merge['foreign_gross'] to float64, retire NaN values and then create a new column where domestic and foreign gross are summed."
   ]
  },
  {
   "cell_type": "code",
   "execution_count": 23,
   "metadata": {
    "scrolled": true
   },
   "outputs": [
    {
     "name": "stdout",
     "output_type": "stream",
     "text": [
      "float64\n",
      "object\n"
     ]
    }
   ],
   "source": [
    "print(full_merge['domestic_gross'].dtypes)\n",
    "print(full_merge['foreign_gross'].dtypes)"
   ]
  },
  {
   "cell_type": "code",
   "execution_count": 24,
   "metadata": {},
   "outputs": [],
   "source": [
    "full_merge['foreign_gross'] = full_merge['foreign_gross'].replace(',','', regex=True)"
   ]
  },
  {
   "cell_type": "code",
   "execution_count": 25,
   "metadata": {
    "scrolled": true
   },
   "outputs": [],
   "source": [
    "full_merge['foreign_gross'] = full_merge['foreign_gross'].astype(float)"
   ]
  },
  {
   "cell_type": "code",
   "execution_count": 26,
   "metadata": {},
   "outputs": [
    {
     "data": {
      "text/plain": [
       "1195"
      ]
     },
     "execution_count": 26,
     "metadata": {},
     "output_type": "execute_result"
    }
   ],
   "source": [
    "full_merge['foreign_gross'].isna().sum()"
   ]
  },
  {
   "cell_type": "code",
   "execution_count": 27,
   "metadata": {},
   "outputs": [],
   "source": [
    "full_merge.dropna(subset=['foreign_gross'], inplace=True)"
   ]
  },
  {
   "cell_type": "code",
   "execution_count": 28,
   "metadata": {},
   "outputs": [
    {
     "data": {
      "text/plain": [
       "0"
      ]
     },
     "execution_count": 28,
     "metadata": {},
     "output_type": "execute_result"
    }
   ],
   "source": [
    "full_merge['foreign_gross'].isna().sum()"
   ]
  },
  {
   "cell_type": "code",
   "execution_count": 29,
   "metadata": {},
   "outputs": [
    {
     "name": "stdout",
     "output_type": "stream",
     "text": [
      "float64\n",
      "float64\n"
     ]
    }
   ],
   "source": [
    "print(full_merge['domestic_gross'].dtypes)\n",
    "print(full_merge['foreign_gross'].dtypes)"
   ]
  },
  {
   "cell_type": "code",
   "execution_count": 30,
   "metadata": {},
   "outputs": [],
   "source": [
    "full_merge['global_sum'] = full_merge['domestic_gross'] + full_merge['foreign_gross']"
   ]
  },
  {
   "cell_type": "code",
   "execution_count": 31,
   "metadata": {
    "scrolled": true
   },
   "outputs": [],
   "source": [
    "full_merge['global_sum'] = full_merge['global_sum'].astype(float)"
   ]
  },
  {
   "cell_type": "code",
   "execution_count": 32,
   "metadata": {},
   "outputs": [
    {
     "data": {
      "text/html": [
       "<div>\n",
       "<style scoped>\n",
       "    .dataframe tbody tr th:only-of-type {\n",
       "        vertical-align: middle;\n",
       "    }\n",
       "\n",
       "    .dataframe tbody tr th {\n",
       "        vertical-align: top;\n",
       "    }\n",
       "\n",
       "    .dataframe thead th {\n",
       "        text-align: right;\n",
       "    }\n",
       "</style>\n",
       "<table border=\"1\" class=\"dataframe\">\n",
       "  <thead>\n",
       "    <tr style=\"text-align: right;\">\n",
       "      <th></th>\n",
       "      <th>primary_title</th>\n",
       "      <th>studio</th>\n",
       "      <th>domestic_gross</th>\n",
       "      <th>foreign_gross</th>\n",
       "      <th>year</th>\n",
       "      <th>movie_id</th>\n",
       "      <th>original_title</th>\n",
       "      <th>start_year</th>\n",
       "      <th>runtime_minutes</th>\n",
       "      <th>genres</th>\n",
       "      <th>movie_id</th>\n",
       "      <th>averagerating</th>\n",
       "      <th>numvotes</th>\n",
       "      <th>global_sum</th>\n",
       "    </tr>\n",
       "  </thead>\n",
       "  <tbody>\n",
       "    <tr>\n",
       "      <th>0</th>\n",
       "      <td>Toy Story 3</td>\n",
       "      <td>BV</td>\n",
       "      <td>415000000.0</td>\n",
       "      <td>652000000.0</td>\n",
       "      <td>2010</td>\n",
       "      <td>tt0435761</td>\n",
       "      <td>Toy Story 3</td>\n",
       "      <td>2010</td>\n",
       "      <td>103.0</td>\n",
       "      <td>Adventure,Animation,Comedy</td>\n",
       "      <td>tt0435761</td>\n",
       "      <td>8.3</td>\n",
       "      <td>682218</td>\n",
       "      <td>1.067000e+09</td>\n",
       "    </tr>\n",
       "    <tr>\n",
       "      <th>1</th>\n",
       "      <td>Inception</td>\n",
       "      <td>WB</td>\n",
       "      <td>292600000.0</td>\n",
       "      <td>535700000.0</td>\n",
       "      <td>2010</td>\n",
       "      <td>tt1375666</td>\n",
       "      <td>Inception</td>\n",
       "      <td>2010</td>\n",
       "      <td>148.0</td>\n",
       "      <td>Action,Adventure,Sci-Fi</td>\n",
       "      <td>tt1375666</td>\n",
       "      <td>8.8</td>\n",
       "      <td>1841066</td>\n",
       "      <td>8.283000e+08</td>\n",
       "    </tr>\n",
       "  </tbody>\n",
       "</table>\n",
       "</div>"
      ],
      "text/plain": [
       "  primary_title studio  domestic_gross  foreign_gross  year   movie_id  \\\n",
       "0   Toy Story 3     BV     415000000.0    652000000.0  2010  tt0435761   \n",
       "1     Inception     WB     292600000.0    535700000.0  2010  tt1375666   \n",
       "\n",
       "  original_title  start_year  runtime_minutes                      genres  \\\n",
       "0    Toy Story 3        2010            103.0  Adventure,Animation,Comedy   \n",
       "1      Inception        2010            148.0     Action,Adventure,Sci-Fi   \n",
       "\n",
       "    movie_id  averagerating  numvotes    global_sum  \n",
       "0  tt0435761            8.3    682218  1.067000e+09  \n",
       "1  tt1375666            8.8   1841066  8.283000e+08  "
      ]
     },
     "execution_count": 32,
     "metadata": {},
     "output_type": "execute_result"
    }
   ],
   "source": [
    "full_merge.head(2)"
   ]
  },
  {
   "cell_type": "markdown",
   "metadata": {},
   "source": [
    "- Step 5. Create a subset with 10 samples, with the highest global gross (sum of domestic and foreign)."
   ]
  },
  {
   "cell_type": "code",
   "execution_count": 64,
   "metadata": {},
   "outputs": [
    {
     "data": {
      "text/html": [
       "<div>\n",
       "<style scoped>\n",
       "    .dataframe tbody tr th:only-of-type {\n",
       "        vertical-align: middle;\n",
       "    }\n",
       "\n",
       "    .dataframe tbody tr th {\n",
       "        vertical-align: top;\n",
       "    }\n",
       "\n",
       "    .dataframe thead th {\n",
       "        text-align: right;\n",
       "    }\n",
       "</style>\n",
       "<table border=\"1\" class=\"dataframe\">\n",
       "  <thead>\n",
       "    <tr style=\"text-align: right;\">\n",
       "      <th></th>\n",
       "      <th>genres</th>\n",
       "      <th>domestic_gross</th>\n",
       "      <th>foreign_gross</th>\n",
       "      <th>year</th>\n",
       "      <th>start_year</th>\n",
       "      <th>runtime_minutes</th>\n",
       "      <th>averagerating</th>\n",
       "      <th>numvotes</th>\n",
       "      <th>global_sum</th>\n",
       "    </tr>\n",
       "  </thead>\n",
       "  <tbody>\n",
       "    <tr>\n",
       "      <th>88</th>\n",
       "      <td>Adventure,Drama,Sport</td>\n",
       "      <td>4.007000e+08</td>\n",
       "      <td>8.757000e+08</td>\n",
       "      <td>2013.000000</td>\n",
       "      <td>2010.000000</td>\n",
       "      <td>93.000000</td>\n",
       "      <td>6.200000</td>\n",
       "      <td>62311.000000</td>\n",
       "      <td>1.276400e+09</td>\n",
       "    </tr>\n",
       "    <tr>\n",
       "      <th>193</th>\n",
       "      <td>Documentary,Drama,Sport</td>\n",
       "      <td>4.126000e+08</td>\n",
       "      <td>4.093000e+08</td>\n",
       "      <td>2017.000000</td>\n",
       "      <td>2016.000000</td>\n",
       "      <td>75.000000</td>\n",
       "      <td>6.900000</td>\n",
       "      <td>13.000000</td>\n",
       "      <td>8.219000e+08</td>\n",
       "    </tr>\n",
       "    <tr>\n",
       "      <th>261</th>\n",
       "      <td>Sci-Fi</td>\n",
       "      <td>4.126000e+08</td>\n",
       "      <td>4.093000e+08</td>\n",
       "      <td>2017.000000</td>\n",
       "      <td>2014.000000</td>\n",
       "      <td>60.000000</td>\n",
       "      <td>4.200000</td>\n",
       "      <td>20.000000</td>\n",
       "      <td>8.219000e+08</td>\n",
       "    </tr>\n",
       "    <tr>\n",
       "      <th>93</th>\n",
       "      <td>Adventure,Fantasy</td>\n",
       "      <td>1.929000e+08</td>\n",
       "      <td>5.111333e+08</td>\n",
       "      <td>2013.333333</td>\n",
       "      <td>2013.333333</td>\n",
       "      <td>139.666667</td>\n",
       "      <td>7.166667</td>\n",
       "      <td>375770.333333</td>\n",
       "      <td>7.040333e+08</td>\n",
       "    </tr>\n",
       "    <tr>\n",
       "      <th>243</th>\n",
       "      <td>Fantasy,Romance</td>\n",
       "      <td>2.005215e+08</td>\n",
       "      <td>4.585000e+08</td>\n",
       "      <td>2012.500000</td>\n",
       "      <td>2011.000000</td>\n",
       "      <td>107.000000</td>\n",
       "      <td>6.400000</td>\n",
       "      <td>2866.000000</td>\n",
       "      <td>6.590215e+08</td>\n",
       "    </tr>\n",
       "    <tr>\n",
       "      <th>87</th>\n",
       "      <td>Adventure,Drama,Sci-Fi</td>\n",
       "      <td>2.082000e+08</td>\n",
       "      <td>4.455500e+08</td>\n",
       "      <td>2014.500000</td>\n",
       "      <td>2014.500000</td>\n",
       "      <td>156.500000</td>\n",
       "      <td>8.300000</td>\n",
       "      <td>989725.000000</td>\n",
       "      <td>6.537500e+08</td>\n",
       "    </tr>\n",
       "    <tr>\n",
       "      <th>11</th>\n",
       "      <td>Action,Adventure,Sci-Fi</td>\n",
       "      <td>2.396196e+08</td>\n",
       "      <td>3.611174e+08</td>\n",
       "      <td>2014.108696</td>\n",
       "      <td>2014.021739</td>\n",
       "      <td>130.152174</td>\n",
       "      <td>6.808696</td>\n",
       "      <td>428328.282609</td>\n",
       "      <td>6.007370e+08</td>\n",
       "    </tr>\n",
       "    <tr>\n",
       "      <th>165</th>\n",
       "      <td>Comedy,Mystery</td>\n",
       "      <td>2.545000e+08</td>\n",
       "      <td>3.323000e+08</td>\n",
       "      <td>2011.000000</td>\n",
       "      <td>2011.000000</td>\n",
       "      <td>102.000000</td>\n",
       "      <td>6.500000</td>\n",
       "      <td>432800.000000</td>\n",
       "      <td>5.868000e+08</td>\n",
       "    </tr>\n",
       "    <tr>\n",
       "      <th>25</th>\n",
       "      <td>Action,Comedy,Mystery</td>\n",
       "      <td>2.000000e+06</td>\n",
       "      <td>5.421000e+08</td>\n",
       "      <td>2018.000000</td>\n",
       "      <td>2018.000000</td>\n",
       "      <td>121.000000</td>\n",
       "      <td>6.100000</td>\n",
       "      <td>1250.000000</td>\n",
       "      <td>5.441000e+08</td>\n",
       "    </tr>\n",
       "    <tr>\n",
       "      <th>125</th>\n",
       "      <td>Biography,Drama,Musical</td>\n",
       "      <td>1.743000e+08</td>\n",
       "      <td>2.607000e+08</td>\n",
       "      <td>2017.000000</td>\n",
       "      <td>2017.000000</td>\n",
       "      <td>105.000000</td>\n",
       "      <td>7.600000</td>\n",
       "      <td>199663.000000</td>\n",
       "      <td>4.350000e+08</td>\n",
       "    </tr>\n",
       "  </tbody>\n",
       "</table>\n",
       "</div>"
      ],
      "text/plain": [
       "                      genres  domestic_gross  foreign_gross         year  \\\n",
       "88     Adventure,Drama,Sport    4.007000e+08   8.757000e+08  2013.000000   \n",
       "193  Documentary,Drama,Sport    4.126000e+08   4.093000e+08  2017.000000   \n",
       "261                   Sci-Fi    4.126000e+08   4.093000e+08  2017.000000   \n",
       "93         Adventure,Fantasy    1.929000e+08   5.111333e+08  2013.333333   \n",
       "243          Fantasy,Romance    2.005215e+08   4.585000e+08  2012.500000   \n",
       "87    Adventure,Drama,Sci-Fi    2.082000e+08   4.455500e+08  2014.500000   \n",
       "11   Action,Adventure,Sci-Fi    2.396196e+08   3.611174e+08  2014.108696   \n",
       "165           Comedy,Mystery    2.545000e+08   3.323000e+08  2011.000000   \n",
       "25     Action,Comedy,Mystery    2.000000e+06   5.421000e+08  2018.000000   \n",
       "125  Biography,Drama,Musical    1.743000e+08   2.607000e+08  2017.000000   \n",
       "\n",
       "      start_year  runtime_minutes  averagerating       numvotes    global_sum  \n",
       "88   2010.000000        93.000000       6.200000   62311.000000  1.276400e+09  \n",
       "193  2016.000000        75.000000       6.900000      13.000000  8.219000e+08  \n",
       "261  2014.000000        60.000000       4.200000      20.000000  8.219000e+08  \n",
       "93   2013.333333       139.666667       7.166667  375770.333333  7.040333e+08  \n",
       "243  2011.000000       107.000000       6.400000    2866.000000  6.590215e+08  \n",
       "87   2014.500000       156.500000       8.300000  989725.000000  6.537500e+08  \n",
       "11   2014.021739       130.152174       6.808696  428328.282609  6.007370e+08  \n",
       "165  2011.000000       102.000000       6.500000  432800.000000  5.868000e+08  \n",
       "25   2018.000000       121.000000       6.100000    1250.000000  5.441000e+08  \n",
       "125  2017.000000       105.000000       7.600000  199663.000000  4.350000e+08  "
      ]
     },
     "execution_count": 64,
     "metadata": {},
     "output_type": "execute_result"
    }
   ],
   "source": [
    "full_merge_max = full_merge.groupby('genres',  as_index=False).mean().nlargest(5, 'global_sum')\n",
    "full_merge_max"
   ]
  },
  {
   "cell_type": "code",
   "execution_count": 65,
   "metadata": {},
   "outputs": [
    {
     "data": {
      "image/png": "[encoded data removed]",
      "text/plain": [
       "<Figure size 432x288 with 1 Axes>"
      ]
     },
     "metadata": {},
     "output_type": "display_data"
    }
   ],
   "source": [
    "# Using seaborn library, we plot the 50 sample set from the dataset \"full_merge\" with the highest revenues\n",
    "# X axis represents all genres distributed within the 50 sample set.\n",
    "# Y axis represents the revenues values.\n",
    "sns.set_style(\"darkgrid\")\n",
    "sns.barplot(data=full_merge_max, x=\"genres\", y=\"global_sum\");\n",
    "plt.xticks(rotation=45);\n",
    "plt.ylabel(\"Gross (Billions of dollars)\");\n",
    "plt.title(\"Highest gross genres\");\n",
    "plt.savefig(\"genres_high_gross.png\",\n",
    "            bbox_inches =\"tight\",\n",
    "            orientation ='landscape');"
   ]
  },
  {
   "cell_type": "markdown",
   "metadata": {},
   "source": [
    "- Step 6. Create a subset with 10 samples, with the lowest global gross (sum of domestic and foreign)."
   ]
  },
  {
   "cell_type": "code",
   "execution_count": 66,
   "metadata": {},
   "outputs": [
    {
     "data": {
      "text/html": [
       "<div>\n",
       "<style scoped>\n",
       "    .dataframe tbody tr th:only-of-type {\n",
       "        vertical-align: middle;\n",
       "    }\n",
       "\n",
       "    .dataframe tbody tr th {\n",
       "        vertical-align: top;\n",
       "    }\n",
       "\n",
       "    .dataframe thead th {\n",
       "        text-align: right;\n",
       "    }\n",
       "</style>\n",
       "<table border=\"1\" class=\"dataframe\">\n",
       "  <thead>\n",
       "    <tr style=\"text-align: right;\">\n",
       "      <th></th>\n",
       "      <th>genres</th>\n",
       "      <th>domestic_gross</th>\n",
       "      <th>foreign_gross</th>\n",
       "      <th>year</th>\n",
       "      <th>start_year</th>\n",
       "      <th>runtime_minutes</th>\n",
       "      <th>averagerating</th>\n",
       "      <th>numvotes</th>\n",
       "      <th>global_sum</th>\n",
       "    </tr>\n",
       "  </thead>\n",
       "  <tbody>\n",
       "    <tr>\n",
       "      <th>116</th>\n",
       "      <td>Biography,Documentary,Drama</td>\n",
       "      <td>21600.0</td>\n",
       "      <td>105000.0</td>\n",
       "      <td>2011.0</td>\n",
       "      <td>2010.0</td>\n",
       "      <td>94.0</td>\n",
       "      <td>7.2</td>\n",
       "      <td>1566.0</td>\n",
       "      <td>126600.0</td>\n",
       "    </tr>\n",
       "    <tr>\n",
       "      <th>263</th>\n",
       "      <td>Thriller,Western</td>\n",
       "      <td>21100.0</td>\n",
       "      <td>300000.0</td>\n",
       "      <td>2010.0</td>\n",
       "      <td>2010.0</td>\n",
       "      <td>95.0</td>\n",
       "      <td>6.4</td>\n",
       "      <td>7874.0</td>\n",
       "      <td>321100.0</td>\n",
       "    </tr>\n",
       "    <tr>\n",
       "      <th>53</th>\n",
       "      <td>Action,Horror,Mystery</td>\n",
       "      <td>5500.0</td>\n",
       "      <td>364000.0</td>\n",
       "      <td>2012.0</td>\n",
       "      <td>2012.0</td>\n",
       "      <td>114.0</td>\n",
       "      <td>5.1</td>\n",
       "      <td>18206.0</td>\n",
       "      <td>369500.0</td>\n",
       "    </tr>\n",
       "    <tr>\n",
       "      <th>108</th>\n",
       "      <td>Animation,Drama,Sci-Fi</td>\n",
       "      <td>138000.0</td>\n",
       "      <td>318000.0</td>\n",
       "      <td>2014.0</td>\n",
       "      <td>2013.0</td>\n",
       "      <td>122.0</td>\n",
       "      <td>6.5</td>\n",
       "      <td>15996.0</td>\n",
       "      <td>456000.0</td>\n",
       "    </tr>\n",
       "    <tr>\n",
       "      <th>166</th>\n",
       "      <td>Comedy,Mystery,Romance</td>\n",
       "      <td>119000.0</td>\n",
       "      <td>421000.0</td>\n",
       "      <td>2011.0</td>\n",
       "      <td>2010.0</td>\n",
       "      <td>86.0</td>\n",
       "      <td>5.7</td>\n",
       "      <td>11858.0</td>\n",
       "      <td>540000.0</td>\n",
       "    </tr>\n",
       "  </tbody>\n",
       "</table>\n",
       "</div>"
      ],
      "text/plain": [
       "                          genres  domestic_gross  foreign_gross    year  \\\n",
       "116  Biography,Documentary,Drama         21600.0       105000.0  2011.0   \n",
       "263             Thriller,Western         21100.0       300000.0  2010.0   \n",
       "53         Action,Horror,Mystery          5500.0       364000.0  2012.0   \n",
       "108       Animation,Drama,Sci-Fi        138000.0       318000.0  2014.0   \n",
       "166       Comedy,Mystery,Romance        119000.0       421000.0  2011.0   \n",
       "\n",
       "     start_year  runtime_minutes  averagerating  numvotes  global_sum  \n",
       "116      2010.0             94.0            7.2    1566.0    126600.0  \n",
       "263      2010.0             95.0            6.4    7874.0    321100.0  \n",
       "53       2012.0            114.0            5.1   18206.0    369500.0  \n",
       "108      2013.0            122.0            6.5   15996.0    456000.0  \n",
       "166      2010.0             86.0            5.7   11858.0    540000.0  "
      ]
     },
     "execution_count": 66,
     "metadata": {},
     "output_type": "execute_result"
    }
   ],
   "source": [
    "full_merge_min = full_merge.groupby('genres',  as_index=False).mean().nsmallest(5, 'global_sum')\n",
    "full_merge_min"
   ]
  },
  {
   "cell_type": "code",
   "execution_count": 67,
   "metadata": {
    "scrolled": false
   },
   "outputs": [
    {
     "data": {
      "image/png": "[encoded data removed]",
      "text/plain": [
       "<Figure size 432x288 with 1 Axes>"
      ]
     },
     "metadata": {},
     "output_type": "display_data"
    }
   ],
   "source": [
    "# Using seaborn library, we plot the 50 sample set from the dataset \"full_merge\" with the lowest revenues\n",
    "# X axis represents all genres distributed within the 50 sample set.\n",
    "# Y axis represents the revenues values.\n",
    "sns.set_style(\"darkgrid\")\n",
    "sns.barplot(data=full_merge_min, x=\"genres\", y=\"global_sum\");\n",
    "plt.xticks(rotation=45);\n",
    "plt.ylabel(\"Gross (dollars)\");\n",
    "plt.title(\"Lowest gross genres\");\n",
    "plt.savefig(\"genres_low_gross.png\",\n",
    "            bbox_inches =\"tight\",\n",
    "            orientation ='landscape');"
   ]
  },
  {
   "cell_type": "markdown",
   "metadata": {},
   "source": [
    "- Step 7. Obtain statistical information about the highest and lowest gross genres"
   ]
  },
  {
   "cell_type": "code",
   "execution_count": 37,
   "metadata": {
    "scrolled": false
   },
   "outputs": [
    {
     "data": {
      "text/plain": [
       "count    1.000000e+01\n",
       "mean     1.284070e+09\n",
       "std      6.984399e+07\n",
       "min      1.159400e+09\n",
       "25%      1.251200e+09\n",
       "50%      1.276400e+09\n",
       "75%      1.326825e+09\n",
       "max      1.405400e+09\n",
       "Name: global_sum, dtype: float64"
      ]
     },
     "execution_count": 37,
     "metadata": {},
     "output_type": "execute_result"
    }
   ],
   "source": [
    "full_merge_max['global_sum'].describe()"
   ]
  },
  {
   "cell_type": "code",
   "execution_count": 38,
   "metadata": {},
   "outputs": [
    {
     "data": {
      "text/plain": [
       "Action,Adventure,Sci-Fi       4\n",
       "Adventure,Animation,Comedy    2\n",
       "Action,Adventure,Fantasy      1\n",
       "Adventure,Drama,Sport         1\n",
       "Fantasy,Romance               1\n",
       "Action,Adventure,Animation    1\n",
       "Name: genres, dtype: int64"
      ]
     },
     "execution_count": 38,
     "metadata": {},
     "output_type": "execute_result"
    }
   ],
   "source": [
    "full_merge_max['genres'].value_counts()"
   ]
  },
  {
   "cell_type": "code",
   "execution_count": 39,
   "metadata": {
    "scrolled": true
   },
   "outputs": [
    {
     "data": {
      "text/plain": [
       "count       10.000000\n",
       "mean     22130.000000\n",
       "std      14169.846702\n",
       "min      10800.000000\n",
       "25%      10800.000000\n",
       "50%      11900.000000\n",
       "75%      38525.000000\n",
       "max      38700.000000\n",
       "Name: global_sum, dtype: float64"
      ]
     },
     "execution_count": 39,
     "metadata": {},
     "output_type": "execute_result"
    }
   ],
   "source": [
    "full_merge_min['global_sum'].describe()"
   ]
  },
  {
   "cell_type": "code",
   "execution_count": 40,
   "metadata": {},
   "outputs": [
    {
     "data": {
      "text/plain": [
       "Drama                            4\n",
       "Comedy,Drama,Romance             2\n",
       "Horror,Thriller                  1\n",
       "Biography,Documentary,History    1\n",
       "Horror                           1\n",
       "Thriller                         1\n",
       "Name: genres, dtype: int64"
      ]
     },
     "execution_count": 40,
     "metadata": {},
     "output_type": "execute_result"
    }
   ],
   "source": [
    "full_merge_min['genres'].value_counts()"
   ]
  },
  {
   "cell_type": "markdown",
   "metadata": {},
   "source": [
    "- Step 8. Obtain statistics from our \"population\""
   ]
  },
  {
   "cell_type": "code",
   "execution_count": 41,
   "metadata": {
    "scrolled": false
   },
   "outputs": [
    {
     "data": {
      "text/plain": [
       "count    1.803000e+03\n",
       "mean     1.288335e+08\n",
       "std      2.088373e+08\n",
       "min      1.080000e+04\n",
       "25%      1.000000e+07\n",
       "50%      4.810000e+07\n",
       "75%      1.489000e+08\n",
       "max      1.405400e+09\n",
       "Name: global_sum, dtype: float64"
      ]
     },
     "execution_count": 41,
     "metadata": {},
     "output_type": "execute_result"
    }
   ],
   "source": [
    "full_merge['global_sum'].describe()"
   ]
  },
  {
   "cell_type": "code",
   "execution_count": 42,
   "metadata": {},
   "outputs": [
    {
     "data": {
      "text/plain": [
       "Drama                         128\n",
       "Comedy,Drama                   74\n",
       "Adventure,Animation,Comedy     72\n",
       "Comedy,Drama,Romance           66\n",
       "Drama,Romance                  62\n",
       "                             ... \n",
       "Action,Comedy,Sport             1\n",
       "Action,Comedy,Western           1\n",
       "Drama,Romance,War               1\n",
       "Adventure,Mystery,Sci-Fi        1\n",
       "Fantasy,Thriller                1\n",
       "Name: genres, Length: 264, dtype: int64"
      ]
     },
     "execution_count": 42,
     "metadata": {},
     "output_type": "execute_result"
    }
   ],
   "source": [
    "full_merge['genres'].value_counts()"
   ]
  },
  {
   "cell_type": "markdown",
   "metadata": {},
   "source": [
    "#### What can be conclued for question b?\n",
    "- ADVENTURE has the highest-gross genre. Moreover, it is combined with other genres like action, Sci-Fi, Comedy or Thriller.\n",
    "\n",
    "- DRAMA, COMEDY and HORROR stand as the lowest-gross genres."
   ]
  },
  {
   "cell_type": "markdown",
   "metadata": {},
   "source": [
    "### Conclusions for both questions\n",
    "- There is an almost linear behaviour between genre and revenues. This might be due to a genre's acceptance between viewers, as not all genres are suitable for all audiences.\n",
    "- On the other hand, the relationship bewteen genre and average ratings is not seen at all, although DOCUMENTARY and DRAMA are most common in high and low ratings, respectively.\n",
    "- Interestingly, even though DOCUMENTARY is a well-rated genre, its revenues are no match against the ADVENTURE genre. On the other hand, DRAMA is a genre which is both terribly rated and low-revenued."
   ]
  },
  {
   "cell_type": "markdown",
   "metadata": {},
   "source": [
    "# Sage's Section\n",
    "## Relationship between director and revenues\n",
    "\n",
    "- Does a movie's genre have an impact in mean gross revenues?\n",
    "- Top 5 genres with most gross revenues (info from 2020 and 2021)"
   ]
  },
  {
   "cell_type": "code",
   "execution_count": null,
   "metadata": {},
   "outputs": [],
   "source": []
  },
  {
   "cell_type": "markdown",
   "metadata": {},
   "source": [
    "# Neil's Section\n",
    "## Relationship between ratings and runtime\n",
    "\n",
    "### Does a movie's runtime affect the rating it recieves?"
   ]
  },
  {
   "cell_type": "markdown",
   "metadata": {},
   "source": [
    "- Step 1. JOIN movie_basics to movie_ratings table"
   ]
  },
  {
   "cell_type": "code",
   "execution_count": 5,
   "metadata": {},
   "outputs": [
    {
     "ename": "NameError",
     "evalue": "name 'conn' is not defined",
     "output_type": "error",
     "traceback": [
      "\u001b[1;31m---------------------------------------------------------------------------\u001b[0m",
      "\u001b[1;31mNameError\u001b[0m                                 Traceback (most recent call last)",
      "\u001b[1;32m<ipython-input-5-b6a18beacf3a>\u001b[0m in \u001b[0;36m<module>\u001b[1;34m\u001b[0m\n\u001b[0;32m      5\u001b[0m         \u001b[0mUSING\u001b[0m \u001b[1;33m(\u001b[0m\u001b[0mmovie_id\u001b[0m\u001b[1;33m)\u001b[0m\u001b[1;33m\u001b[0m\u001b[1;33m\u001b[0m\u001b[0m\n\u001b[0;32m      6\u001b[0m \u001b[1;33m;\u001b[0m\u001b[1;33m\u001b[0m\u001b[1;33m\u001b[0m\u001b[0m\n\u001b[1;32m----> 7\u001b[1;33m \"\"\", conn)\n\u001b[0m",
      "\u001b[1;31mNameError\u001b[0m: name 'conn' is not defined"
     ]
    }
   ],
   "source": [
    "pd.read_sql(\"\"\"\n",
    "SELECT *\n",
    "FROM movie_basics\n",
    "    JOIN movie_ratings\n",
    "        USING (movie_id)\n",
    ";\n",
    "\"\"\", conn)"
   ]
  },
  {
   "cell_type": "markdown",
   "metadata": {},
   "source": [
    "- Step 2. Aggregate the AVG of runtime_minutes, show only non-null values, and since numvotes had a range from 5 to 90,000 we want to set a minimum baseline of 100 so results are not skewed or biased"
   ]
  },
  {
   "cell_type": "code",
   "execution_count": 10,
   "metadata": {},
   "outputs": [
    {
     "data": {
      "text/html": [
       "<div>\n",
       "<style scoped>\n",
       "    .dataframe tbody tr th:only-of-type {\n",
       "        vertical-align: middle;\n",
       "    }\n",
       "\n",
       "    .dataframe tbody tr th {\n",
       "        vertical-align: top;\n",
       "    }\n",
       "\n",
       "    .dataframe thead th {\n",
       "        text-align: right;\n",
       "    }\n",
       "</style>\n",
       "<table border=\"1\" class=\"dataframe\">\n",
       "  <thead>\n",
       "    <tr style=\"text-align: right;\">\n",
       "      <th></th>\n",
       "      <th>averagerating</th>\n",
       "      <th>Average Runtime</th>\n",
       "    </tr>\n",
       "  </thead>\n",
       "  <tbody>\n",
       "    <tr>\n",
       "      <th>0</th>\n",
       "      <td>9.9</td>\n",
       "      <td>138.000000</td>\n",
       "    </tr>\n",
       "    <tr>\n",
       "      <th>1</th>\n",
       "      <td>9.7</td>\n",
       "      <td>142.000000</td>\n",
       "    </tr>\n",
       "    <tr>\n",
       "      <th>2</th>\n",
       "      <td>9.6</td>\n",
       "      <td>119.750000</td>\n",
       "    </tr>\n",
       "    <tr>\n",
       "      <th>3</th>\n",
       "      <td>9.5</td>\n",
       "      <td>89.666667</td>\n",
       "    </tr>\n",
       "    <tr>\n",
       "      <th>4</th>\n",
       "      <td>9.4</td>\n",
       "      <td>92.363636</td>\n",
       "    </tr>\n",
       "    <tr>\n",
       "      <th>...</th>\n",
       "      <td>...</td>\n",
       "      <td>...</td>\n",
       "    </tr>\n",
       "    <tr>\n",
       "      <th>84</th>\n",
       "      <td>1.4</td>\n",
       "      <td>85.083333</td>\n",
       "    </tr>\n",
       "    <tr>\n",
       "      <th>85</th>\n",
       "      <td>1.3</td>\n",
       "      <td>92.750000</td>\n",
       "    </tr>\n",
       "    <tr>\n",
       "      <th>86</th>\n",
       "      <td>1.2</td>\n",
       "      <td>84.214286</td>\n",
       "    </tr>\n",
       "    <tr>\n",
       "      <th>87</th>\n",
       "      <td>1.1</td>\n",
       "      <td>92.666667</td>\n",
       "    </tr>\n",
       "    <tr>\n",
       "      <th>88</th>\n",
       "      <td>1.0</td>\n",
       "      <td>87.678571</td>\n",
       "    </tr>\n",
       "  </tbody>\n",
       "</table>\n",
       "<p>89 rows × 2 columns</p>\n",
       "</div>"
      ],
      "text/plain": [
       "    averagerating  Average Runtime\n",
       "0             9.9       138.000000\n",
       "1             9.7       142.000000\n",
       "2             9.6       119.750000\n",
       "3             9.5        89.666667\n",
       "4             9.4        92.363636\n",
       "..            ...              ...\n",
       "84            1.4        85.083333\n",
       "85            1.3        92.750000\n",
       "86            1.2        84.214286\n",
       "87            1.1        92.666667\n",
       "88            1.0        87.678571\n",
       "\n",
       "[89 rows x 2 columns]"
      ]
     },
     "execution_count": 10,
     "metadata": {},
     "output_type": "execute_result"
    }
   ],
   "source": [
    "pd.read_sql(\"\"\"\n",
    "SELECT averagerating, AVG(runtime_minutes) AS \"Average Runtime\"\n",
    "FROM movie_basics\n",
    "    JOIN movie_ratings\n",
    "        USING(movie_id)\n",
    "WHERE runtime_minutes IS NOT NULL AND numvotes >= 100\n",
    "GROUP BY averagerating\n",
    "ORDER BY averagerating DESC\n",
    ";\n",
    "\"\"\", conn)"
   ]
  },
  {
   "cell_type": "markdown",
   "metadata": {},
   "source": [
    "- Step 3: Assign these results to a variable named Correlation_Data"
   ]
  },
  {
   "cell_type": "code",
   "execution_count": 7,
   "metadata": {},
   "outputs": [
    {
     "data": {
      "text/html": [
       "<div>\n",
       "<style scoped>\n",
       "    .dataframe tbody tr th:only-of-type {\n",
       "        vertical-align: middle;\n",
       "    }\n",
       "\n",
       "    .dataframe tbody tr th {\n",
       "        vertical-align: top;\n",
       "    }\n",
       "\n",
       "    .dataframe thead th {\n",
       "        text-align: right;\n",
       "    }\n",
       "</style>\n",
       "<table border=\"1\" class=\"dataframe\">\n",
       "  <thead>\n",
       "    <tr style=\"text-align: right;\">\n",
       "      <th></th>\n",
       "      <th>averagerating</th>\n",
       "      <th>Average Runtime</th>\n",
       "    </tr>\n",
       "  </thead>\n",
       "  <tbody>\n",
       "    <tr>\n",
       "      <th>0</th>\n",
       "      <td>9.9</td>\n",
       "      <td>138.000000</td>\n",
       "    </tr>\n",
       "    <tr>\n",
       "      <th>1</th>\n",
       "      <td>9.7</td>\n",
       "      <td>142.000000</td>\n",
       "    </tr>\n",
       "    <tr>\n",
       "      <th>2</th>\n",
       "      <td>9.6</td>\n",
       "      <td>119.750000</td>\n",
       "    </tr>\n",
       "    <tr>\n",
       "      <th>3</th>\n",
       "      <td>9.5</td>\n",
       "      <td>89.666667</td>\n",
       "    </tr>\n",
       "    <tr>\n",
       "      <th>4</th>\n",
       "      <td>9.4</td>\n",
       "      <td>92.363636</td>\n",
       "    </tr>\n",
       "    <tr>\n",
       "      <th>...</th>\n",
       "      <td>...</td>\n",
       "      <td>...</td>\n",
       "    </tr>\n",
       "    <tr>\n",
       "      <th>84</th>\n",
       "      <td>1.4</td>\n",
       "      <td>85.083333</td>\n",
       "    </tr>\n",
       "    <tr>\n",
       "      <th>85</th>\n",
       "      <td>1.3</td>\n",
       "      <td>92.750000</td>\n",
       "    </tr>\n",
       "    <tr>\n",
       "      <th>86</th>\n",
       "      <td>1.2</td>\n",
       "      <td>84.214286</td>\n",
       "    </tr>\n",
       "    <tr>\n",
       "      <th>87</th>\n",
       "      <td>1.1</td>\n",
       "      <td>92.666667</td>\n",
       "    </tr>\n",
       "    <tr>\n",
       "      <th>88</th>\n",
       "      <td>1.0</td>\n",
       "      <td>87.678571</td>\n",
       "    </tr>\n",
       "  </tbody>\n",
       "</table>\n",
       "<p>89 rows × 2 columns</p>\n",
       "</div>"
      ],
      "text/plain": [
       "    averagerating  Average Runtime\n",
       "0             9.9       138.000000\n",
       "1             9.7       142.000000\n",
       "2             9.6       119.750000\n",
       "3             9.5        89.666667\n",
       "4             9.4        92.363636\n",
       "..            ...              ...\n",
       "84            1.4        85.083333\n",
       "85            1.3        92.750000\n",
       "86            1.2        84.214286\n",
       "87            1.1        92.666667\n",
       "88            1.0        87.678571\n",
       "\n",
       "[89 rows x 2 columns]"
      ]
     },
     "execution_count": 7,
     "metadata": {},
     "output_type": "execute_result"
    }
   ],
   "source": [
    "Correlation_Data = pd.read_sql(\"\"\"\n",
    "SELECT averagerating, AVG(runtime_minutes) AS \"Average Runtime\"\n",
    "FROM movie_basics\n",
    "    JOIN movie_ratings\n",
    "        USING(movie_id)\n",
    "WHERE runtime_minutes IS NOT NULL AND numvotes >= 100\n",
    "GROUP BY averagerating\n",
    "ORDER BY averagerating DESC\n",
    ";\n",
    "\"\"\", conn)\n",
    "Correlation_Data"
   ]
  },
  {
   "cell_type": "markdown",
   "metadata": {},
   "source": [
    "- Step 5: Conduct two-tailed t-test for hypothesis testing\n",
    "### Use 115.0 minutes as a divider between short and long movies\n",
    "### Null Hypothesis: The runtime of a movie has no influence on the rating it recieves\n",
    "### Alternative Hypothesis: The runtime of a movie does have an influence on the rating it recieves\n",
    "### Set alpha = 0.05"
   ]
  },
  {
   "cell_type": "code",
   "execution_count": 12,
   "metadata": {},
   "outputs": [],
   "source": [
    "long_movies = Correlation_Data[Correlation_Data[\"Average Runtime\"]>=115.0][\"averagerating\"]\n",
    "short_movies = Correlation_Data[Correlation_Data[\"Average Runtime\"]<115.0][\"averagerating\"]"
   ]
  },
  {
   "cell_type": "code",
   "execution_count": 17,
   "metadata": {},
   "outputs": [
    {
     "data": {
      "text/plain": [
       "Ttest_indResult(statistic=6.082044445100752, pvalue=3.085579539579667e-08)"
      ]
     },
     "execution_count": 17,
     "metadata": {},
     "output_type": "execute_result"
    }
   ],
   "source": [
    "alpha = 0.05\n",
    "stats.ttest_ind(long_movies, short_movies)"
   ]
  },
  {
   "cell_type": "markdown",
   "metadata": {},
   "source": [
    "### Since our p value is less than alpha of 0.05, we have enough evidence to reject the null hypothesis"
   ]
  },
  {
   "cell_type": "markdown",
   "metadata": {},
   "source": [
    "- Step 6: Display the results of the SQL Table into a scatter plot visualization"
   ]
  },
  {
   "cell_type": "code",
   "execution_count": 8,
   "metadata": {},
   "outputs": [
    {
     "data": {
      "image/png": "[encoded data removed]",
      "text/plain": [
       "<Figure size 432x288 with 1 Axes>"
      ]
     },
     "metadata": {
      "needs_background": "light"
     },
     "output_type": "display_data"
    }
   ],
   "source": [
    "plt.scatter(Correlation_Data['Average Runtime'], Correlation_Data['averagerating'], color = 'green')\n",
    "plt.xlabel('Average Runtime')\n",
    "plt.ylabel('Average Rating')\n",
    "plt.title('Relationship Between Avg Runtime & Rating')\n",
    "plt.show()"
   ]
  },
  {
   "cell_type": "markdown",
   "metadata": {},
   "source": [
    "# Mahan's Section\n",
    "## Relationship between \n",
    "\n",
    "- Does a movie's genre have an impact in mean gross revenues?\n",
    "- Top 5 genres with most gross revenues (info from 2020 and 2021)"
   ]
  },
  {
   "cell_type": "code",
   "execution_count": null,
   "metadata": {},
   "outputs": [],
   "source": []
  }
 ],
 "metadata": {
  "kernelspec": {
   "display_name": "Python 3",
   "language": "python",
   "name": "python3"
  },
  "language_info": {
   "codemirror_mode": {
    "name": "ipython",
    "version": 3
   },
   "file_extension": ".py",
   "mimetype": "text/x-python",
   "name": "python",
   "nbconvert_exporter": "python",
   "pygments_lexer": "ipython3",
   "version": "3.8.5"
  }
 },
 "nbformat": 4,
 "nbformat_minor": 2
}
