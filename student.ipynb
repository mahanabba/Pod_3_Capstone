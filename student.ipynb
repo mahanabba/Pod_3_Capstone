{
 "cells": [
  {
   "cell_type": "markdown",
   "metadata": {},
   "source": [
    "## Semester 1 Project Submission\n",
    "\n",
    "Please fill out:\n",
    "* Student name: Sage Reagan, Neil Dilawari, Mahan Abbasian, Daniel Perez\n",
    "* Instructor name: Charlie Rice, Lera Tsayukova\n",
    "\n"
   ]
  },
  {
   "cell_type": "markdown",
   "metadata": {},
   "source": [
    "## Importing Python libraries"
   ]
  },
  {
   "cell_type": "code",
   "execution_count": 1,
   "metadata": {},
   "outputs": [],
   "source": [
    "# In this cell we import the libraries needed for our analysis\n",
    "# pandas for data frame manipulation and import\n",
    "# sqlite3 for database connection, import and manipulation\n",
    "# numpy for array-wise operations\n",
    "# plt and sns for plotting data or data frames\n",
    "\n",
    "import pandas as pd\n",
    "import sqlite3\n",
    "import numpy as np\n",
    "import matplotlib.pyplot as plt\n",
    "import seaborn as sns\n",
    "%matplotlib inline"
   ]
  },
  {
   "cell_type": "markdown",
   "metadata": {},
   "source": [
    "## Importing csv / tsv files"
   ]
  },
  {
   "cell_type": "markdown",
   "metadata": {},
   "source": [
    "In this step, we will import data using the pandas library.\n",
    "For that, there are two alternatives to import data:\n",
    "1. bomDF = pd.read_csv(\"zippedData/bom.movie_gross.csv.gz\", encoding=\"unicode_escape\") --> for compressed files\n",
    "2. bomDF = pd.read_csv(\"zippedData/bom.movie_gross.csv\") --> for uncompressed (raw) files"
   ]
  },
  {
   "cell_type": "code",
   "execution_count": 2,
   "metadata": {},
   "outputs": [],
   "source": [
    "# DataFrame from Box Office Mojo dataset\n",
    "bomDF = pd.read_csv(\"zippedData/bom.movie_gross.csv.gz\",encoding=\"unicode_escape\")"
   ]
  },
  {
   "cell_type": "code",
   "execution_count": 3,
   "metadata": {
    "scrolled": false
   },
   "outputs": [
    {
     "name": "stdout",
     "output_type": "stream",
     "text": [
      "(3387, 5)\n"
     ]
    }
   ],
   "source": [
    "print(bomDF.shape)"
   ]
  },
  {
   "cell_type": "code",
   "execution_count": 4,
   "metadata": {},
   "outputs": [
    {
     "data": {
      "text/html": [
       "<div>\n",
       "<style scoped>\n",
       "    .dataframe tbody tr th:only-of-type {\n",
       "        vertical-align: middle;\n",
       "    }\n",
       "\n",
       "    .dataframe tbody tr th {\n",
       "        vertical-align: top;\n",
       "    }\n",
       "\n",
       "    .dataframe thead th {\n",
       "        text-align: right;\n",
       "    }\n",
       "</style>\n",
       "<table border=\"1\" class=\"dataframe\">\n",
       "  <thead>\n",
       "    <tr style=\"text-align: right;\">\n",
       "      <th></th>\n",
       "      <th>title</th>\n",
       "      <th>studio</th>\n",
       "      <th>domestic_gross</th>\n",
       "      <th>foreign_gross</th>\n",
       "      <th>year</th>\n",
       "    </tr>\n",
       "  </thead>\n",
       "  <tbody>\n",
       "    <tr>\n",
       "      <th>0</th>\n",
       "      <td>Toy Story 3</td>\n",
       "      <td>BV</td>\n",
       "      <td>415000000.0</td>\n",
       "      <td>652000000</td>\n",
       "      <td>2010</td>\n",
       "    </tr>\n",
       "    <tr>\n",
       "      <th>1</th>\n",
       "      <td>Alice in Wonderland (2010)</td>\n",
       "      <td>BV</td>\n",
       "      <td>334200000.0</td>\n",
       "      <td>691300000</td>\n",
       "      <td>2010</td>\n",
       "    </tr>\n",
       "  </tbody>\n",
       "</table>\n",
       "</div>"
      ],
      "text/plain": [
       "                        title studio  domestic_gross foreign_gross  year\n",
       "0                 Toy Story 3     BV     415000000.0     652000000  2010\n",
       "1  Alice in Wonderland (2010)     BV     334200000.0     691300000  2010"
      ]
     },
     "execution_count": 4,
     "metadata": {},
     "output_type": "execute_result"
    }
   ],
   "source": [
    "bomDF.head(2)"
   ]
  },
  {
   "cell_type": "markdown",
   "metadata": {},
   "source": [
    "## Importing SQL datset"
   ]
  },
  {
   "cell_type": "markdown",
   "metadata": {},
   "source": [
    "Here, we import data from IMDB's SQLite database using sqlite3 library."
   ]
  },
  {
   "cell_type": "code",
   "execution_count": 5,
   "metadata": {},
   "outputs": [],
   "source": [
    "# DataFrame from IMDB dataset\n",
    "conn = sqlite3.connect('zippedData/im.db')"
   ]
  },
  {
   "cell_type": "code",
   "execution_count": 6,
   "metadata": {},
   "outputs": [
    {
     "data": {
      "text/html": [
       "<div>\n",
       "<style scoped>\n",
       "    .dataframe tbody tr th:only-of-type {\n",
       "        vertical-align: middle;\n",
       "    }\n",
       "\n",
       "    .dataframe tbody tr th {\n",
       "        vertical-align: top;\n",
       "    }\n",
       "\n",
       "    .dataframe thead th {\n",
       "        text-align: right;\n",
       "    }\n",
       "</style>\n",
       "<table border=\"1\" class=\"dataframe\">\n",
       "  <thead>\n",
       "    <tr style=\"text-align: right;\">\n",
       "      <th></th>\n",
       "      <th>movie_id</th>\n",
       "      <th>primary_title</th>\n",
       "      <th>original_title</th>\n",
       "      <th>start_year</th>\n",
       "      <th>runtime_minutes</th>\n",
       "      <th>genres</th>\n",
       "    </tr>\n",
       "  </thead>\n",
       "  <tbody>\n",
       "    <tr>\n",
       "      <th>0</th>\n",
       "      <td>tt0063540</td>\n",
       "      <td>Sunghursh</td>\n",
       "      <td>Sunghursh</td>\n",
       "      <td>2013</td>\n",
       "      <td>175.0</td>\n",
       "      <td>Action,Crime,Drama</td>\n",
       "    </tr>\n",
       "    <tr>\n",
       "      <th>1</th>\n",
       "      <td>tt0066787</td>\n",
       "      <td>One Day Before the Rainy Season</td>\n",
       "      <td>Ashad Ka Ek Din</td>\n",
       "      <td>2019</td>\n",
       "      <td>114.0</td>\n",
       "      <td>Biography,Drama</td>\n",
       "    </tr>\n",
       "  </tbody>\n",
       "</table>\n",
       "</div>"
      ],
      "text/plain": [
       "    movie_id                    primary_title   original_title  start_year  \\\n",
       "0  tt0063540                        Sunghursh        Sunghursh        2013   \n",
       "1  tt0066787  One Day Before the Rainy Season  Ashad Ka Ek Din        2019   \n",
       "\n",
       "   runtime_minutes              genres  \n",
       "0            175.0  Action,Crime,Drama  \n",
       "1            114.0     Biography,Drama  "
      ]
     },
     "execution_count": 6,
     "metadata": {},
     "output_type": "execute_result"
    }
   ],
   "source": [
    "movie_basicsDF = pd.read_sql(\"select * from movie_basics\", con=conn)\n",
    "movie_basicsDF.head(2)"
   ]
  },
  {
   "cell_type": "code",
   "execution_count": 7,
   "metadata": {
    "scrolled": true
   },
   "outputs": [
    {
     "data": {
      "text/html": [
       "<div>\n",
       "<style scoped>\n",
       "    .dataframe tbody tr th:only-of-type {\n",
       "        vertical-align: middle;\n",
       "    }\n",
       "\n",
       "    .dataframe tbody tr th {\n",
       "        vertical-align: top;\n",
       "    }\n",
       "\n",
       "    .dataframe thead th {\n",
       "        text-align: right;\n",
       "    }\n",
       "</style>\n",
       "<table border=\"1\" class=\"dataframe\">\n",
       "  <thead>\n",
       "    <tr style=\"text-align: right;\">\n",
       "      <th></th>\n",
       "      <th>movie_id</th>\n",
       "      <th>averagerating</th>\n",
       "      <th>numvotes</th>\n",
       "    </tr>\n",
       "  </thead>\n",
       "  <tbody>\n",
       "    <tr>\n",
       "      <th>0</th>\n",
       "      <td>tt10356526</td>\n",
       "      <td>8.3</td>\n",
       "      <td>31</td>\n",
       "    </tr>\n",
       "    <tr>\n",
       "      <th>1</th>\n",
       "      <td>tt10384606</td>\n",
       "      <td>8.9</td>\n",
       "      <td>559</td>\n",
       "    </tr>\n",
       "  </tbody>\n",
       "</table>\n",
       "</div>"
      ],
      "text/plain": [
       "     movie_id  averagerating  numvotes\n",
       "0  tt10356526            8.3        31\n",
       "1  tt10384606            8.9       559"
      ]
     },
     "execution_count": 7,
     "metadata": {},
     "output_type": "execute_result"
    }
   ],
   "source": [
    "movie_ratingsDF = pd.read_sql(\"select * from movie_ratings\", con=conn)\n",
    "movie_ratingsDF.head(2)"
   ]
  },
  {
   "cell_type": "markdown",
   "metadata": {},
   "source": [
    "## Daniel's Section: Relationship between genre and average rates/revenues"
   ]
  },
  {
   "cell_type": "markdown",
   "metadata": {},
   "source": [
    "### a. Does a movie's genre have an impact in mean average rates?"
   ]
  },
  {
   "cell_type": "markdown",
   "metadata": {},
   "source": [
    "- Step 1. Merging \"movie_basics\" and \"movie_ratings\" SQL tables"
   ]
  },
  {
   "cell_type": "code",
   "execution_count": 8,
   "metadata": {
    "scrolled": false
   },
   "outputs": [
    {
     "data": {
      "text/html": [
       "<div>\n",
       "<style scoped>\n",
       "    .dataframe tbody tr th:only-of-type {\n",
       "        vertical-align: middle;\n",
       "    }\n",
       "\n",
       "    .dataframe tbody tr th {\n",
       "        vertical-align: top;\n",
       "    }\n",
       "\n",
       "    .dataframe thead th {\n",
       "        text-align: right;\n",
       "    }\n",
       "</style>\n",
       "<table border=\"1\" class=\"dataframe\">\n",
       "  <thead>\n",
       "    <tr style=\"text-align: right;\">\n",
       "      <th></th>\n",
       "      <th>movie_id</th>\n",
       "      <th>primary_title</th>\n",
       "      <th>original_title</th>\n",
       "      <th>start_year</th>\n",
       "      <th>runtime_minutes</th>\n",
       "      <th>genres</th>\n",
       "      <th>movie_id</th>\n",
       "      <th>averagerating</th>\n",
       "      <th>numvotes</th>\n",
       "    </tr>\n",
       "  </thead>\n",
       "  <tbody>\n",
       "    <tr>\n",
       "      <th>0</th>\n",
       "      <td>tt0063540</td>\n",
       "      <td>Sunghursh</td>\n",
       "      <td>Sunghursh</td>\n",
       "      <td>2013</td>\n",
       "      <td>175.0</td>\n",
       "      <td>Action,Crime,Drama</td>\n",
       "      <td>tt0063540</td>\n",
       "      <td>7.0</td>\n",
       "      <td>77</td>\n",
       "    </tr>\n",
       "    <tr>\n",
       "      <th>1</th>\n",
       "      <td>tt0066787</td>\n",
       "      <td>One Day Before the Rainy Season</td>\n",
       "      <td>Ashad Ka Ek Din</td>\n",
       "      <td>2019</td>\n",
       "      <td>114.0</td>\n",
       "      <td>Biography,Drama</td>\n",
       "      <td>tt0066787</td>\n",
       "      <td>7.2</td>\n",
       "      <td>43</td>\n",
       "    </tr>\n",
       "    <tr>\n",
       "      <th>2</th>\n",
       "      <td>tt0069049</td>\n",
       "      <td>The Other Side of the Wind</td>\n",
       "      <td>The Other Side of the Wind</td>\n",
       "      <td>2018</td>\n",
       "      <td>122.0</td>\n",
       "      <td>Drama</td>\n",
       "      <td>tt0069049</td>\n",
       "      <td>6.9</td>\n",
       "      <td>4517</td>\n",
       "    </tr>\n",
       "    <tr>\n",
       "      <th>3</th>\n",
       "      <td>tt0069204</td>\n",
       "      <td>Sabse Bada Sukh</td>\n",
       "      <td>Sabse Bada Sukh</td>\n",
       "      <td>2018</td>\n",
       "      <td>NaN</td>\n",
       "      <td>Comedy,Drama</td>\n",
       "      <td>tt0069204</td>\n",
       "      <td>6.1</td>\n",
       "      <td>13</td>\n",
       "    </tr>\n",
       "    <tr>\n",
       "      <th>4</th>\n",
       "      <td>tt0100275</td>\n",
       "      <td>The Wandering Soap Opera</td>\n",
       "      <td>La Telenovela Errante</td>\n",
       "      <td>2017</td>\n",
       "      <td>80.0</td>\n",
       "      <td>Comedy,Drama,Fantasy</td>\n",
       "      <td>tt0100275</td>\n",
       "      <td>6.5</td>\n",
       "      <td>119</td>\n",
       "    </tr>\n",
       "  </tbody>\n",
       "</table>\n",
       "</div>"
      ],
      "text/plain": [
       "    movie_id                    primary_title              original_title  \\\n",
       "0  tt0063540                        Sunghursh                   Sunghursh   \n",
       "1  tt0066787  One Day Before the Rainy Season             Ashad Ka Ek Din   \n",
       "2  tt0069049       The Other Side of the Wind  The Other Side of the Wind   \n",
       "3  tt0069204                  Sabse Bada Sukh             Sabse Bada Sukh   \n",
       "4  tt0100275         The Wandering Soap Opera       La Telenovela Errante   \n",
       "\n",
       "   start_year  runtime_minutes                genres   movie_id  \\\n",
       "0        2013            175.0    Action,Crime,Drama  tt0063540   \n",
       "1        2019            114.0       Biography,Drama  tt0066787   \n",
       "2        2018            122.0                 Drama  tt0069049   \n",
       "3        2018              NaN          Comedy,Drama  tt0069204   \n",
       "4        2017             80.0  Comedy,Drama,Fantasy  tt0100275   \n",
       "\n",
       "   averagerating  numvotes  \n",
       "0            7.0        77  \n",
       "1            7.2        43  \n",
       "2            6.9      4517  \n",
       "3            6.1        13  \n",
       "4            6.5       119  "
      ]
     },
     "execution_count": 8,
     "metadata": {},
     "output_type": "execute_result"
    }
   ],
   "source": [
    "q = pd.read_sql(\"\"\"\n",
    "\n",
    "SELECT *\n",
    "FROM movie_basics b\n",
    "INNER JOIN movie_ratings r\n",
    "ON b.movie_id = r.movie_id\n",
    "\n",
    ";\n",
    "\"\"\", con=conn)\n",
    "q.head()"
   ]
  },
  {
   "cell_type": "markdown",
   "metadata": {},
   "source": [
    "- Step 2. Deleting rows with NAN values."
   ]
  },
  {
   "cell_type": "code",
   "execution_count": 9,
   "metadata": {
    "scrolled": true
   },
   "outputs": [
    {
     "data": {
      "text/plain": [
       "804"
      ]
     },
     "execution_count": 9,
     "metadata": {},
     "output_type": "execute_result"
    }
   ],
   "source": [
    "q['genres'].isna().sum()"
   ]
  },
  {
   "cell_type": "code",
   "execution_count": 10,
   "metadata": {},
   "outputs": [],
   "source": [
    "q.dropna(subset=['genres'], inplace=True)"
   ]
  },
  {
   "cell_type": "code",
   "execution_count": 11,
   "metadata": {
    "scrolled": true
   },
   "outputs": [
    {
     "data": {
      "text/plain": [
       "0"
      ]
     },
     "execution_count": 11,
     "metadata": {},
     "output_type": "execute_result"
    }
   ],
   "source": [
    "q['genres'].isna().sum()"
   ]
  },
  {
   "cell_type": "markdown",
   "metadata": {},
   "source": [
    "- Step 3. Creating a subset with 10 items, with the highest average ratings. Then, plot the results."
   ]
  },
  {
   "cell_type": "code",
   "execution_count": 12,
   "metadata": {
    "scrolled": true
   },
   "outputs": [
    {
     "data": {
      "text/html": [
       "<div>\n",
       "<style scoped>\n",
       "    .dataframe tbody tr th:only-of-type {\n",
       "        vertical-align: middle;\n",
       "    }\n",
       "\n",
       "    .dataframe tbody tr th {\n",
       "        vertical-align: top;\n",
       "    }\n",
       "\n",
       "    .dataframe thead th {\n",
       "        text-align: right;\n",
       "    }\n",
       "</style>\n",
       "<table border=\"1\" class=\"dataframe\">\n",
       "  <thead>\n",
       "    <tr style=\"text-align: right;\">\n",
       "      <th></th>\n",
       "      <th>genres</th>\n",
       "      <th>start_year</th>\n",
       "      <th>runtime_minutes</th>\n",
       "      <th>averagerating</th>\n",
       "      <th>numvotes</th>\n",
       "    </tr>\n",
       "  </thead>\n",
       "  <tbody>\n",
       "    <tr>\n",
       "      <th>449</th>\n",
       "      <td>Comedy,Documentary,Fantasy</td>\n",
       "      <td>2015.0</td>\n",
       "      <td>70.0</td>\n",
       "      <td>9.4</td>\n",
       "      <td>5.0</td>\n",
       "    </tr>\n",
       "    <tr>\n",
       "      <th>633</th>\n",
       "      <td>Documentary,Family,Musical</td>\n",
       "      <td>2017.0</td>\n",
       "      <td>59.0</td>\n",
       "      <td>9.3</td>\n",
       "      <td>19.0</td>\n",
       "    </tr>\n",
       "    <tr>\n",
       "      <th>851</th>\n",
       "      <td>History,Sport</td>\n",
       "      <td>2016.0</td>\n",
       "      <td>NaN</td>\n",
       "      <td>9.2</td>\n",
       "      <td>5.0</td>\n",
       "    </tr>\n",
       "    <tr>\n",
       "      <th>837</th>\n",
       "      <td>Game-Show</td>\n",
       "      <td>2013.0</td>\n",
       "      <td>130.0</td>\n",
       "      <td>9.0</td>\n",
       "      <td>7.0</td>\n",
       "    </tr>\n",
       "    <tr>\n",
       "      <th>882</th>\n",
       "      <td>Music,Mystery</td>\n",
       "      <td>2012.0</td>\n",
       "      <td>NaN</td>\n",
       "      <td>9.0</td>\n",
       "      <td>5.0</td>\n",
       "    </tr>\n",
       "  </tbody>\n",
       "</table>\n",
       "</div>"
      ],
      "text/plain": [
       "                         genres  start_year  runtime_minutes  averagerating  \\\n",
       "449  Comedy,Documentary,Fantasy      2015.0             70.0            9.4   \n",
       "633  Documentary,Family,Musical      2017.0             59.0            9.3   \n",
       "851               History,Sport      2016.0              NaN            9.2   \n",
       "837                   Game-Show      2013.0            130.0            9.0   \n",
       "882               Music,Mystery      2012.0              NaN            9.0   \n",
       "\n",
       "     numvotes  \n",
       "449       5.0  \n",
       "633      19.0  \n",
       "851       5.0  \n",
       "837       7.0  \n",
       "882       5.0  "
      ]
     },
     "execution_count": 12,
     "metadata": {},
     "output_type": "execute_result"
    }
   ],
   "source": [
    "qmaxr= q.groupby('genres',  as_index=False).mean().nlargest(5, 'averagerating')\n",
    "qmaxr"
   ]
  },
  {
   "cell_type": "markdown",
   "metadata": {},
   "source": [
    "- Step 3. Creating a subset with 10 items, with the highest average ratings. Then, plot the results."
   ]
  },
  {
   "cell_type": "code",
   "execution_count": 14,
   "metadata": {
    "scrolled": false
   },
   "outputs": [
    {
     "data": {
      "image/png": "[encoded data removed]",
      "text/plain": [
       "<Figure size 432x288 with 1 Axes>"
      ]
     },
     "metadata": {},
     "output_type": "display_data"
    }
   ],
   "source": [
    "# Using seaborn library, we plot the 10 sample set from the dataset \"q\" with the highest average rating\n",
    "# X axis represents all genres distributed within the 50 sample set.\n",
    "# Y axis represents the average rating values.\n",
    "sns.set_style(\"darkgrid\")\n",
    "sns.barplot(data=qmaxr, x= 'genres', y= 'averagerating', color= 'green')\n",
    "plt.xticks(rotation=45);\n",
    "plt.ylabel(\"Average rating\");\n",
    "plt.title(\"Genres with highest ratings\");\n",
    "plt.savefig(\"genres_high_ratings.png\",\n",
    "            bbox_inches =\"tight\",\n",
    "            orientation ='landscape');"
   ]
  },
  {
   "cell_type": "markdown",
   "metadata": {},
   "source": [
    "- Step 4. Creating a subset with 10 samples, with the lowest average ratings. Then, plot the results."
   ]
  },
  {
   "cell_type": "code",
   "execution_count": 15,
   "metadata": {
    "scrolled": false
   },
   "outputs": [
    {
     "data": {
      "text/html": [
       "<div>\n",
       "<style scoped>\n",
       "    .dataframe tbody tr th:only-of-type {\n",
       "        vertical-align: middle;\n",
       "    }\n",
       "\n",
       "    .dataframe tbody tr th {\n",
       "        vertical-align: top;\n",
       "    }\n",
       "\n",
       "    .dataframe thead th {\n",
       "        text-align: right;\n",
       "    }\n",
       "</style>\n",
       "<table border=\"1\" class=\"dataframe\">\n",
       "  <thead>\n",
       "    <tr style=\"text-align: right;\">\n",
       "      <th></th>\n",
       "      <th>genres</th>\n",
       "      <th>start_year</th>\n",
       "      <th>runtime_minutes</th>\n",
       "      <th>averagerating</th>\n",
       "      <th>numvotes</th>\n",
       "    </tr>\n",
       "  </thead>\n",
       "  <tbody>\n",
       "    <tr>\n",
       "      <th>527</th>\n",
       "      <td>Comedy,Musical,Sport</td>\n",
       "      <td>2015.0</td>\n",
       "      <td>101.0</td>\n",
       "      <td>1.4</td>\n",
       "      <td>28.0</td>\n",
       "    </tr>\n",
       "    <tr>\n",
       "      <th>153</th>\n",
       "      <td>Adult,Horror</td>\n",
       "      <td>2015.0</td>\n",
       "      <td>120.0</td>\n",
       "      <td>2.0</td>\n",
       "      <td>128.0</td>\n",
       "    </tr>\n",
       "    <tr>\n",
       "      <th>195</th>\n",
       "      <td>Adventure,Crime,Romance</td>\n",
       "      <td>2011.0</td>\n",
       "      <td>86.0</td>\n",
       "      <td>2.3</td>\n",
       "      <td>9.0</td>\n",
       "    </tr>\n",
       "    <tr>\n",
       "      <th>850</th>\n",
       "      <td>History,Sci-Fi,Thriller</td>\n",
       "      <td>2017.0</td>\n",
       "      <td>120.0</td>\n",
       "      <td>2.3</td>\n",
       "      <td>227.0</td>\n",
       "    </tr>\n",
       "    <tr>\n",
       "      <th>594</th>\n",
       "      <td>Crime,Music</td>\n",
       "      <td>2018.0</td>\n",
       "      <td>94.0</td>\n",
       "      <td>2.4</td>\n",
       "      <td>88.0</td>\n",
       "    </tr>\n",
       "  </tbody>\n",
       "</table>\n",
       "</div>"
      ],
      "text/plain": [
       "                      genres  start_year  runtime_minutes  averagerating  \\\n",
       "527     Comedy,Musical,Sport      2015.0            101.0            1.4   \n",
       "153             Adult,Horror      2015.0            120.0            2.0   \n",
       "195  Adventure,Crime,Romance      2011.0             86.0            2.3   \n",
       "850  History,Sci-Fi,Thriller      2017.0            120.0            2.3   \n",
       "594              Crime,Music      2018.0             94.0            2.4   \n",
       "\n",
       "     numvotes  \n",
       "527      28.0  \n",
       "153     128.0  \n",
       "195       9.0  \n",
       "850     227.0  \n",
       "594      88.0  "
      ]
     },
     "execution_count": 15,
     "metadata": {},
     "output_type": "execute_result"
    }
   ],
   "source": [
    "qminr = q.groupby('genres',  as_index=False).mean().nsmallest(5, 'averagerating')\n",
    "qminr"
   ]
  },
  {
   "cell_type": "code",
   "execution_count": 16,
   "metadata": {
    "scrolled": true
   },
   "outputs": [
    {
     "data": {
      "image/png": "[encoded data removed]",
      "text/plain": [
       "<Figure size 432x288 with 1 Axes>"
      ]
     },
     "metadata": {},
     "output_type": "display_data"
    }
   ],
   "source": [
    "# Using seaborn library, we plot the 10 sample set from the dataset \"q\" with the lowest average rating.\n",
    "# X axis represents all genres distributed within the 50 sample set.\n",
    "# Y axis represents the average rating values.\n",
    "sns.set_style(\"darkgrid\")\n",
    "sns.barplot(data=qminr, x=\"genres\", y=\"averagerating\",  color= 'green');\n",
    "plt.xticks(rotation=45);\n",
    "plt.ylabel(\"Average rating\");\n",
    "plt.title(\"Genres with lowest ratings\");\n",
    "plt.savefig(\"genres_low_ratings.png\",\n",
    "            bbox_inches =\"tight\",\n",
    "            orientation ='landscape');"
   ]
  },
  {
   "cell_type": "code",
   "execution_count": 17,
   "metadata": {},
   "outputs": [
    {
     "data": {
      "text/plain": [
       "count    5.000000\n",
       "mean     9.180000\n",
       "std      0.178885\n",
       "min      9.000000\n",
       "25%      9.000000\n",
       "50%      9.200000\n",
       "75%      9.300000\n",
       "max      9.400000\n",
       "Name: averagerating, dtype: float64"
      ]
     },
     "execution_count": 17,
     "metadata": {},
     "output_type": "execute_result"
    }
   ],
   "source": [
    "qmaxr['averagerating'].describe()"
   ]
  },
  {
   "cell_type": "code",
   "execution_count": 18,
   "metadata": {},
   "outputs": [
    {
     "data": {
      "text/plain": [
       "count    5.000000\n",
       "mean     2.080000\n",
       "std      0.408656\n",
       "min      1.400000\n",
       "25%      2.000000\n",
       "50%      2.300000\n",
       "75%      2.300000\n",
       "max      2.400000\n",
       "Name: averagerating, dtype: float64"
      ]
     },
     "execution_count": 18,
     "metadata": {},
     "output_type": "execute_result"
    }
   ],
   "source": [
    "qminr['averagerating'].describe()"
   ]
  },
  {
   "cell_type": "markdown",
   "metadata": {},
   "source": [
    "#### What can be conclued for question a?\n",
    "- For the highest average rating movies, DOCUMENTARY is the most common genre within our 10 samples. Moreover, it is combined with other genres like Drama, Music or Sport.\n",
    "- For the lowest average rating movies, DRAMA is the most common genre within our 10 samples. Moreover, it is combined with other genres like Adventure, Horror or Thriller."
   ]
  },
  {
   "cell_type": "markdown",
   "metadata": {},
   "source": [
    "### b. Does a movie's genre have an impact in mean gross revenues?"
   ]
  },
  {
   "cell_type": "markdown",
   "metadata": {},
   "source": [
    "- Step 1. Explore where to merge the dataframes (Where? Movie titles)"
   ]
  },
  {
   "cell_type": "code",
   "execution_count": 19,
   "metadata": {},
   "outputs": [],
   "source": [
    "# df.head() gives by default the first 5 rows from the dataframe\n",
    "# df.tail() gives by default the last 5 rows from the dataframe"
   ]
  },
  {
   "cell_type": "code",
   "execution_count": 20,
   "metadata": {
    "scrolled": true
   },
   "outputs": [
    {
     "data": {
      "text/html": [
       "<div>\n",
       "<style scoped>\n",
       "    .dataframe tbody tr th:only-of-type {\n",
       "        vertical-align: middle;\n",
       "    }\n",
       "\n",
       "    .dataframe tbody tr th {\n",
       "        vertical-align: top;\n",
       "    }\n",
       "\n",
       "    .dataframe thead th {\n",
       "        text-align: right;\n",
       "    }\n",
       "</style>\n",
       "<table border=\"1\" class=\"dataframe\">\n",
       "  <thead>\n",
       "    <tr style=\"text-align: right;\">\n",
       "      <th></th>\n",
       "      <th>movie_id</th>\n",
       "      <th>primary_title</th>\n",
       "      <th>original_title</th>\n",
       "      <th>start_year</th>\n",
       "      <th>runtime_minutes</th>\n",
       "      <th>genres</th>\n",
       "      <th>movie_id</th>\n",
       "      <th>averagerating</th>\n",
       "      <th>numvotes</th>\n",
       "    </tr>\n",
       "  </thead>\n",
       "  <tbody>\n",
       "    <tr>\n",
       "      <th>0</th>\n",
       "      <td>tt0063540</td>\n",
       "      <td>Sunghursh</td>\n",
       "      <td>Sunghursh</td>\n",
       "      <td>2013</td>\n",
       "      <td>175.0</td>\n",
       "      <td>Action,Crime,Drama</td>\n",
       "      <td>tt0063540</td>\n",
       "      <td>7.0</td>\n",
       "      <td>77</td>\n",
       "    </tr>\n",
       "    <tr>\n",
       "      <th>1</th>\n",
       "      <td>tt0066787</td>\n",
       "      <td>One Day Before the Rainy Season</td>\n",
       "      <td>Ashad Ka Ek Din</td>\n",
       "      <td>2019</td>\n",
       "      <td>114.0</td>\n",
       "      <td>Biography,Drama</td>\n",
       "      <td>tt0066787</td>\n",
       "      <td>7.2</td>\n",
       "      <td>43</td>\n",
       "    </tr>\n",
       "  </tbody>\n",
       "</table>\n",
       "</div>"
      ],
      "text/plain": [
       "    movie_id                    primary_title   original_title  start_year  \\\n",
       "0  tt0063540                        Sunghursh        Sunghursh        2013   \n",
       "1  tt0066787  One Day Before the Rainy Season  Ashad Ka Ek Din        2019   \n",
       "\n",
       "   runtime_minutes              genres   movie_id  averagerating  numvotes  \n",
       "0            175.0  Action,Crime,Drama  tt0063540            7.0        77  \n",
       "1            114.0     Biography,Drama  tt0066787            7.2        43  "
      ]
     },
     "execution_count": 20,
     "metadata": {},
     "output_type": "execute_result"
    }
   ],
   "source": [
    "q.head(2)"
   ]
  },
  {
   "cell_type": "code",
   "execution_count": 21,
   "metadata": {
    "scrolled": true
   },
   "outputs": [
    {
     "data": {
      "text/html": [
       "<div>\n",
       "<style scoped>\n",
       "    .dataframe tbody tr th:only-of-type {\n",
       "        vertical-align: middle;\n",
       "    }\n",
       "\n",
       "    .dataframe tbody tr th {\n",
       "        vertical-align: top;\n",
       "    }\n",
       "\n",
       "    .dataframe thead th {\n",
       "        text-align: right;\n",
       "    }\n",
       "</style>\n",
       "<table border=\"1\" class=\"dataframe\">\n",
       "  <thead>\n",
       "    <tr style=\"text-align: right;\">\n",
       "      <th></th>\n",
       "      <th>title</th>\n",
       "      <th>studio</th>\n",
       "      <th>domestic_gross</th>\n",
       "      <th>foreign_gross</th>\n",
       "      <th>year</th>\n",
       "    </tr>\n",
       "  </thead>\n",
       "  <tbody>\n",
       "    <tr>\n",
       "      <th>0</th>\n",
       "      <td>Toy Story 3</td>\n",
       "      <td>BV</td>\n",
       "      <td>415000000.0</td>\n",
       "      <td>652000000</td>\n",
       "      <td>2010</td>\n",
       "    </tr>\n",
       "    <tr>\n",
       "      <th>1</th>\n",
       "      <td>Alice in Wonderland (2010)</td>\n",
       "      <td>BV</td>\n",
       "      <td>334200000.0</td>\n",
       "      <td>691300000</td>\n",
       "      <td>2010</td>\n",
       "    </tr>\n",
       "  </tbody>\n",
       "</table>\n",
       "</div>"
      ],
      "text/plain": [
       "                        title studio  domestic_gross foreign_gross  year\n",
       "0                 Toy Story 3     BV     415000000.0     652000000  2010\n",
       "1  Alice in Wonderland (2010)     BV     334200000.0     691300000  2010"
      ]
     },
     "execution_count": 21,
     "metadata": {},
     "output_type": "execute_result"
    }
   ],
   "source": [
    "bomDF.head(2)"
   ]
  },
  {
   "cell_type": "markdown",
   "metadata": {},
   "source": [
    "- Step 2. Change name in bomDF['title'] column to bomDF['primary_title']"
   ]
  },
  {
   "cell_type": "code",
   "execution_count": 22,
   "metadata": {},
   "outputs": [],
   "source": [
    "# For the dataframe merging to be successful, we must change the column name in any of the two dataframes.\n",
    "bomDF.rename(columns = {'title':'primary_title'}, inplace = True)"
   ]
  },
  {
   "cell_type": "code",
   "execution_count": 23,
   "metadata": {
    "scrolled": true
   },
   "outputs": [
    {
     "data": {
      "text/html": [
       "<div>\n",
       "<style scoped>\n",
       "    .dataframe tbody tr th:only-of-type {\n",
       "        vertical-align: middle;\n",
       "    }\n",
       "\n",
       "    .dataframe tbody tr th {\n",
       "        vertical-align: top;\n",
       "    }\n",
       "\n",
       "    .dataframe thead th {\n",
       "        text-align: right;\n",
       "    }\n",
       "</style>\n",
       "<table border=\"1\" class=\"dataframe\">\n",
       "  <thead>\n",
       "    <tr style=\"text-align: right;\">\n",
       "      <th></th>\n",
       "      <th>primary_title</th>\n",
       "      <th>studio</th>\n",
       "      <th>domestic_gross</th>\n",
       "      <th>foreign_gross</th>\n",
       "      <th>year</th>\n",
       "    </tr>\n",
       "  </thead>\n",
       "  <tbody>\n",
       "    <tr>\n",
       "      <th>0</th>\n",
       "      <td>Toy Story 3</td>\n",
       "      <td>BV</td>\n",
       "      <td>415000000.0</td>\n",
       "      <td>652000000</td>\n",
       "      <td>2010</td>\n",
       "    </tr>\n",
       "    <tr>\n",
       "      <th>1</th>\n",
       "      <td>Alice in Wonderland (2010)</td>\n",
       "      <td>BV</td>\n",
       "      <td>334200000.0</td>\n",
       "      <td>691300000</td>\n",
       "      <td>2010</td>\n",
       "    </tr>\n",
       "  </tbody>\n",
       "</table>\n",
       "</div>"
      ],
      "text/plain": [
       "                primary_title studio  domestic_gross foreign_gross  year\n",
       "0                 Toy Story 3     BV     415000000.0     652000000  2010\n",
       "1  Alice in Wonderland (2010)     BV     334200000.0     691300000  2010"
      ]
     },
     "execution_count": 23,
     "metadata": {},
     "output_type": "execute_result"
    }
   ],
   "source": [
    "bomDF.head(2)"
   ]
  },
  {
   "cell_type": "markdown",
   "metadata": {},
   "source": [
    "- Step 3. Merge (type: inner) the \"q\" dataframe with \"bomDF\" dataframe on 'primary_title'"
   ]
  },
  {
   "cell_type": "code",
   "execution_count": 24,
   "metadata": {},
   "outputs": [],
   "source": [
    "# the df.merge() function joins 2 dataframes by the inner type (default) on the column we want it to ('primary_title')\n",
    "full_merge = bomDF.merge(q,on='primary_title')"
   ]
  },
  {
   "cell_type": "code",
   "execution_count": 25,
   "metadata": {
    "scrolled": true
   },
   "outputs": [
    {
     "data": {
      "text/html": [
       "<div>\n",
       "<style scoped>\n",
       "    .dataframe tbody tr th:only-of-type {\n",
       "        vertical-align: middle;\n",
       "    }\n",
       "\n",
       "    .dataframe tbody tr th {\n",
       "        vertical-align: top;\n",
       "    }\n",
       "\n",
       "    .dataframe thead th {\n",
       "        text-align: right;\n",
       "    }\n",
       "</style>\n",
       "<table border=\"1\" class=\"dataframe\">\n",
       "  <thead>\n",
       "    <tr style=\"text-align: right;\">\n",
       "      <th></th>\n",
       "      <th>primary_title</th>\n",
       "      <th>studio</th>\n",
       "      <th>domestic_gross</th>\n",
       "      <th>foreign_gross</th>\n",
       "      <th>year</th>\n",
       "      <th>movie_id</th>\n",
       "      <th>original_title</th>\n",
       "      <th>start_year</th>\n",
       "      <th>runtime_minutes</th>\n",
       "      <th>genres</th>\n",
       "      <th>movie_id</th>\n",
       "      <th>averagerating</th>\n",
       "      <th>numvotes</th>\n",
       "    </tr>\n",
       "  </thead>\n",
       "  <tbody>\n",
       "    <tr>\n",
       "      <th>0</th>\n",
       "      <td>Toy Story 3</td>\n",
       "      <td>BV</td>\n",
       "      <td>415000000.0</td>\n",
       "      <td>652000000</td>\n",
       "      <td>2010</td>\n",
       "      <td>tt0435761</td>\n",
       "      <td>Toy Story 3</td>\n",
       "      <td>2010</td>\n",
       "      <td>103.0</td>\n",
       "      <td>Adventure,Animation,Comedy</td>\n",
       "      <td>tt0435761</td>\n",
       "      <td>8.3</td>\n",
       "      <td>682218</td>\n",
       "    </tr>\n",
       "    <tr>\n",
       "      <th>1</th>\n",
       "      <td>Inception</td>\n",
       "      <td>WB</td>\n",
       "      <td>292600000.0</td>\n",
       "      <td>535700000</td>\n",
       "      <td>2010</td>\n",
       "      <td>tt1375666</td>\n",
       "      <td>Inception</td>\n",
       "      <td>2010</td>\n",
       "      <td>148.0</td>\n",
       "      <td>Action,Adventure,Sci-Fi</td>\n",
       "      <td>tt1375666</td>\n",
       "      <td>8.8</td>\n",
       "      <td>1841066</td>\n",
       "    </tr>\n",
       "    <tr>\n",
       "      <th>2</th>\n",
       "      <td>Shrek Forever After</td>\n",
       "      <td>P/DW</td>\n",
       "      <td>238700000.0</td>\n",
       "      <td>513900000</td>\n",
       "      <td>2010</td>\n",
       "      <td>tt0892791</td>\n",
       "      <td>Shrek Forever After</td>\n",
       "      <td>2010</td>\n",
       "      <td>93.0</td>\n",
       "      <td>Adventure,Animation,Comedy</td>\n",
       "      <td>tt0892791</td>\n",
       "      <td>6.3</td>\n",
       "      <td>167532</td>\n",
       "    </tr>\n",
       "    <tr>\n",
       "      <th>3</th>\n",
       "      <td>The Twilight Saga: Eclipse</td>\n",
       "      <td>Sum.</td>\n",
       "      <td>300500000.0</td>\n",
       "      <td>398000000</td>\n",
       "      <td>2010</td>\n",
       "      <td>tt1325004</td>\n",
       "      <td>The Twilight Saga: Eclipse</td>\n",
       "      <td>2010</td>\n",
       "      <td>124.0</td>\n",
       "      <td>Adventure,Drama,Fantasy</td>\n",
       "      <td>tt1325004</td>\n",
       "      <td>5.0</td>\n",
       "      <td>211733</td>\n",
       "    </tr>\n",
       "    <tr>\n",
       "      <th>4</th>\n",
       "      <td>Iron Man 2</td>\n",
       "      <td>Par.</td>\n",
       "      <td>312400000.0</td>\n",
       "      <td>311500000</td>\n",
       "      <td>2010</td>\n",
       "      <td>tt1228705</td>\n",
       "      <td>Iron Man 2</td>\n",
       "      <td>2010</td>\n",
       "      <td>124.0</td>\n",
       "      <td>Action,Adventure,Sci-Fi</td>\n",
       "      <td>tt1228705</td>\n",
       "      <td>7.0</td>\n",
       "      <td>657690</td>\n",
       "    </tr>\n",
       "  </tbody>\n",
       "</table>\n",
       "</div>"
      ],
      "text/plain": [
       "                primary_title studio  domestic_gross foreign_gross  year  \\\n",
       "0                 Toy Story 3     BV     415000000.0     652000000  2010   \n",
       "1                   Inception     WB     292600000.0     535700000  2010   \n",
       "2         Shrek Forever After   P/DW     238700000.0     513900000  2010   \n",
       "3  The Twilight Saga: Eclipse   Sum.     300500000.0     398000000  2010   \n",
       "4                  Iron Man 2   Par.     312400000.0     311500000  2010   \n",
       "\n",
       "    movie_id              original_title  start_year  runtime_minutes  \\\n",
       "0  tt0435761                 Toy Story 3        2010            103.0   \n",
       "1  tt1375666                   Inception        2010            148.0   \n",
       "2  tt0892791         Shrek Forever After        2010             93.0   \n",
       "3  tt1325004  The Twilight Saga: Eclipse        2010            124.0   \n",
       "4  tt1228705                  Iron Man 2        2010            124.0   \n",
       "\n",
       "                       genres   movie_id  averagerating  numvotes  \n",
       "0  Adventure,Animation,Comedy  tt0435761            8.3    682218  \n",
       "1     Action,Adventure,Sci-Fi  tt1375666            8.8   1841066  \n",
       "2  Adventure,Animation,Comedy  tt0892791            6.3    167532  \n",
       "3     Adventure,Drama,Fantasy  tt1325004            5.0    211733  \n",
       "4     Action,Adventure,Sci-Fi  tt1228705            7.0    657690  "
      ]
     },
     "execution_count": 25,
     "metadata": {},
     "output_type": "execute_result"
    }
   ],
   "source": [
    "full_merge.head()"
   ]
  },
  {
   "cell_type": "markdown",
   "metadata": {},
   "source": [
    "- Step 4. Change full_merge['foreign_gross'] to float64, retire NaN values and then create a new column where domestic and foreign gross are summed."
   ]
  },
  {
   "cell_type": "code",
   "execution_count": 26,
   "metadata": {
    "scrolled": true
   },
   "outputs": [
    {
     "name": "stdout",
     "output_type": "stream",
     "text": [
      "float64\n",
      "object\n"
     ]
    }
   ],
   "source": [
    "print(full_merge['domestic_gross'].dtypes)\n",
    "print(full_merge['foreign_gross'].dtypes)"
   ]
  },
  {
   "cell_type": "code",
   "execution_count": 27,
   "metadata": {},
   "outputs": [],
   "source": [
    "full_merge['foreign_gross'] = full_merge['foreign_gross'].replace(',','', regex=True)"
   ]
  },
  {
   "cell_type": "code",
   "execution_count": 28,
   "metadata": {
    "scrolled": true
   },
   "outputs": [],
   "source": [
    "full_merge['foreign_gross'] = full_merge['foreign_gross'].astype(float)"
   ]
  },
  {
   "cell_type": "code",
   "execution_count": 29,
   "metadata": {},
   "outputs": [
    {
     "data": {
      "text/plain": [
       "1195"
      ]
     },
     "execution_count": 29,
     "metadata": {},
     "output_type": "execute_result"
    }
   ],
   "source": [
    "full_merge['foreign_gross'].isna().sum()"
   ]
  },
  {
   "cell_type": "code",
   "execution_count": 30,
   "metadata": {},
   "outputs": [],
   "source": [
    "full_merge.dropna(subset=['foreign_gross'], inplace=True)"
   ]
  },
  {
   "cell_type": "code",
   "execution_count": 31,
   "metadata": {},
   "outputs": [
    {
     "data": {
      "text/plain": [
       "0"
      ]
     },
     "execution_count": 31,
     "metadata": {},
     "output_type": "execute_result"
    }
   ],
   "source": [
    "full_merge['foreign_gross'].isna().sum()"
   ]
  },
  {
   "cell_type": "code",
   "execution_count": 32,
   "metadata": {},
   "outputs": [
    {
     "name": "stdout",
     "output_type": "stream",
     "text": [
      "float64\n",
      "float64\n"
     ]
    }
   ],
   "source": [
    "print(full_merge['domestic_gross'].dtypes)\n",
    "print(full_merge['foreign_gross'].dtypes)"
   ]
  },
  {
   "cell_type": "code",
   "execution_count": 33,
   "metadata": {},
   "outputs": [],
   "source": [
    "full_merge['global_sum'] = full_merge['domestic_gross'] + full_merge['foreign_gross']"
   ]
  },
  {
   "cell_type": "code",
   "execution_count": 34,
   "metadata": {
    "scrolled": true
   },
   "outputs": [],
   "source": [
    "full_merge['global_sum'] = full_merge['global_sum'].astype(float)"
   ]
  },
  {
   "cell_type": "code",
   "execution_count": 35,
   "metadata": {},
   "outputs": [
    {
     "data": {
      "text/html": [
       "<div>\n",
       "<style scoped>\n",
       "    .dataframe tbody tr th:only-of-type {\n",
       "        vertical-align: middle;\n",
       "    }\n",
       "\n",
       "    .dataframe tbody tr th {\n",
       "        vertical-align: top;\n",
       "    }\n",
       "\n",
       "    .dataframe thead th {\n",
       "        text-align: right;\n",
       "    }\n",
       "</style>\n",
       "<table border=\"1\" class=\"dataframe\">\n",
       "  <thead>\n",
       "    <tr style=\"text-align: right;\">\n",
       "      <th></th>\n",
       "      <th>primary_title</th>\n",
       "      <th>studio</th>\n",
       "      <th>domestic_gross</th>\n",
       "      <th>foreign_gross</th>\n",
       "      <th>year</th>\n",
       "      <th>movie_id</th>\n",
       "      <th>original_title</th>\n",
       "      <th>start_year</th>\n",
       "      <th>runtime_minutes</th>\n",
       "      <th>genres</th>\n",
       "      <th>movie_id</th>\n",
       "      <th>averagerating</th>\n",
       "      <th>numvotes</th>\n",
       "      <th>global_sum</th>\n",
       "    </tr>\n",
       "  </thead>\n",
       "  <tbody>\n",
       "    <tr>\n",
       "      <th>0</th>\n",
       "      <td>Toy Story 3</td>\n",
       "      <td>BV</td>\n",
       "      <td>415000000.0</td>\n",
       "      <td>652000000.0</td>\n",
       "      <td>2010</td>\n",
       "      <td>tt0435761</td>\n",
       "      <td>Toy Story 3</td>\n",
       "      <td>2010</td>\n",
       "      <td>103.0</td>\n",
       "      <td>Adventure,Animation,Comedy</td>\n",
       "      <td>tt0435761</td>\n",
       "      <td>8.3</td>\n",
       "      <td>682218</td>\n",
       "      <td>1.067000e+09</td>\n",
       "    </tr>\n",
       "    <tr>\n",
       "      <th>1</th>\n",
       "      <td>Inception</td>\n",
       "      <td>WB</td>\n",
       "      <td>292600000.0</td>\n",
       "      <td>535700000.0</td>\n",
       "      <td>2010</td>\n",
       "      <td>tt1375666</td>\n",
       "      <td>Inception</td>\n",
       "      <td>2010</td>\n",
       "      <td>148.0</td>\n",
       "      <td>Action,Adventure,Sci-Fi</td>\n",
       "      <td>tt1375666</td>\n",
       "      <td>8.8</td>\n",
       "      <td>1841066</td>\n",
       "      <td>8.283000e+08</td>\n",
       "    </tr>\n",
       "  </tbody>\n",
       "</table>\n",
       "</div>"
      ],
      "text/plain": [
       "  primary_title studio  domestic_gross  foreign_gross  year   movie_id  \\\n",
       "0   Toy Story 3     BV     415000000.0    652000000.0  2010  tt0435761   \n",
       "1     Inception     WB     292600000.0    535700000.0  2010  tt1375666   \n",
       "\n",
       "  original_title  start_year  runtime_minutes                      genres  \\\n",
       "0    Toy Story 3        2010            103.0  Adventure,Animation,Comedy   \n",
       "1      Inception        2010            148.0     Action,Adventure,Sci-Fi   \n",
       "\n",
       "    movie_id  averagerating  numvotes    global_sum  \n",
       "0  tt0435761            8.3    682218  1.067000e+09  \n",
       "1  tt1375666            8.8   1841066  8.283000e+08  "
      ]
     },
     "execution_count": 35,
     "metadata": {},
     "output_type": "execute_result"
    }
   ],
   "source": [
    "full_merge.head(2)"
   ]
  },
  {
   "cell_type": "markdown",
   "metadata": {},
   "source": [
    "- Step 5. Create a subset with 10 samples, with the highest global gross (sum of domestic and foreign)."
   ]
  },
  {
   "cell_type": "code",
   "execution_count": 36,
   "metadata": {},
   "outputs": [
    {
     "data": {
      "text/html": [
       "<div>\n",
       "<style scoped>\n",
       "    .dataframe tbody tr th:only-of-type {\n",
       "        vertical-align: middle;\n",
       "    }\n",
       "\n",
       "    .dataframe tbody tr th {\n",
       "        vertical-align: top;\n",
       "    }\n",
       "\n",
       "    .dataframe thead th {\n",
       "        text-align: right;\n",
       "    }\n",
       "</style>\n",
       "<table border=\"1\" class=\"dataframe\">\n",
       "  <thead>\n",
       "    <tr style=\"text-align: right;\">\n",
       "      <th></th>\n",
       "      <th>genres</th>\n",
       "      <th>domestic_gross</th>\n",
       "      <th>foreign_gross</th>\n",
       "      <th>year</th>\n",
       "      <th>start_year</th>\n",
       "      <th>runtime_minutes</th>\n",
       "      <th>averagerating</th>\n",
       "      <th>numvotes</th>\n",
       "      <th>global_sum</th>\n",
       "    </tr>\n",
       "  </thead>\n",
       "  <tbody>\n",
       "    <tr>\n",
       "      <th>88</th>\n",
       "      <td>Adventure,Drama,Sport</td>\n",
       "      <td>4.007000e+08</td>\n",
       "      <td>8.757000e+08</td>\n",
       "      <td>2013.000000</td>\n",
       "      <td>2010.000000</td>\n",
       "      <td>93.000000</td>\n",
       "      <td>6.200000</td>\n",
       "      <td>62311.000000</td>\n",
       "      <td>1.276400e+09</td>\n",
       "    </tr>\n",
       "    <tr>\n",
       "      <th>193</th>\n",
       "      <td>Documentary,Drama,Sport</td>\n",
       "      <td>4.126000e+08</td>\n",
       "      <td>4.093000e+08</td>\n",
       "      <td>2017.000000</td>\n",
       "      <td>2016.000000</td>\n",
       "      <td>75.000000</td>\n",
       "      <td>6.900000</td>\n",
       "      <td>13.000000</td>\n",
       "      <td>8.219000e+08</td>\n",
       "    </tr>\n",
       "    <tr>\n",
       "      <th>261</th>\n",
       "      <td>Sci-Fi</td>\n",
       "      <td>4.126000e+08</td>\n",
       "      <td>4.093000e+08</td>\n",
       "      <td>2017.000000</td>\n",
       "      <td>2014.000000</td>\n",
       "      <td>60.000000</td>\n",
       "      <td>4.200000</td>\n",
       "      <td>20.000000</td>\n",
       "      <td>8.219000e+08</td>\n",
       "    </tr>\n",
       "    <tr>\n",
       "      <th>93</th>\n",
       "      <td>Adventure,Fantasy</td>\n",
       "      <td>1.929000e+08</td>\n",
       "      <td>5.111333e+08</td>\n",
       "      <td>2013.333333</td>\n",
       "      <td>2013.333333</td>\n",
       "      <td>139.666667</td>\n",
       "      <td>7.166667</td>\n",
       "      <td>375770.333333</td>\n",
       "      <td>7.040333e+08</td>\n",
       "    </tr>\n",
       "    <tr>\n",
       "      <th>243</th>\n",
       "      <td>Fantasy,Romance</td>\n",
       "      <td>2.005215e+08</td>\n",
       "      <td>4.585000e+08</td>\n",
       "      <td>2012.500000</td>\n",
       "      <td>2011.000000</td>\n",
       "      <td>107.000000</td>\n",
       "      <td>6.400000</td>\n",
       "      <td>2866.000000</td>\n",
       "      <td>6.590215e+08</td>\n",
       "    </tr>\n",
       "  </tbody>\n",
       "</table>\n",
       "</div>"
      ],
      "text/plain": [
       "                      genres  domestic_gross  foreign_gross         year  \\\n",
       "88     Adventure,Drama,Sport    4.007000e+08   8.757000e+08  2013.000000   \n",
       "193  Documentary,Drama,Sport    4.126000e+08   4.093000e+08  2017.000000   \n",
       "261                   Sci-Fi    4.126000e+08   4.093000e+08  2017.000000   \n",
       "93         Adventure,Fantasy    1.929000e+08   5.111333e+08  2013.333333   \n",
       "243          Fantasy,Romance    2.005215e+08   4.585000e+08  2012.500000   \n",
       "\n",
       "      start_year  runtime_minutes  averagerating       numvotes    global_sum  \n",
       "88   2010.000000        93.000000       6.200000   62311.000000  1.276400e+09  \n",
       "193  2016.000000        75.000000       6.900000      13.000000  8.219000e+08  \n",
       "261  2014.000000        60.000000       4.200000      20.000000  8.219000e+08  \n",
       "93   2013.333333       139.666667       7.166667  375770.333333  7.040333e+08  \n",
       "243  2011.000000       107.000000       6.400000    2866.000000  6.590215e+08  "
      ]
     },
     "execution_count": 36,
     "metadata": {},
     "output_type": "execute_result"
    }
   ],
   "source": [
    "full_merge_max = full_merge.groupby('genres',  as_index=False).mean().nlargest(5, 'global_sum')\n",
    "full_merge_max"
   ]
  },
  {
   "cell_type": "code",
   "execution_count": 37,
   "metadata": {},
   "outputs": [
    {
     "data": {
      "image/png": "[encoded data removed]",
      "text/plain": [
       "<Figure size 432x288 with 1 Axes>"
      ]
     },
     "metadata": {},
     "output_type": "display_data"
    }
   ],
   "source": [
    "# Using seaborn library, we plot the 50 sample set from the dataset \"full_merge\" with the highest revenues\n",
    "# X axis represents all genres distributed within the 50 sample set.\n",
    "# Y axis represents the revenues values.\n",
    "sns.set_style(\"darkgrid\")\n",
    "sns.barplot(data=full_merge_max, x=\"genres\", y=\"global_sum\", color='green');\n",
    "plt.xticks(rotation=45);\n",
    "plt.ylabel(\"Gross (Billions of dollars)\");\n",
    "plt.title(\"Highest gross genres\");\n",
    "plt.savefig(\"genres_high_gross.png\",\n",
    "            bbox_inches =\"tight\",\n",
    "            orientation ='landscape');"
   ]
  },
  {
   "cell_type": "markdown",
   "metadata": {},
   "source": [
    "- Step 6. Create a subset with 10 samples, with the lowest global gross (sum of domestic and foreign)."
   ]
  },
  {
   "cell_type": "code",
   "execution_count": 38,
   "metadata": {},
   "outputs": [
    {
     "data": {
      "text/html": [
       "<div>\n",
       "<style scoped>\n",
       "    .dataframe tbody tr th:only-of-type {\n",
       "        vertical-align: middle;\n",
       "    }\n",
       "\n",
       "    .dataframe tbody tr th {\n",
       "        vertical-align: top;\n",
       "    }\n",
       "\n",
       "    .dataframe thead th {\n",
       "        text-align: right;\n",
       "    }\n",
       "</style>\n",
       "<table border=\"1\" class=\"dataframe\">\n",
       "  <thead>\n",
       "    <tr style=\"text-align: right;\">\n",
       "      <th></th>\n",
       "      <th>genres</th>\n",
       "      <th>domestic_gross</th>\n",
       "      <th>foreign_gross</th>\n",
       "      <th>year</th>\n",
       "      <th>start_year</th>\n",
       "      <th>runtime_minutes</th>\n",
       "      <th>averagerating</th>\n",
       "      <th>numvotes</th>\n",
       "      <th>global_sum</th>\n",
       "    </tr>\n",
       "  </thead>\n",
       "  <tbody>\n",
       "    <tr>\n",
       "      <th>116</th>\n",
       "      <td>Biography,Documentary,Drama</td>\n",
       "      <td>21600.0</td>\n",
       "      <td>105000.0</td>\n",
       "      <td>2011.0</td>\n",
       "      <td>2010.0</td>\n",
       "      <td>94.0</td>\n",
       "      <td>7.2</td>\n",
       "      <td>1566.0</td>\n",
       "      <td>126600.0</td>\n",
       "    </tr>\n",
       "    <tr>\n",
       "      <th>263</th>\n",
       "      <td>Thriller,Western</td>\n",
       "      <td>21100.0</td>\n",
       "      <td>300000.0</td>\n",
       "      <td>2010.0</td>\n",
       "      <td>2010.0</td>\n",
       "      <td>95.0</td>\n",
       "      <td>6.4</td>\n",
       "      <td>7874.0</td>\n",
       "      <td>321100.0</td>\n",
       "    </tr>\n",
       "    <tr>\n",
       "      <th>53</th>\n",
       "      <td>Action,Horror,Mystery</td>\n",
       "      <td>5500.0</td>\n",
       "      <td>364000.0</td>\n",
       "      <td>2012.0</td>\n",
       "      <td>2012.0</td>\n",
       "      <td>114.0</td>\n",
       "      <td>5.1</td>\n",
       "      <td>18206.0</td>\n",
       "      <td>369500.0</td>\n",
       "    </tr>\n",
       "    <tr>\n",
       "      <th>108</th>\n",
       "      <td>Animation,Drama,Sci-Fi</td>\n",
       "      <td>138000.0</td>\n",
       "      <td>318000.0</td>\n",
       "      <td>2014.0</td>\n",
       "      <td>2013.0</td>\n",
       "      <td>122.0</td>\n",
       "      <td>6.5</td>\n",
       "      <td>15996.0</td>\n",
       "      <td>456000.0</td>\n",
       "    </tr>\n",
       "    <tr>\n",
       "      <th>166</th>\n",
       "      <td>Comedy,Mystery,Romance</td>\n",
       "      <td>119000.0</td>\n",
       "      <td>421000.0</td>\n",
       "      <td>2011.0</td>\n",
       "      <td>2010.0</td>\n",
       "      <td>86.0</td>\n",
       "      <td>5.7</td>\n",
       "      <td>11858.0</td>\n",
       "      <td>540000.0</td>\n",
       "    </tr>\n",
       "  </tbody>\n",
       "</table>\n",
       "</div>"
      ],
      "text/plain": [
       "                          genres  domestic_gross  foreign_gross    year  \\\n",
       "116  Biography,Documentary,Drama         21600.0       105000.0  2011.0   \n",
       "263             Thriller,Western         21100.0       300000.0  2010.0   \n",
       "53         Action,Horror,Mystery          5500.0       364000.0  2012.0   \n",
       "108       Animation,Drama,Sci-Fi        138000.0       318000.0  2014.0   \n",
       "166       Comedy,Mystery,Romance        119000.0       421000.0  2011.0   \n",
       "\n",
       "     start_year  runtime_minutes  averagerating  numvotes  global_sum  \n",
       "116      2010.0             94.0            7.2    1566.0    126600.0  \n",
       "263      2010.0             95.0            6.4    7874.0    321100.0  \n",
       "53       2012.0            114.0            5.1   18206.0    369500.0  \n",
       "108      2013.0            122.0            6.5   15996.0    456000.0  \n",
       "166      2010.0             86.0            5.7   11858.0    540000.0  "
      ]
     },
     "execution_count": 38,
     "metadata": {},
     "output_type": "execute_result"
    }
   ],
   "source": [
    "full_merge_min = full_merge.groupby('genres',  as_index=False).mean().nsmallest(5, 'global_sum')\n",
    "full_merge_min"
   ]
  },
  {
   "cell_type": "code",
   "execution_count": 39,
   "metadata": {
    "scrolled": false
   },
   "outputs": [
    {
     "data": {
      "image/png": "[encoded data removed]",
      "text/plain": [
       "<Figure size 432x288 with 1 Axes>"
      ]
     },
     "metadata": {},
     "output_type": "display_data"
    }
   ],
   "source": [
    "# Using seaborn library, we plot the 5 sample set from the dataset \"full_merge\" with the lowest revenues\n",
    "# X axis represents all genres distributed within the 50 sample set.\n",
    "# Y axis represents the revenues values.\n",
    "sns.set_style(\"darkgrid\")\n",
    "sns.barplot(data=full_merge_min, x=\"genres\", y=\"global_sum\", color='green');\n",
    "plt.xticks(rotation=45);\n",
    "plt.ylabel(\"Gross (dollars)\");\n",
    "plt.title(\"Lowest gross genres\");\n",
    "plt.savefig(\"genres_low_gross.png\",\n",
    "            bbox_inches =\"tight\",\n",
    "            orientation ='landscape');"
   ]
  },
  {
   "cell_type": "markdown",
   "metadata": {},
   "source": [
    "- Step 7. Obtain statistical information about the highest and lowest gross genres"
   ]
  },
  {
   "cell_type": "code",
   "execution_count": 40,
   "metadata": {
    "scrolled": false
   },
   "outputs": [
    {
     "data": {
      "text/plain": [
       "count    5.000000e+00\n",
       "mean     8.566510e+08\n",
       "std      2.454354e+08\n",
       "min      6.590215e+08\n",
       "25%      7.040333e+08\n",
       "50%      8.219000e+08\n",
       "75%      8.219000e+08\n",
       "max      1.276400e+09\n",
       "Name: global_sum, dtype: float64"
      ]
     },
     "execution_count": 40,
     "metadata": {},
     "output_type": "execute_result"
    }
   ],
   "source": [
    "full_merge_max['global_sum'].describe()"
   ]
  },
  {
   "cell_type": "code",
   "execution_count": 41,
   "metadata": {},
   "outputs": [
    {
     "data": {
      "text/plain": [
       "Adventure,Drama,Sport      1\n",
       "Documentary,Drama,Sport    1\n",
       "Sci-Fi                     1\n",
       "Adventure,Fantasy          1\n",
       "Fantasy,Romance            1\n",
       "Name: genres, dtype: int64"
      ]
     },
     "execution_count": 41,
     "metadata": {},
     "output_type": "execute_result"
    }
   ],
   "source": [
    "full_merge_max['genres'].value_counts()"
   ]
  },
  {
   "cell_type": "code",
   "execution_count": 42,
   "metadata": {
    "scrolled": true
   },
   "outputs": [
    {
     "data": {
      "text/plain": [
       "count         5.000000\n",
       "mean     362640.000000\n",
       "std      156253.137568\n",
       "min      126600.000000\n",
       "25%      321100.000000\n",
       "50%      369500.000000\n",
       "75%      456000.000000\n",
       "max      540000.000000\n",
       "Name: global_sum, dtype: float64"
      ]
     },
     "execution_count": 42,
     "metadata": {},
     "output_type": "execute_result"
    }
   ],
   "source": [
    "full_merge_min['global_sum'].describe()"
   ]
  },
  {
   "cell_type": "code",
   "execution_count": 43,
   "metadata": {},
   "outputs": [
    {
     "data": {
      "text/plain": [
       "Biography,Documentary,Drama    1\n",
       "Thriller,Western               1\n",
       "Action,Horror,Mystery          1\n",
       "Animation,Drama,Sci-Fi         1\n",
       "Comedy,Mystery,Romance         1\n",
       "Name: genres, dtype: int64"
      ]
     },
     "execution_count": 43,
     "metadata": {},
     "output_type": "execute_result"
    }
   ],
   "source": [
    "full_merge_min['genres'].value_counts()"
   ]
  },
  {
   "cell_type": "markdown",
   "metadata": {},
   "source": [
    "- Step 8. Obtain statistics from our \"population\""
   ]
  },
  {
   "cell_type": "code",
   "execution_count": 44,
   "metadata": {
    "scrolled": false
   },
   "outputs": [
    {
     "data": {
      "text/plain": [
       "count    1.803000e+03\n",
       "mean     1.288335e+08\n",
       "std      2.088373e+08\n",
       "min      1.080000e+04\n",
       "25%      1.000000e+07\n",
       "50%      4.810000e+07\n",
       "75%      1.489000e+08\n",
       "max      1.405400e+09\n",
       "Name: global_sum, dtype: float64"
      ]
     },
     "execution_count": 44,
     "metadata": {},
     "output_type": "execute_result"
    }
   ],
   "source": [
    "full_merge['global_sum'].describe()"
   ]
  },
  {
   "cell_type": "code",
   "execution_count": 45,
   "metadata": {},
   "outputs": [
    {
     "data": {
      "text/plain": [
       "Drama                         128\n",
       "Comedy,Drama                   74\n",
       "Adventure,Animation,Comedy     72\n",
       "Comedy,Drama,Romance           66\n",
       "Drama,Romance                  62\n",
       "                             ... \n",
       "Action,Comedy,Sport             1\n",
       "Action,Comedy,Western           1\n",
       "Drama,Romance,War               1\n",
       "Adventure,Mystery,Sci-Fi        1\n",
       "Fantasy,Thriller                1\n",
       "Name: genres, Length: 264, dtype: int64"
      ]
     },
     "execution_count": 45,
     "metadata": {},
     "output_type": "execute_result"
    }
   ],
   "source": [
    "full_merge['genres'].value_counts()"
   ]
  },
  {
   "cell_type": "markdown",
   "metadata": {},
   "source": [
    "#### What can be conclued for question b?\n",
    "- ADVENTURE has the highest-gross genre. Moreover, it is combined with other genres like action, Sci-Fi, Comedy or Thriller.\n",
    "\n",
    "- DRAMA, COMEDY and HORROR stand as the lowest-gross genres."
   ]
  },
  {
   "cell_type": "markdown",
   "metadata": {},
   "source": [
    "### Conclusions for both questions\n",
    "- There is an almost linear behaviour between genre and revenues. This might be due to a genre's acceptance between viewers, as not all genres are suitable for all audiences.\n",
    "- On the other hand, the relationship bewteen genre and average ratings is not seen at all, although DOCUMENTARY and DRAMA are most common in high and low ratings, respectively.\n",
    "- Interestingly, even though DOCUMENTARY is a well-rated genre, its revenues are no match against the ADVENTURE genre. On the other hand, DRAMA is a genre which is both terribly rated and low-revenued."
   ]
  },
  {
   "cell_type": "markdown",
   "metadata": {},
   "source": [
    "# Sage's Section\n",
    "## Relationship between director and revenues\n",
    "\n",
    "- Does a movie's genre have an impact in mean gross revenues?\n",
    "- Top 5 genres with most gross revenues (info from 2020 and 2021)"
   ]
  },
  {
   "cell_type": "markdown",
   "metadata": {},
   "source": [
    "import the budget data and clean"
   ]
  },
  {
   "cell_type": "code",
   "execution_count": null,
   "metadata": {},
   "outputs": [],
   "source": [
    "# read in movie budgets\n",
    "budget = pd.read_csv(\"zippedData/tn.movie_budgets.csv.gz\")"
   ]
  },
  {
   "cell_type": "code",
   "execution_count": null,
   "metadata": {},
   "outputs": [],
   "source": [
    "# clean movie budget data \n",
    "# clean budget data so that the numbers are integers rather than strings\n",
    "budget[\"production_budget\"] = budget[\"production_budget\"].str.replace(\"$\", \"\")\n",
    "budget[\"domestic_gross\"] = budget[\"domestic_gross\"].str.replace(\"$\", \"\")\n",
    "budget[\"worldwide_gross\"] = budget[\"worldwide_gross\"].str.replace(\"$\", \"\")\n",
    "\n",
    "budget[\"production_budget\"] = budget[\"production_budget\"].str.replace(\",\", \"\")\n",
    "budget[\"domestic_gross\"] = budget[\"domestic_gross\"].str.replace(\",\", \"\")\n",
    "budget[\"worldwide_gross\"] = budget[\"worldwide_gross\"].str.replace(\",\", \"\")\n",
    "\n",
    "budget[\"production_budget\"] = budget[\"production_budget\"].astype(int)\n",
    "budget[\"domestic_gross\"] = budget[\"domestic_gross\"].astype(int)\n",
    "budget[\"worldwide_gross\"] = budget[\"worldwide_gross\"].astype(float)"
   ]
  },
  {
   "cell_type": "code",
   "execution_count": null,
   "metadata": {},
   "outputs": [],
   "source": [
    "# sort budget in descending order of worldwide_gross\n",
    "budget = budget.sort_values(by = \"worldwide_gross\", ascending = False)"
   ]
  },
  {
   "cell_type": "code",
   "execution_count": null,
   "metadata": {},
   "outputs": [],
   "source": [
    "top_budget = budget.head()\n",
    "top_budget"
   ]
  },
  {
   "cell_type": "markdown",
   "metadata": {},
   "source": [
    "### The average number of movies each director has been a part of and a box plot showing the IQR of the number of movies:"
   ]
  },
  {
   "cell_type": "markdown",
   "metadata": {},
   "source": [
    "start by creating a sql query that returns the number of movies each director has been in"
   ]
  },
  {
   "cell_type": "code",
   "execution_count": null,
   "metadata": {},
   "outputs": [],
   "source": [
    "num_of_movies_dir = \"\"\"\n",
    "SELECT \n",
    "    COUNT(movie_basics.primary_title),\n",
    "    persons.primary_name\n",
    "FROM persons\n",
    "JOIN directors\n",
    "    USING(person_id)\n",
    "JOIN movie_basics\n",
    "    USING(movie_id)\n",
    "JOIN principals\n",
    "    USING(movie_id)\n",
    "WHERE job LIKE \"lead director\" OR job LIKE \"assistant director\" OR job LIKE \"co director\" OR job LIKE \"co-director\"\n",
    "GROUP BY primary_name\n",
    "    HAVING COUNT(movie_basics.primary_title)\n",
    "\"\"\"\n",
    "num_of_movies_dir_df = pd.read_sql(num_of_movies_dir, conn)\n",
    "num_of_movies_dir_df"
   ]
  },
  {
   "cell_type": "markdown",
   "metadata": {},
   "source": [
    "determine average number of movies a director has been a part of"
   ]
  },
  {
   "cell_type": "code",
   "execution_count": null,
   "metadata": {},
   "outputs": [],
   "source": [
    "avg_movies_dir = num_of_movies_dir_df[\"COUNT(movie_basics.primary_title)\"].mean()\n",
    "avg_movies_dir"
   ]
  },
  {
   "cell_type": "markdown",
   "metadata": {},
   "source": [
    "create a box plot that shows the range of movies each director has been a part of"
   ]
  },
  {
   "cell_type": "code",
   "execution_count": null,
   "metadata": {},
   "outputs": [],
   "source": [
    "plt.boxplot(num_of_movies_dir_df[\"COUNT(movie_basics.primary_title)\"], vert=False, showfliers=False)\n",
    "plt.xlabel(\"number of movies\")\n",
    "plt.ylabel(\"director\")\n",
    "plt.title(\"Box Plot showing Quartile Range of Number of Movies each Director has Been in\")"
   ]
  },
  {
   "cell_type": "markdown",
   "metadata": {},
   "source": [
    "conclusion: it is acceptable to include directors that have only directed one movie because it is within range"
   ]
  },
  {
   "cell_type": "markdown",
   "metadata": {},
   "source": [
    "### Directors of a movie and the worldwide gross"
   ]
  },
  {
   "cell_type": "markdown",
   "metadata": {},
   "source": [
    "using sql query create a table that shows the directors of all the movies in the database including their job and the name of the movie"
   ]
  },
  {
   "cell_type": "code",
   "execution_count": null,
   "metadata": {},
   "outputs": [],
   "source": [
    "# create a SQL query that returns the primary name of the director and their movie\n",
    "# then turn the query into a dataframe\n",
    "# the SQL query should include only people whose job on the movie was \"lead director\", \"assistant director\",\n",
    "# or \"co director\" and who are still alive today \n",
    "directors = \"\"\"\n",
    "SELECT \n",
    "    persons.primary_name,\n",
    "    principals.job,\n",
    "    movie_basics.primary_title\n",
    "FROM persons\n",
    "JOIN directors\n",
    "    USING(person_id)\n",
    "JOIN movie_ratings\n",
    "    USING(movie_id)\n",
    "JOIN movie_basics\n",
    "    USING(movie_id)\n",
    "JOIN principals\n",
    "    USING(movie_id)\n",
    "WHERE (job LIKE \"lead director\" OR job LIKE \"assistant director\" OR job LIKE \"co director\" OR job LIKE \"co-director\") \n",
    "        AND death_year IS NULL\n",
    "\"\"\"\n",
    "\n",
    "directors_df = pd.read_sql(directors, conn)\n",
    "\n",
    "# clean table by dropping duplicates and na values\n",
    "directors_df = directors_df.drop_duplicates()\n",
    "directors_df = directors_df.dropna()\n",
    "directors_df"
   ]
  },
  {
   "cell_type": "markdown",
   "metadata": {},
   "source": [
    "examine the budget table"
   ]
  },
  {
   "cell_type": "code",
   "execution_count": null,
   "metadata": {},
   "outputs": [],
   "source": [
    "# examine the budget table\n",
    "budget.head()"
   ]
  },
  {
   "cell_type": "markdown",
   "metadata": {},
   "source": [
    "merge the budget dataframe and the directors dataframe, then create a table that shows only the directors and the budget of the movie"
   ]
  },
  {
   "cell_type": "code",
   "execution_count": null,
   "metadata": {},
   "outputs": [],
   "source": [
    "profit_and_directors = pd.merge(budget, directors_df, left_on='movie', right_on=\"primary_title\")\n",
    "profit_and_directors.head()"
   ]
  },
  {
   "cell_type": "code",
   "execution_count": null,
   "metadata": {},
   "outputs": [],
   "source": [
    "# create a table with only directors and the worldwide gross of their movies\n",
    "wwg_directors = profit_and_directors.loc[:,[\"primary_name\", \"worldwide_gross\"]]\n",
    "wwg_directors.head()"
   ]
  },
  {
   "cell_type": "code",
   "execution_count": null,
   "metadata": {},
   "outputs": [],
   "source": [
    "# remove any rows with values == 0\n",
    "empty_index = wwg_directors[wwg_directors[\"worldwide_gross\"] == 0].index\n",
    "wwg_directors = wwg_directors.drop(empty_index)"
   ]
  },
  {
   "cell_type": "code",
   "execution_count": null,
   "metadata": {},
   "outputs": [],
   "source": [
    "# sort the list by descending\n",
    "wwg_directors = wwg_directors.sort_values(by = \"worldwide_gross\", ascending=False)\n",
    "pd.set_option('display.float_format', lambda x: '%.9f' % x)\n",
    "pd.options.display.float_format = '{:,.1f}'.format\n",
    "wwg_directors"
   ]
  },
  {
   "cell_type": "markdown",
   "metadata": {},
   "source": [
    "create a boxplot that shows the range of the worldwide gross of each director "
   ]
  },
  {
   "cell_type": "code",
   "execution_count": null,
   "metadata": {},
   "outputs": [],
   "source": [
    "plt.boxplot(wwg_directors[\"worldwide_gross\"], vert=False)\n",
    "plt.rcParams[\"figure.figsize\"] = (10,6)\n",
    "plt.xlabel(\"worldwide gross\")\n",
    "plt.ylabel(\"movie\")"
   ]
  },
  {
   "cell_type": "markdown",
   "metadata": {},
   "source": [
    "create a scatterplot that shows the directors above the 75th quartile and the worldwide gross of each movie"
   ]
  },
  {
   "cell_type": "code",
   "execution_count": null,
   "metadata": {},
   "outputs": [],
   "source": [
    "# create a scatter plot showing that there is a correlation between director and worldwide gross\n",
    "directors_above_75Q = wwg_directors[wwg_directors[\"worldwide_gross\"] >= 600000000]\n",
    "plt.rcParams[\"figure.figsize\"] = (10,6)\n",
    "directors_above_75Q.plot(x = \"primary_name\", y = \"worldwide_gross\", kind = \"scatter\")\n",
    "plt.xticks(rotation='vertical')\n",
    "plt.title(\"directors and the average worldwide gross of the movies they have directed\")"
   ]
  },
  {
   "cell_type": "markdown",
   "metadata": {},
   "source": [
    "create a bar graph that shows the top directors above the 75th quartile with the highest grossing movies"
   ]
  },
  {
   "cell_type": "code",
   "execution_count": null,
   "metadata": {},
   "outputs": [],
   "source": [
    "plt.rcParams[\"figure.figsize\"] = (10,6)\n",
    "directors_above_75Q.plot(x = \"primary_name\", y = \"worldwide_gross\", kind = \"bar\")\n",
    "plt.ylabel(\"Worldwide Gross Earnings\")\n",
    "plt.xlabel(\"Director Name\")\n",
    "plt.xticks(rotation='vertical')\n",
    "plt.title(\"Directors with Worldwide Gross Above the 75th Quartile\")"
   ]
  },
  {
   "cell_type": "markdown",
   "metadata": {},
   "source": [
    "plot a bar graph that displays the top 5 directors based on worldwide gross"
   ]
  },
  {
   "cell_type": "code",
   "execution_count": null,
   "metadata": {},
   "outputs": [],
   "source": [
    "top_5_dir = wwg_directors.head(5)\n",
    "plt.rcParams[\"figure.figsize\"] = (10,6)\n",
    "top_5_dir.plot(x = \"primary_name\", y = \"worldwide_gross\", kind = \"bar\", color='green')\n",
    "plt.ylabel(\"Worldwide Gross Earnings in Billions\")\n",
    "plt.xlabel(\"Director Name\")\n",
    "plt.xticks(rotation=45)\n",
    "plt.title(\"Top 5 Directors According To Worldwide Gross\")\n",
    "plt.savefig(\"top5dir\")"
   ]
  },
  {
   "cell_type": "markdown",
   "metadata": {},
   "source": [
    "### directors and movie ratings"
   ]
  },
  {
   "cell_type": "markdown",
   "metadata": {},
   "source": [
    "create a sql query that returns the name of the director, the name of the movie they directed, and the rating of that movie"
   ]
  },
  {
   "cell_type": "code",
   "execution_count": null,
   "metadata": {},
   "outputs": [],
   "source": [
    "directors_and_ratings = \"\"\"\n",
    "SELECT \n",
    "    persons.primary_name,\n",
    "    movie_ratings.averagerating\n",
    "FROM persons\n",
    "JOIN directors \n",
    "    USING(person_id)\n",
    "JOIN movie_basics\n",
    "    USING(movie_id)\n",
    "JOIN movie_ratings\n",
    "    USING(movie_id)\n",
    "JOIN principals\n",
    "    USING(movie_id)\n",
    "WHERE job LIKE \"lead director\" OR job LIKE \"assistant director\" OR job LIKE \"co director\" OR job LIKE \"co-director\"\n",
    "GROUP BY primary_name\n",
    "\"\"\"\n",
    "\n",
    "directors_and_ratings_df = pd.read_sql(directors_and_ratings, conn)\n",
    "\n",
    "# clean the data from the new table \n",
    "directors_and_ratings_df = directors_and_ratings_df.drop_duplicates()\n",
    "directors_and_ratings_df = directors_and_ratings_df.dropna()\n",
    "\n",
    "directors_and_ratings_df"
   ]
  },
  {
   "cell_type": "code",
   "execution_count": null,
   "metadata": {},
   "outputs": [],
   "source": [
    "# choosing not to remove rows with average rating of 0 incase that is the actual average rating\n",
    "# view the attributes and ratings table in decsending order\n",
    "directors_and_ratings_df = directors_and_ratings_df.sort_values(\"averagerating\", ascending=False)\n",
    "directors_and_ratings_df"
   ]
  },
  {
   "cell_type": "markdown",
   "metadata": {},
   "source": [
    "create a box plot that shows the IQR of the averageratings of directors"
   ]
  },
  {
   "cell_type": "code",
   "execution_count": null,
   "metadata": {},
   "outputs": [],
   "source": [
    "plt.boxplot(directors_and_ratings_df[\"averagerating\"], vert=False)\n",
    "plt.rcParams[\"figure.figsize\"] = (5,3)\n",
    "plt.xlabel(\"average rating\")\n",
    "plt.ylabel(\"movie\")\n",
    "plt.title(\"Range of Average Ratings for Directors\")"
   ]
  },
  {
   "cell_type": "markdown",
   "metadata": {},
   "source": [
    "create a scatter plot showing all directors with above average rating"
   ]
  },
  {
   "cell_type": "code",
   "execution_count": null,
   "metadata": {},
   "outputs": [],
   "source": [
    "above_avg_rated_dir = directors_and_ratings_df[directors_and_ratings_df[\"averagerating\"] >= 8]\n",
    "plt.rcParams[\"figure.figsize\"] = (20,6)\n",
    "above_avg_rated_dir.plot(x = \"primary_name\", y = \"averagerating\", kind = \"scatter\")\n",
    "plt.xticks(rotation='vertical')\n",
    "plt.title(\"directors and the average rating of their movies\")"
   ]
  },
  {
   "cell_type": "markdown",
   "metadata": {},
   "source": [
    "still too many directors to choose from, we will create another box plot that graphs the IQR of the directors in the 75th quartile to maximum range"
   ]
  },
  {
   "cell_type": "code",
   "execution_count": null,
   "metadata": {},
   "outputs": [],
   "source": [
    "plt.boxplot(above_avg_rated_dir[\"averagerating\"], vert=False)\n",
    "plt.rcParams[\"figure.figsize\"] = (5,1)\n",
    "plt.xlabel(\"average rating\")\n",
    "plt.ylabel(\"movie\")\n",
    "plt.title(\"Range of Average Ratings for Directors\")"
   ]
  },
  {
   "cell_type": "markdown",
   "metadata": {},
   "source": [
    "create a bar graph that shows all the directors that are above the maximum"
   ]
  },
  {
   "cell_type": "code",
   "execution_count": null,
   "metadata": {},
   "outputs": [],
   "source": [
    "# create a bar graph showing the top 50 directors with the highest grossing movies\n",
    "very_best_directors = above_avg_rated_dir[above_avg_rated_dir[\"averagerating\"] >= 9.4]\n",
    "plt.rcParams[\"figure.figsize\"] = (10,6)\n",
    "very_best_directors.plot(x = \"primary_name\", y = \"averagerating\", kind = \"bar\")\n",
    "plt.title(\"Average Movie Rating for Directors\")\n",
    "plt.ylabel(\"Average Movie Ratings\")\n",
    "plt.xlabel(\"Director Name\")\n",
    "#plt.xticks(rotation='horizontal')\n",
    "#plt.yticks()"
   ]
  },
  {
   "cell_type": "markdown",
   "metadata": {},
   "source": [
    "# Neil's Section\n",
    "## Relationship between ratings and revenues\n",
    "\n",
    "- Does a movie's genre have an impact in mean gross revenues?\n",
    "- Top 5 genres with most gross revenues (info from 2020 and 2021)"
   ]
  },
  {
   "cell_type": "code",
   "execution_count": null,
   "metadata": {},
   "outputs": [],
   "source": []
  },
  {
   "cell_type": "markdown",
   "metadata": {},
   "source": [
    "# Mahan's Section\n",
    "## Relationship between \n",
    "\n",
    "- Does a movie's genre have an impact in mean gross revenues?\n",
    "- Top 5 genres with most gross revenues (info from 2020 and 2021)\n",
    "\n",
    "- this is for when it comes to genres split into different categoreies"
   ]
  },
  {
   "cell_type": "code",
   "execution_count": null,
   "metadata": {},
   "outputs": [],
   "source": []
  }
 ],
 "metadata": {
  "kernelspec": {
   "display_name": "Python 3",
   "language": "python",
   "name": "python3"
  },
  "language_info": {
   "codemirror_mode": {
    "name": "ipython",
    "version": 3
   },
   "file_extension": ".py",
   "mimetype": "text/x-python",
   "name": "python",
   "nbconvert_exporter": "python",
   "pygments_lexer": "ipython3",
   "version": "3.8.5"
  }
 },
 "nbformat": 4,
 "nbformat_minor": 2
}
