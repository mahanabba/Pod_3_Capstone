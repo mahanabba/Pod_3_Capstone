{
 "cells": [
  {
   "cell_type": "code",
   "execution_count": 1,
   "metadata": {},
   "outputs": [],
   "source": [
    "# Your code here - remember to use markdown cells for comments as well!\n",
    "# Student name: Sage Reagan\n",
    "# Instructor name: Charlie Rice, Lera Tsayukova"
   ]
  },
  {
   "cell_type": "code",
   "execution_count": 2,
   "metadata": {},
   "outputs": [],
   "source": [
    "# importing packages:\n",
    "import sqlite3\n",
    "import pandas as pd\n",
    "import numpy as np\n",
    "import seaborn as sns\n",
    "import matplotlib.pyplot as plt\n",
    "%matplotlib inline\n",
    "conn = sqlite3.Connection(\"zippedData/im.db\")"
   ]
  },
  {
   "cell_type": "markdown",
   "metadata": {},
   "source": [
    "read in data from csv and tsv"
   ]
  },
  {
   "cell_type": "code",
   "execution_count": 3,
   "metadata": {},
   "outputs": [],
   "source": [
    "# read in all the csv/tsv dataframes\n",
    "# read in box office movie info\n",
    "bom = pd.read_csv(\"zippedData/bom.movie_gross.csv.gz\")"
   ]
  },
  {
   "cell_type": "code",
   "execution_count": 4,
   "metadata": {},
   "outputs": [],
   "source": [
    "# read in rotten tomatoes movie info\n",
    "movie_info = pd.read_csv(\"zippedData/rt.movie_info.tsv.gz\", sep='\\t')"
   ]
  },
  {
   "cell_type": "code",
   "execution_count": 5,
   "metadata": {},
   "outputs": [],
   "source": [
    "# read in tmdb movies\n",
    "tmdb = pd.read_csv(\"zippedData/tmdb.movies.csv.gz\")"
   ]
  },
  {
   "cell_type": "code",
   "execution_count": 6,
   "metadata": {},
   "outputs": [],
   "source": [
    "tmdb = pd.read_csv(\"zippedData/tmdb.movies.csv.gz\", sep='\\t')"
   ]
  },
  {
   "cell_type": "code",
   "execution_count": 7,
   "metadata": {},
   "outputs": [],
   "source": [
    "# read in movie budgets\n",
    "budget = pd.read_csv(\"zippedData/tn.movie_budgets.csv.gz\")"
   ]
  },
  {
   "cell_type": "markdown",
   "metadata": {},
   "source": [
    "# Movie budget data cleaning and analyzing"
   ]
  },
  {
   "cell_type": "code",
   "execution_count": 8,
   "metadata": {},
   "outputs": [
    {
     "name": "stderr",
     "output_type": "stream",
     "text": [
      "C:\\Users\\mabbasian\\AppData\\Local\\Temp\\ipykernel_11156\\3197838212.py:3: FutureWarning: The default value of regex will change from True to False in a future version. In addition, single character regular expressions will *not* be treated as literal strings when regex=True.\n",
      "  budget[\"production_budget\"] = budget[\"production_budget\"].str.replace(\"$\", \"\")\n",
      "C:\\Users\\mabbasian\\AppData\\Local\\Temp\\ipykernel_11156\\3197838212.py:4: FutureWarning: The default value of regex will change from True to False in a future version. In addition, single character regular expressions will *not* be treated as literal strings when regex=True.\n",
      "  budget[\"domestic_gross\"] = budget[\"domestic_gross\"].str.replace(\"$\", \"\")\n",
      "C:\\Users\\mabbasian\\AppData\\Local\\Temp\\ipykernel_11156\\3197838212.py:5: FutureWarning: The default value of regex will change from True to False in a future version. In addition, single character regular expressions will *not* be treated as literal strings when regex=True.\n",
      "  budget[\"worldwide_gross\"] = budget[\"worldwide_gross\"].str.replace(\"$\", \"\")\n"
     ]
    }
   ],
   "source": [
    "# clean movie budget data \n",
    "# clean budget data so that the numbers are integers rather than strings\n",
    "budget[\"production_budget\"] = budget[\"production_budget\"].str.replace(\"$\", \"\")\n",
    "budget[\"domestic_gross\"] = budget[\"domestic_gross\"].str.replace(\"$\", \"\")\n",
    "budget[\"worldwide_gross\"] = budget[\"worldwide_gross\"].str.replace(\"$\", \"\")\n",
    "\n",
    "budget[\"production_budget\"] = budget[\"production_budget\"].str.replace(\",\", \"\")\n",
    "budget[\"domestic_gross\"] = budget[\"domestic_gross\"].str.replace(\",\", \"\")\n",
    "budget[\"worldwide_gross\"] = budget[\"worldwide_gross\"].str.replace(\",\", \"\")\n",
    "\n",
    "budget[\"production_budget\"] = budget[\"production_budget\"].astype(int)\n",
    "budget[\"domestic_gross\"] = budget[\"domestic_gross\"].astype(int)\n",
    "budget[\"worldwide_gross\"] = budget[\"worldwide_gross\"].astype(float)"
   ]
  },
  {
   "cell_type": "code",
   "execution_count": 9,
   "metadata": {},
   "outputs": [],
   "source": [
    "# add two columns for domestic profit and profit\n",
    "budget[\"domestic_profit\"] = budget[\"domestic_gross\"] - budget[\"production_budget\"]\n",
    "budget[\"profit\"] = budget[\"worldwide_gross\"] - budget[\"production_budget\"]\n",
    "# sort budget in descending order of worldwide_gross\n",
    "budget = budget.sort_values(by = \"worldwide_gross\", ascending = False)"
   ]
  },
  {
   "cell_type": "code",
   "execution_count": 10,
   "metadata": {},
   "outputs": [
    {
     "data": {
      "text/html": [
       "<div>\n",
       "<style scoped>\n",
       "    .dataframe tbody tr th:only-of-type {\n",
       "        vertical-align: middle;\n",
       "    }\n",
       "\n",
       "    .dataframe tbody tr th {\n",
       "        vertical-align: top;\n",
       "    }\n",
       "\n",
       "    .dataframe thead th {\n",
       "        text-align: right;\n",
       "    }\n",
       "</style>\n",
       "<table border=\"1\" class=\"dataframe\">\n",
       "  <thead>\n",
       "    <tr style=\"text-align: right;\">\n",
       "      <th></th>\n",
       "      <th>id</th>\n",
       "      <th>release_date</th>\n",
       "      <th>movie</th>\n",
       "      <th>production_budget</th>\n",
       "      <th>domestic_gross</th>\n",
       "      <th>worldwide_gross</th>\n",
       "      <th>domestic_profit</th>\n",
       "      <th>profit</th>\n",
       "    </tr>\n",
       "  </thead>\n",
       "  <tbody>\n",
       "    <tr>\n",
       "      <th>0</th>\n",
       "      <td>1</td>\n",
       "      <td>Dec 18, 2009</td>\n",
       "      <td>Avatar</td>\n",
       "      <td>425000000</td>\n",
       "      <td>760507625</td>\n",
       "      <td>2.776345e+09</td>\n",
       "      <td>335507625</td>\n",
       "      <td>2.351345e+09</td>\n",
       "    </tr>\n",
       "    <tr>\n",
       "      <th>42</th>\n",
       "      <td>43</td>\n",
       "      <td>Dec 19, 1997</td>\n",
       "      <td>Titanic</td>\n",
       "      <td>200000000</td>\n",
       "      <td>659363944</td>\n",
       "      <td>2.208208e+09</td>\n",
       "      <td>459363944</td>\n",
       "      <td>2.008208e+09</td>\n",
       "    </tr>\n",
       "    <tr>\n",
       "      <th>5</th>\n",
       "      <td>6</td>\n",
       "      <td>Dec 18, 2015</td>\n",
       "      <td>Star Wars Ep. VII: The Force Awakens</td>\n",
       "      <td>306000000</td>\n",
       "      <td>936662225</td>\n",
       "      <td>2.053311e+09</td>\n",
       "      <td>630662225</td>\n",
       "      <td>1.747311e+09</td>\n",
       "    </tr>\n",
       "    <tr>\n",
       "      <th>6</th>\n",
       "      <td>7</td>\n",
       "      <td>Apr 27, 2018</td>\n",
       "      <td>Avengers: Infinity War</td>\n",
       "      <td>300000000</td>\n",
       "      <td>678815482</td>\n",
       "      <td>2.048134e+09</td>\n",
       "      <td>378815482</td>\n",
       "      <td>1.748134e+09</td>\n",
       "    </tr>\n",
       "    <tr>\n",
       "      <th>33</th>\n",
       "      <td>34</td>\n",
       "      <td>Jun 12, 2015</td>\n",
       "      <td>Jurassic World</td>\n",
       "      <td>215000000</td>\n",
       "      <td>652270625</td>\n",
       "      <td>1.648855e+09</td>\n",
       "      <td>437270625</td>\n",
       "      <td>1.433855e+09</td>\n",
       "    </tr>\n",
       "  </tbody>\n",
       "</table>\n",
       "</div>"
      ],
      "text/plain": [
       "    id  release_date                                 movie  production_budget  \\\n",
       "0    1  Dec 18, 2009                                Avatar          425000000   \n",
       "42  43  Dec 19, 1997                               Titanic          200000000   \n",
       "5    6  Dec 18, 2015  Star Wars Ep. VII: The Force Awakens          306000000   \n",
       "6    7  Apr 27, 2018                Avengers: Infinity War          300000000   \n",
       "33  34  Jun 12, 2015                        Jurassic World          215000000   \n",
       "\n",
       "    domestic_gross  worldwide_gross  domestic_profit        profit  \n",
       "0        760507625     2.776345e+09        335507625  2.351345e+09  \n",
       "42       659363944     2.208208e+09        459363944  2.008208e+09  \n",
       "5        936662225     2.053311e+09        630662225  1.747311e+09  \n",
       "6        678815482     2.048134e+09        378815482  1.748134e+09  \n",
       "33       652270625     1.648855e+09        437270625  1.433855e+09  "
      ]
     },
     "execution_count": 10,
     "metadata": {},
     "output_type": "execute_result"
    }
   ],
   "source": [
    "top_budget = budget.head()\n",
    "top_budget"
   ]
  },
  {
   "cell_type": "markdown",
   "metadata": {},
   "source": [
    "# Split all the Genres so there is only 1 Genre per row"
   ]
  },
  {
   "cell_type": "code",
   "execution_count": 11,
   "metadata": {},
   "outputs": [
    {
     "ename": "SyntaxError",
     "evalue": "invalid syntax (216624458.py, line 17)",
     "output_type": "error",
     "traceback": [
      "\u001b[1;36m  Input \u001b[1;32mIn [11]\u001b[1;36m\u001b[0m\n\u001b[1;33m    split_genres =\u001b[0m\n\u001b[1;37m                   ^\u001b[0m\n\u001b[1;31mSyntaxError\u001b[0m\u001b[1;31m:\u001b[0m invalid syntax\n"
     ]
    }
   ],
   "source": [
    "genres = \"\"\"\n",
    "SELECT genres,\n",
    "       primary_title\n",
    "FROM movie_basics\n",
    "\"\"\"\n",
    "genres_df = pd.read_sql(genres, conn)\n",
    "genres_df\n",
    "\n",
    "# clean genres column so each row has only one genre \n",
    "\n",
    "genres_dict = dict(zip(genres_df.iloc[:, 1], genres_df.iloc[:, 0]))\n",
    "genres_dict\n",
    "\n",
    "cleaned_genres_dict = {}\n",
    "\n",
    "for title, genre in genres_dict.items():\n",
    "    split_genres = "
   ]
  },
  {
   "cell_type": "markdown",
   "metadata": {},
   "source": [
    "# Writers and the average worldwide gross of all the movies they have been part of"
   ]
  },
  {
   "cell_type": "markdown",
   "metadata": {},
   "source": [
    "using sql query create a table that displays the name of the movie and who the movie is known for"
   ]
  },
  {
   "cell_type": "code",
   "execution_count": 12,
   "metadata": {},
   "outputs": [
    {
     "data": {
      "text/html": [
       "<div>\n",
       "<style scoped>\n",
       "    .dataframe tbody tr th:only-of-type {\n",
       "        vertical-align: middle;\n",
       "    }\n",
       "\n",
       "    .dataframe tbody tr th {\n",
       "        vertical-align: top;\n",
       "    }\n",
       "\n",
       "    .dataframe thead th {\n",
       "        text-align: right;\n",
       "    }\n",
       "</style>\n",
       "<table border=\"1\" class=\"dataframe\">\n",
       "  <thead>\n",
       "    <tr style=\"text-align: right;\">\n",
       "      <th></th>\n",
       "      <th>primary_name</th>\n",
       "      <th>job</th>\n",
       "      <th>primary_profession</th>\n",
       "      <th>primary_title</th>\n",
       "    </tr>\n",
       "  </thead>\n",
       "  <tbody>\n",
       "    <tr>\n",
       "      <th>0</th>\n",
       "      <td>Su Armstrong</td>\n",
       "      <td>written by</td>\n",
       "      <td>producer,miscellaneous,production_manager</td>\n",
       "      <td>Leap Year</td>\n",
       "    </tr>\n",
       "    <tr>\n",
       "      <th>1</th>\n",
       "      <td>Liam Bates</td>\n",
       "      <td>written by</td>\n",
       "      <td>composer,music_department,soundtrack</td>\n",
       "      <td>Leap Year</td>\n",
       "    </tr>\n",
       "    <tr>\n",
       "      <th>2</th>\n",
       "      <td>Harry Elfont</td>\n",
       "      <td>written by</td>\n",
       "      <td>writer,producer,miscellaneous</td>\n",
       "      <td>Leap Year</td>\n",
       "    </tr>\n",
       "    <tr>\n",
       "      <th>3</th>\n",
       "      <td>Deborah Kaplan</td>\n",
       "      <td>written by</td>\n",
       "      <td>writer,producer,director</td>\n",
       "      <td>Leap Year</td>\n",
       "    </tr>\n",
       "    <tr>\n",
       "      <th>4</th>\n",
       "      <td>Brian Milligan</td>\n",
       "      <td>written by</td>\n",
       "      <td>actor</td>\n",
       "      <td>Leap Year</td>\n",
       "    </tr>\n",
       "    <tr>\n",
       "      <th>...</th>\n",
       "      <td>...</td>\n",
       "      <td>...</td>\n",
       "      <td>...</td>\n",
       "      <td>...</td>\n",
       "    </tr>\n",
       "    <tr>\n",
       "      <th>68135</th>\n",
       "      <td>Brian Hull</td>\n",
       "      <td>written by</td>\n",
       "      <td>actor</td>\n",
       "      <td>Puppy Star Christmas</td>\n",
       "    </tr>\n",
       "    <tr>\n",
       "      <th>68136</th>\n",
       "      <td>Kaarle Aho</td>\n",
       "      <td>co-writer</td>\n",
       "      <td>producer</td>\n",
       "      <td>The Magic Life of V</td>\n",
       "    </tr>\n",
       "    <tr>\n",
       "      <th>68137</th>\n",
       "      <td>Tonislav Hristov</td>\n",
       "      <td>co-writer</td>\n",
       "      <td>writer,director,editor</td>\n",
       "      <td>The Magic Life of V</td>\n",
       "    </tr>\n",
       "    <tr>\n",
       "      <th>68138</th>\n",
       "      <td>Kirstine Barfod</td>\n",
       "      <td>co-writer</td>\n",
       "      <td>producer,costume_designer,miscellaneous</td>\n",
       "      <td>The Magic Life of V</td>\n",
       "    </tr>\n",
       "    <tr>\n",
       "      <th>68139</th>\n",
       "      <td>Lubomir Tsvetkov</td>\n",
       "      <td>co-writer</td>\n",
       "      <td>writer</td>\n",
       "      <td>The Magic Life of V</td>\n",
       "    </tr>\n",
       "  </tbody>\n",
       "</table>\n",
       "<p>50800 rows × 4 columns</p>\n",
       "</div>"
      ],
      "text/plain": [
       "           primary_name         job  \\\n",
       "0          Su Armstrong  written by   \n",
       "1            Liam Bates  written by   \n",
       "2          Harry Elfont  written by   \n",
       "3        Deborah Kaplan  written by   \n",
       "4        Brian Milligan  written by   \n",
       "...                 ...         ...   \n",
       "68135        Brian Hull  written by   \n",
       "68136        Kaarle Aho   co-writer   \n",
       "68137  Tonislav Hristov   co-writer   \n",
       "68138   Kirstine Barfod   co-writer   \n",
       "68139  Lubomir Tsvetkov   co-writer   \n",
       "\n",
       "                              primary_profession         primary_title  \n",
       "0      producer,miscellaneous,production_manager             Leap Year  \n",
       "1           composer,music_department,soundtrack             Leap Year  \n",
       "2                  writer,producer,miscellaneous             Leap Year  \n",
       "3                       writer,producer,director             Leap Year  \n",
       "4                                          actor             Leap Year  \n",
       "...                                          ...                   ...  \n",
       "68135                                      actor  Puppy Star Christmas  \n",
       "68136                                   producer   The Magic Life of V  \n",
       "68137                     writer,director,editor   The Magic Life of V  \n",
       "68138    producer,costume_designer,miscellaneous   The Magic Life of V  \n",
       "68139                                     writer   The Magic Life of V  \n",
       "\n",
       "[50800 rows x 4 columns]"
      ]
     },
     "execution_count": 12,
     "metadata": {},
     "output_type": "execute_result"
    }
   ],
   "source": [
    "# SQL query that returns the name of the movie and who that movie is known for:\n",
    "knownfor = \"\"\"\n",
    "SELECT \n",
    "    persons.primary_name,\n",
    "    principals.job,\n",
    "    persons.primary_profession,\n",
    "    movie_basics.primary_title\n",
    "FROM persons\n",
    "JOIN known_for\n",
    "    USING(person_id)\n",
    "JOIN movie_ratings\n",
    "    USING(movie_id)\n",
    "JOIN movie_basics\n",
    "    USING(movie_id)\n",
    "JOIN principals\n",
    "    USING(movie_id)\n",
    "WHERE job LIKE \"written by\" OR job LIKE \"script writer\" OR job LIKE \"co-writer\" OR job LIKE \"co writer\"\n",
    "\"\"\"\n",
    "\n",
    "knownfor_df = pd.read_sql(knownfor, conn)\n",
    "\n",
    "# get rid of duplicates and empty values in the SQL table \n",
    "knownfor_df = knownfor_df.drop_duplicates()\n",
    "knownfor_df = knownfor_df.dropna()\n",
    "knownfor_df"
   ]
  },
  {
   "cell_type": "code",
   "execution_count": 13,
   "metadata": {},
   "outputs": [
    {
     "data": {
      "text/plain": [
       "array(['written by', 'co-writer', 'script writer', 'co writer',\n",
       "       'Written by', 'Co-Writer', 'Co-writer', 'Written By'], dtype=object)"
      ]
     },
     "execution_count": 13,
     "metadata": {},
     "output_type": "execute_result"
    }
   ],
   "source": [
    "knownfor_df[\"job\"].unique()"
   ]
  },
  {
   "cell_type": "code",
   "execution_count": 14,
   "metadata": {},
   "outputs": [
    {
     "data": {
      "text/html": [
       "<div>\n",
       "<style scoped>\n",
       "    .dataframe tbody tr th:only-of-type {\n",
       "        vertical-align: middle;\n",
       "    }\n",
       "\n",
       "    .dataframe tbody tr th {\n",
       "        vertical-align: top;\n",
       "    }\n",
       "\n",
       "    .dataframe thead th {\n",
       "        text-align: right;\n",
       "    }\n",
       "</style>\n",
       "<table border=\"1\" class=\"dataframe\">\n",
       "  <thead>\n",
       "    <tr style=\"text-align: right;\">\n",
       "      <th></th>\n",
       "      <th>id</th>\n",
       "      <th>release_date</th>\n",
       "      <th>movie</th>\n",
       "      <th>production_budget</th>\n",
       "      <th>domestic_gross</th>\n",
       "      <th>worldwide_gross</th>\n",
       "      <th>domestic_profit</th>\n",
       "      <th>profit</th>\n",
       "    </tr>\n",
       "  </thead>\n",
       "  <tbody>\n",
       "    <tr>\n",
       "      <th>0</th>\n",
       "      <td>1</td>\n",
       "      <td>Dec 18, 2009</td>\n",
       "      <td>Avatar</td>\n",
       "      <td>425000000</td>\n",
       "      <td>760507625</td>\n",
       "      <td>2.776345e+09</td>\n",
       "      <td>335507625</td>\n",
       "      <td>2.351345e+09</td>\n",
       "    </tr>\n",
       "    <tr>\n",
       "      <th>42</th>\n",
       "      <td>43</td>\n",
       "      <td>Dec 19, 1997</td>\n",
       "      <td>Titanic</td>\n",
       "      <td>200000000</td>\n",
       "      <td>659363944</td>\n",
       "      <td>2.208208e+09</td>\n",
       "      <td>459363944</td>\n",
       "      <td>2.008208e+09</td>\n",
       "    </tr>\n",
       "    <tr>\n",
       "      <th>5</th>\n",
       "      <td>6</td>\n",
       "      <td>Dec 18, 2015</td>\n",
       "      <td>Star Wars Ep. VII: The Force Awakens</td>\n",
       "      <td>306000000</td>\n",
       "      <td>936662225</td>\n",
       "      <td>2.053311e+09</td>\n",
       "      <td>630662225</td>\n",
       "      <td>1.747311e+09</td>\n",
       "    </tr>\n",
       "    <tr>\n",
       "      <th>6</th>\n",
       "      <td>7</td>\n",
       "      <td>Apr 27, 2018</td>\n",
       "      <td>Avengers: Infinity War</td>\n",
       "      <td>300000000</td>\n",
       "      <td>678815482</td>\n",
       "      <td>2.048134e+09</td>\n",
       "      <td>378815482</td>\n",
       "      <td>1.748134e+09</td>\n",
       "    </tr>\n",
       "    <tr>\n",
       "      <th>33</th>\n",
       "      <td>34</td>\n",
       "      <td>Jun 12, 2015</td>\n",
       "      <td>Jurassic World</td>\n",
       "      <td>215000000</td>\n",
       "      <td>652270625</td>\n",
       "      <td>1.648855e+09</td>\n",
       "      <td>437270625</td>\n",
       "      <td>1.433855e+09</td>\n",
       "    </tr>\n",
       "  </tbody>\n",
       "</table>\n",
       "</div>"
      ],
      "text/plain": [
       "    id  release_date                                 movie  production_budget  \\\n",
       "0    1  Dec 18, 2009                                Avatar          425000000   \n",
       "42  43  Dec 19, 1997                               Titanic          200000000   \n",
       "5    6  Dec 18, 2015  Star Wars Ep. VII: The Force Awakens          306000000   \n",
       "6    7  Apr 27, 2018                Avengers: Infinity War          300000000   \n",
       "33  34  Jun 12, 2015                        Jurassic World          215000000   \n",
       "\n",
       "    domestic_gross  worldwide_gross  domestic_profit        profit  \n",
       "0        760507625     2.776345e+09        335507625  2.351345e+09  \n",
       "42       659363944     2.208208e+09        459363944  2.008208e+09  \n",
       "5        936662225     2.053311e+09        630662225  1.747311e+09  \n",
       "6        678815482     2.048134e+09        378815482  1.748134e+09  \n",
       "33       652270625     1.648855e+09        437270625  1.433855e+09  "
      ]
     },
     "execution_count": 14,
     "metadata": {},
     "output_type": "execute_result"
    }
   ],
   "source": [
    "# examine the budget table \n",
    "budget.head()"
   ]
  },
  {
   "cell_type": "markdown",
   "metadata": {},
   "source": [
    "merge the budget and known_for table then create a table showing only the name of the known person and the worldwide gross of the movie"
   ]
  },
  {
   "cell_type": "code",
   "execution_count": 15,
   "metadata": {},
   "outputs": [
    {
     "data": {
      "text/html": [
       "<div>\n",
       "<style scoped>\n",
       "    .dataframe tbody tr th:only-of-type {\n",
       "        vertical-align: middle;\n",
       "    }\n",
       "\n",
       "    .dataframe tbody tr th {\n",
       "        vertical-align: top;\n",
       "    }\n",
       "\n",
       "    .dataframe thead th {\n",
       "        text-align: right;\n",
       "    }\n",
       "</style>\n",
       "<table border=\"1\" class=\"dataframe\">\n",
       "  <thead>\n",
       "    <tr style=\"text-align: right;\">\n",
       "      <th></th>\n",
       "      <th>id</th>\n",
       "      <th>release_date</th>\n",
       "      <th>movie</th>\n",
       "      <th>production_budget</th>\n",
       "      <th>domestic_gross</th>\n",
       "      <th>worldwide_gross</th>\n",
       "      <th>domestic_profit</th>\n",
       "      <th>profit</th>\n",
       "      <th>primary_name</th>\n",
       "      <th>job</th>\n",
       "      <th>primary_profession</th>\n",
       "      <th>primary_title</th>\n",
       "    </tr>\n",
       "  </thead>\n",
       "  <tbody>\n",
       "    <tr>\n",
       "      <th>0</th>\n",
       "      <td>1</td>\n",
       "      <td>Dec 18, 2009</td>\n",
       "      <td>Avatar</td>\n",
       "      <td>425000000</td>\n",
       "      <td>760507625</td>\n",
       "      <td>2.776345e+09</td>\n",
       "      <td>335507625</td>\n",
       "      <td>2.351345e+09</td>\n",
       "      <td>Nako Mizusawa</td>\n",
       "      <td>written by</td>\n",
       "      <td>actress</td>\n",
       "      <td>Avatar</td>\n",
       "    </tr>\n",
       "    <tr>\n",
       "      <th>1</th>\n",
       "      <td>1</td>\n",
       "      <td>Dec 18, 2009</td>\n",
       "      <td>Avatar</td>\n",
       "      <td>425000000</td>\n",
       "      <td>760507625</td>\n",
       "      <td>2.776345e+09</td>\n",
       "      <td>335507625</td>\n",
       "      <td>2.351345e+09</td>\n",
       "      <td>Hideki Ikari</td>\n",
       "      <td>written by</td>\n",
       "      <td>composer</td>\n",
       "      <td>Avatar</td>\n",
       "    </tr>\n",
       "    <tr>\n",
       "      <th>2</th>\n",
       "      <td>1</td>\n",
       "      <td>Dec 18, 2009</td>\n",
       "      <td>Avatar</td>\n",
       "      <td>425000000</td>\n",
       "      <td>760507625</td>\n",
       "      <td>2.776345e+09</td>\n",
       "      <td>335507625</td>\n",
       "      <td>2.351345e+09</td>\n",
       "      <td>Tôru Hirao</td>\n",
       "      <td>written by</td>\n",
       "      <td>cinematographer,executive</td>\n",
       "      <td>Avatar</td>\n",
       "    </tr>\n",
       "    <tr>\n",
       "      <th>3</th>\n",
       "      <td>1</td>\n",
       "      <td>Dec 18, 2009</td>\n",
       "      <td>Avatar</td>\n",
       "      <td>425000000</td>\n",
       "      <td>760507625</td>\n",
       "      <td>2.776345e+09</td>\n",
       "      <td>335507625</td>\n",
       "      <td>2.351345e+09</td>\n",
       "      <td>Atsushi Wada</td>\n",
       "      <td>written by</td>\n",
       "      <td>director</td>\n",
       "      <td>Avatar</td>\n",
       "    </tr>\n",
       "    <tr>\n",
       "      <th>4</th>\n",
       "      <td>1</td>\n",
       "      <td>Dec 18, 2009</td>\n",
       "      <td>Avatar</td>\n",
       "      <td>425000000</td>\n",
       "      <td>760507625</td>\n",
       "      <td>2.776345e+09</td>\n",
       "      <td>335507625</td>\n",
       "      <td>2.351345e+09</td>\n",
       "      <td>Yuri Hane</td>\n",
       "      <td>written by</td>\n",
       "      <td>actress</td>\n",
       "      <td>Avatar</td>\n",
       "    </tr>\n",
       "  </tbody>\n",
       "</table>\n",
       "</div>"
      ],
      "text/plain": [
       "   id  release_date   movie  production_budget  domestic_gross  \\\n",
       "0   1  Dec 18, 2009  Avatar          425000000       760507625   \n",
       "1   1  Dec 18, 2009  Avatar          425000000       760507625   \n",
       "2   1  Dec 18, 2009  Avatar          425000000       760507625   \n",
       "3   1  Dec 18, 2009  Avatar          425000000       760507625   \n",
       "4   1  Dec 18, 2009  Avatar          425000000       760507625   \n",
       "\n",
       "   worldwide_gross  domestic_profit        profit   primary_name         job  \\\n",
       "0     2.776345e+09        335507625  2.351345e+09  Nako Mizusawa  written by   \n",
       "1     2.776345e+09        335507625  2.351345e+09   Hideki Ikari  written by   \n",
       "2     2.776345e+09        335507625  2.351345e+09     Tôru Hirao  written by   \n",
       "3     2.776345e+09        335507625  2.351345e+09   Atsushi Wada  written by   \n",
       "4     2.776345e+09        335507625  2.351345e+09      Yuri Hane  written by   \n",
       "\n",
       "          primary_profession primary_title  \n",
       "0                    actress        Avatar  \n",
       "1                   composer        Avatar  \n",
       "2  cinematographer,executive        Avatar  \n",
       "3                   director        Avatar  \n",
       "4                    actress        Avatar  "
      ]
     },
     "execution_count": 15,
     "metadata": {},
     "output_type": "execute_result"
    }
   ],
   "source": [
    "# merge the budget table and the table with who a movie is known for \n",
    "profit_and_knownfor = pd.merge(budget, knownfor_df, left_on='movie', right_on=\"primary_title\")\n",
    "profit_and_knownfor.head(5)"
   ]
  },
  {
   "cell_type": "code",
   "execution_count": 16,
   "metadata": {},
   "outputs": [
    {
     "data": {
      "text/html": [
       "<div>\n",
       "<style scoped>\n",
       "    .dataframe tbody tr th:only-of-type {\n",
       "        vertical-align: middle;\n",
       "    }\n",
       "\n",
       "    .dataframe tbody tr th {\n",
       "        vertical-align: top;\n",
       "    }\n",
       "\n",
       "    .dataframe thead th {\n",
       "        text-align: right;\n",
       "    }\n",
       "</style>\n",
       "<table border=\"1\" class=\"dataframe\">\n",
       "  <thead>\n",
       "    <tr style=\"text-align: right;\">\n",
       "      <th></th>\n",
       "      <th>primary_name</th>\n",
       "      <th>worldwide_gross</th>\n",
       "    </tr>\n",
       "  </thead>\n",
       "  <tbody>\n",
       "    <tr>\n",
       "      <th>0</th>\n",
       "      <td>Nako Mizusawa</td>\n",
       "      <td>2.776345e+09</td>\n",
       "    </tr>\n",
       "    <tr>\n",
       "      <th>1</th>\n",
       "      <td>Hideki Ikari</td>\n",
       "      <td>2.776345e+09</td>\n",
       "    </tr>\n",
       "    <tr>\n",
       "      <th>2</th>\n",
       "      <td>Tôru Hirao</td>\n",
       "      <td>2.776345e+09</td>\n",
       "    </tr>\n",
       "    <tr>\n",
       "      <th>3</th>\n",
       "      <td>Atsushi Wada</td>\n",
       "      <td>2.776345e+09</td>\n",
       "    </tr>\n",
       "    <tr>\n",
       "      <th>4</th>\n",
       "      <td>Yuri Hane</td>\n",
       "      <td>2.776345e+09</td>\n",
       "    </tr>\n",
       "    <tr>\n",
       "      <th>...</th>\n",
       "      <td>...</td>\n",
       "      <td>...</td>\n",
       "    </tr>\n",
       "    <tr>\n",
       "      <th>14571</th>\n",
       "      <td>Ben Acker</td>\n",
       "      <td>0.000000e+00</td>\n",
       "    </tr>\n",
       "    <tr>\n",
       "      <th>14572</th>\n",
       "      <td>Adam Busch</td>\n",
       "      <td>0.000000e+00</td>\n",
       "    </tr>\n",
       "    <tr>\n",
       "      <th>14573</th>\n",
       "      <td>Jordan Katz</td>\n",
       "      <td>0.000000e+00</td>\n",
       "    </tr>\n",
       "    <tr>\n",
       "      <th>14574</th>\n",
       "      <td>Lynette Zumo</td>\n",
       "      <td>0.000000e+00</td>\n",
       "    </tr>\n",
       "    <tr>\n",
       "      <th>14575</th>\n",
       "      <td>Ben Blacker</td>\n",
       "      <td>0.000000e+00</td>\n",
       "    </tr>\n",
       "  </tbody>\n",
       "</table>\n",
       "<p>14576 rows × 2 columns</p>\n",
       "</div>"
      ],
      "text/plain": [
       "        primary_name  worldwide_gross\n",
       "0      Nako Mizusawa     2.776345e+09\n",
       "1       Hideki Ikari     2.776345e+09\n",
       "2         Tôru Hirao     2.776345e+09\n",
       "3       Atsushi Wada     2.776345e+09\n",
       "4          Yuri Hane     2.776345e+09\n",
       "...              ...              ...\n",
       "14571      Ben Acker     0.000000e+00\n",
       "14572     Adam Busch     0.000000e+00\n",
       "14573    Jordan Katz     0.000000e+00\n",
       "14574   Lynette Zumo     0.000000e+00\n",
       "14575    Ben Blacker     0.000000e+00\n",
       "\n",
       "[14576 rows x 2 columns]"
      ]
     },
     "execution_count": 16,
     "metadata": {},
     "output_type": "execute_result"
    }
   ],
   "source": [
    "# create a table with just known for's primary name and the world wide gross of the movie they where in\n",
    "wwg_knownfor = profit_and_knownfor.loc[:,[\"primary_name\", \"worldwide_gross\"]]\n",
    "wwg_knownfor"
   ]
  },
  {
   "cell_type": "code",
   "execution_count": 17,
   "metadata": {},
   "outputs": [
    {
     "data": {
      "text/html": [
       "<div>\n",
       "<style scoped>\n",
       "    .dataframe tbody tr th:only-of-type {\n",
       "        vertical-align: middle;\n",
       "    }\n",
       "\n",
       "    .dataframe tbody tr th {\n",
       "        vertical-align: top;\n",
       "    }\n",
       "\n",
       "    .dataframe thead th {\n",
       "        text-align: right;\n",
       "    }\n",
       "</style>\n",
       "<table border=\"1\" class=\"dataframe\">\n",
       "  <thead>\n",
       "    <tr style=\"text-align: right;\">\n",
       "      <th></th>\n",
       "      <th>primary_name</th>\n",
       "      <th>worldwide_gross</th>\n",
       "    </tr>\n",
       "  </thead>\n",
       "  <tbody>\n",
       "    <tr>\n",
       "      <th>0</th>\n",
       "      <td>Nako Mizusawa</td>\n",
       "      <td>2.776345e+09</td>\n",
       "    </tr>\n",
       "    <tr>\n",
       "      <th>1</th>\n",
       "      <td>Hideki Ikari</td>\n",
       "      <td>2.776345e+09</td>\n",
       "    </tr>\n",
       "    <tr>\n",
       "      <th>2</th>\n",
       "      <td>Tôru Hirao</td>\n",
       "      <td>2.776345e+09</td>\n",
       "    </tr>\n",
       "    <tr>\n",
       "      <th>3</th>\n",
       "      <td>Atsushi Wada</td>\n",
       "      <td>2.776345e+09</td>\n",
       "    </tr>\n",
       "    <tr>\n",
       "      <th>4</th>\n",
       "      <td>Yuri Hane</td>\n",
       "      <td>2.776345e+09</td>\n",
       "    </tr>\n",
       "    <tr>\n",
       "      <th>5</th>\n",
       "      <td>Teruo Noguchi</td>\n",
       "      <td>2.776345e+09</td>\n",
       "    </tr>\n",
       "    <tr>\n",
       "      <th>6</th>\n",
       "      <td>Vin Diesel</td>\n",
       "      <td>1.518723e+09</td>\n",
       "    </tr>\n",
       "    <tr>\n",
       "      <th>7</th>\n",
       "      <td>Jason Statham</td>\n",
       "      <td>1.518723e+09</td>\n",
       "    </tr>\n",
       "    <tr>\n",
       "      <th>8</th>\n",
       "      <td>Lucas Black</td>\n",
       "      <td>1.518723e+09</td>\n",
       "    </tr>\n",
       "    <tr>\n",
       "      <th>9</th>\n",
       "      <td>Jordana Brewster</td>\n",
       "      <td>1.518723e+09</td>\n",
       "    </tr>\n",
       "  </tbody>\n",
       "</table>\n",
       "</div>"
      ],
      "text/plain": [
       "       primary_name  worldwide_gross\n",
       "0     Nako Mizusawa     2.776345e+09\n",
       "1      Hideki Ikari     2.776345e+09\n",
       "2        Tôru Hirao     2.776345e+09\n",
       "3      Atsushi Wada     2.776345e+09\n",
       "4         Yuri Hane     2.776345e+09\n",
       "5     Teruo Noguchi     2.776345e+09\n",
       "6        Vin Diesel     1.518723e+09\n",
       "7     Jason Statham     1.518723e+09\n",
       "8       Lucas Black     1.518723e+09\n",
       "9  Jordana Brewster     1.518723e+09"
      ]
     },
     "execution_count": 17,
     "metadata": {},
     "output_type": "execute_result"
    }
   ],
   "source": [
    "# clean the table above to get rid of any values of 0\n",
    "empty_index = wwg_knownfor[wwg_knownfor[\"worldwide_gross\"] == 0].index\n",
    "wwg_knownfor = wwg_knownfor.drop(empty_index)\n",
    "wwg_knownfor.head(10)\n",
    "#wwg_d = wwg_d.sort_values(by = \"worldwide_gross\", ascending=False)"
   ]
  },
  {
   "cell_type": "markdown",
   "metadata": {},
   "source": [
    "create a graph showing the relationship between a movies gross return and who the movie is known for"
   ]
  },
  {
   "cell_type": "code",
   "execution_count": 18,
   "metadata": {},
   "outputs": [
    {
     "data": {
      "text/plain": [
       "Text(0.5, 1.0, 'actor and the average worldwide gross of the movies they have been in')"
      ]
     },
     "execution_count": 18,
     "metadata": {},
     "output_type": "execute_result"
    },
    {
     "data": {
      "image/png": "[encoded data removed]",
      "text/plain": [
       "<Figure size 1440x432 with 1 Axes>"
      ]
     },
     "metadata": {
      "needs_background": "light"
     },
     "output_type": "display_data"
    }
   ],
   "source": [
    "# create a scatter plot showing that there is a correlation between who a movie is known for and worldwide gross\n",
    "top_wwg_knownfor = wwg_knownfor.head(100)\n",
    "plt.rcParams[\"figure.figsize\"] = (20,6)\n",
    "top_wwg_knownfor.plot(x = \"primary_name\", y = \"worldwide_gross\", kind = \"scatter\")\n",
    "plt.xticks(rotation='vertical')\n",
    "plt.title(\"actor and the average worldwide gross of the movies they have been in\")"
   ]
  },
  {
   "cell_type": "code",
   "execution_count": 19,
   "metadata": {
    "scrolled": true
   },
   "outputs": [
    {
     "data": {
      "text/plain": [
       "<AxesSubplot:xlabel='primary_name'>"
      ]
     },
     "execution_count": 19,
     "metadata": {},
     "output_type": "execute_result"
    },
    {
     "data": {
      "image/png": "[encoded data removed]",
      "text/plain": [
       "<Figure size 1440x432 with 1 Axes>"
      ]
     },
     "metadata": {
      "needs_background": "light"
     },
     "output_type": "display_data"
    }
   ],
   "source": [
    "# create a bar graph showing the actors in the top 10 highest grossing movies\n",
    "top_wwg_knownfor = wwg_knownfor.sort_values(\"worldwide_gross\", ascending=False).head(10)\n",
    "top_wwg_knownfor\n",
    "plt.rcParams[\"figure.figsize\"] = (20,6)\n",
    "top_wwg_knownfor.plot(x = \"primary_name\", y = \"worldwide_gross\", kind = \"bar\")"
   ]
  },
  {
   "cell_type": "markdown",
   "metadata": {},
   "source": [
    "# Writers and the average ratings of all the movies they have been a part of"
   ]
  },
  {
   "cell_type": "code",
   "execution_count": 20,
   "metadata": {},
   "outputs": [
    {
     "data": {
      "text/html": [
       "<div>\n",
       "<style scoped>\n",
       "    .dataframe tbody tr th:only-of-type {\n",
       "        vertical-align: middle;\n",
       "    }\n",
       "\n",
       "    .dataframe tbody tr th {\n",
       "        vertical-align: top;\n",
       "    }\n",
       "\n",
       "    .dataframe thead th {\n",
       "        text-align: right;\n",
       "    }\n",
       "</style>\n",
       "<table border=\"1\" class=\"dataframe\">\n",
       "  <thead>\n",
       "    <tr style=\"text-align: right;\">\n",
       "      <th></th>\n",
       "      <th>COUNT(movie_basics.primary_title)</th>\n",
       "      <th>primary_name</th>\n",
       "    </tr>\n",
       "  </thead>\n",
       "  <tbody>\n",
       "    <tr>\n",
       "      <th>0</th>\n",
       "      <td>1</td>\n",
       "      <td>'A.J.' Marriot</td>\n",
       "    </tr>\n",
       "    <tr>\n",
       "      <th>1</th>\n",
       "      <td>1</td>\n",
       "      <td>'Om' Rakesh Chaturvedi</td>\n",
       "    </tr>\n",
       "    <tr>\n",
       "      <th>2</th>\n",
       "      <td>1</td>\n",
       "      <td>42nd Street Pete</td>\n",
       "    </tr>\n",
       "    <tr>\n",
       "      <th>3</th>\n",
       "      <td>2</td>\n",
       "      <td>50 Cent</td>\n",
       "    </tr>\n",
       "    <tr>\n",
       "      <th>4</th>\n",
       "      <td>83</td>\n",
       "      <td>A Normale Jef</td>\n",
       "    </tr>\n",
       "    <tr>\n",
       "      <th>...</th>\n",
       "      <td>...</td>\n",
       "      <td>...</td>\n",
       "    </tr>\n",
       "    <tr>\n",
       "      <th>120598</th>\n",
       "      <td>1</td>\n",
       "      <td>Þorsteinn Guðmundsson</td>\n",
       "    </tr>\n",
       "    <tr>\n",
       "      <th>120599</th>\n",
       "      <td>2</td>\n",
       "      <td>Þóra Leósdóttir</td>\n",
       "    </tr>\n",
       "    <tr>\n",
       "      <th>120600</th>\n",
       "      <td>1</td>\n",
       "      <td>Þórdís Elva Þorvaldsdóttir</td>\n",
       "    </tr>\n",
       "    <tr>\n",
       "      <th>120601</th>\n",
       "      <td>1</td>\n",
       "      <td>Þórhallur Þórhallsson</td>\n",
       "    </tr>\n",
       "    <tr>\n",
       "      <th>120602</th>\n",
       "      <td>3</td>\n",
       "      <td>Þórunn Lárusdóttir</td>\n",
       "    </tr>\n",
       "  </tbody>\n",
       "</table>\n",
       "<p>120603 rows × 2 columns</p>\n",
       "</div>"
      ],
      "text/plain": [
       "        COUNT(movie_basics.primary_title)                primary_name\n",
       "0                                       1              'A.J.' Marriot\n",
       "1                                       1      'Om' Rakesh Chaturvedi\n",
       "2                                       1            42nd Street Pete\n",
       "3                                       2                     50 Cent\n",
       "4                                      83               A Normale Jef\n",
       "...                                   ...                         ...\n",
       "120598                                  1       Þorsteinn Guðmundsson\n",
       "120599                                  2             Þóra Leósdóttir\n",
       "120600                                  1  Þórdís Elva Þorvaldsdóttir\n",
       "120601                                  1       Þórhallur Þórhallsson\n",
       "120602                                  3          Þórunn Lárusdóttir\n",
       "\n",
       "[120603 rows x 2 columns]"
      ]
     },
     "execution_count": 20,
     "metadata": {},
     "output_type": "execute_result"
    }
   ],
   "source": [
    "num_of_movies = \"\"\"\n",
    "SELECT \n",
    "    COUNT(movie_basics.primary_title),\n",
    "    persons.primary_name\n",
    "FROM persons\n",
    "JOIN writers\n",
    "    USING(person_id)\n",
    "JOIN movie_basics\n",
    "    USING(movie_id)\n",
    "GROUP BY primary_name\n",
    "    HAVING COUNT(movie_basics.primary_title)\n",
    "\"\"\"\n",
    "num_of_movies_df = pd.read_sql(num_of_movies, conn)\n",
    "num_of_movies_df"
   ]
  },
  {
   "cell_type": "markdown",
   "metadata": {},
   "source": [
    "find the average number of movies that a writer has been in"
   ]
  },
  {
   "cell_type": "code",
   "execution_count": 21,
   "metadata": {},
   "outputs": [
    {
     "data": {
      "text/plain": [
       "2.12159730686633"
      ]
     },
     "execution_count": 21,
     "metadata": {},
     "output_type": "execute_result"
    }
   ],
   "source": [
    "avg_movies = num_of_movies_df[\"COUNT(movie_basics.primary_title)\"].mean()\n",
    "avg_movies\n"
   ]
  },
  {
   "cell_type": "markdown",
   "metadata": {},
   "source": [
    "create a sql query that returns a table with the name of the people known for a moive, the movie they where in, and the rating of that movie"
   ]
  },
  {
   "cell_type": "code",
   "execution_count": 22,
   "metadata": {},
   "outputs": [
    {
     "data": {
      "text/html": [
       "<div>\n",
       "<style scoped>\n",
       "    .dataframe tbody tr th:only-of-type {\n",
       "        vertical-align: middle;\n",
       "    }\n",
       "\n",
       "    .dataframe tbody tr th {\n",
       "        vertical-align: top;\n",
       "    }\n",
       "\n",
       "    .dataframe thead th {\n",
       "        text-align: right;\n",
       "    }\n",
       "</style>\n",
       "<table border=\"1\" class=\"dataframe\">\n",
       "  <thead>\n",
       "    <tr style=\"text-align: right;\">\n",
       "      <th></th>\n",
       "      <th>primary_name</th>\n",
       "      <th>averagerating</th>\n",
       "    </tr>\n",
       "  </thead>\n",
       "  <tbody>\n",
       "    <tr>\n",
       "      <th>0</th>\n",
       "      <td>'Crazy' John Brooks</td>\n",
       "      <td>8.2</td>\n",
       "    </tr>\n",
       "    <tr>\n",
       "      <th>1</th>\n",
       "      <td>2 Chainz</td>\n",
       "      <td>6.3</td>\n",
       "    </tr>\n",
       "    <tr>\n",
       "      <th>2</th>\n",
       "      <td>A. Michael Richards</td>\n",
       "      <td>6.7</td>\n",
       "    </tr>\n",
       "    <tr>\n",
       "      <th>3</th>\n",
       "      <td>A. Onomen Asikele</td>\n",
       "      <td>6.5</td>\n",
       "    </tr>\n",
       "    <tr>\n",
       "      <th>4</th>\n",
       "      <td>A. Sreedhar</td>\n",
       "      <td>5.8</td>\n",
       "    </tr>\n",
       "    <tr>\n",
       "      <th>...</th>\n",
       "      <td>...</td>\n",
       "      <td>...</td>\n",
       "    </tr>\n",
       "    <tr>\n",
       "      <th>15192</th>\n",
       "      <td>Özlem Koza</td>\n",
       "      <td>6.6</td>\n",
       "    </tr>\n",
       "    <tr>\n",
       "      <th>15193</th>\n",
       "      <td>Øivind Solfjeld</td>\n",
       "      <td>8.9</td>\n",
       "    </tr>\n",
       "    <tr>\n",
       "      <th>15194</th>\n",
       "      <td>Ørjan Gamst</td>\n",
       "      <td>6.9</td>\n",
       "    </tr>\n",
       "    <tr>\n",
       "      <th>15195</th>\n",
       "      <td>Ümit Demirbas</td>\n",
       "      <td>7.1</td>\n",
       "    </tr>\n",
       "    <tr>\n",
       "      <th>15196</th>\n",
       "      <td>Ünal Yeter</td>\n",
       "      <td>5.6</td>\n",
       "    </tr>\n",
       "  </tbody>\n",
       "</table>\n",
       "<p>15197 rows × 2 columns</p>\n",
       "</div>"
      ],
      "text/plain": [
       "              primary_name  averagerating\n",
       "0      'Crazy' John Brooks            8.2\n",
       "1                 2 Chainz            6.3\n",
       "2      A. Michael Richards            6.7\n",
       "3        A. Onomen Asikele            6.5\n",
       "4              A. Sreedhar            5.8\n",
       "...                    ...            ...\n",
       "15192           Özlem Koza            6.6\n",
       "15193      Øivind Solfjeld            8.9\n",
       "15194          Ørjan Gamst            6.9\n",
       "15195        Ümit Demirbas            7.1\n",
       "15196           Ünal Yeter            5.6\n",
       "\n",
       "[15197 rows x 2 columns]"
      ]
     },
     "execution_count": 22,
     "metadata": {},
     "output_type": "execute_result"
    }
   ],
   "source": [
    "# the table should displaythe name of the writer, job of the writer on this movie, and the average ratings\n",
    "# of all the movies the writer has been in\n",
    "# include a where statement that ensures this person has a proffesion as a writter\n",
    "# group by the writers name to get the average rating of their movies and then use a having statement to ensure this\n",
    "# writer has been in more than two movies and their career is not a one off\n",
    "writers_and_ratings = \"\"\"\n",
    "SELECT \n",
    "    persons.primary_name,\n",
    "    movie_ratings.averagerating\n",
    "FROM persons\n",
    "JOIN known_for \n",
    "    USING(person_id)\n",
    "JOIN movie_basics\n",
    "    USING(movie_id)\n",
    "JOIN movie_ratings\n",
    "    USING(movie_id)\n",
    "JOIN principals\n",
    "    USING(movie_id)\n",
    "WHERE job LIKE \"written by\" OR job LIKE \"script writer\" OR job LIKE \"co-writer\" OR job LIKE \"co writer\"\n",
    "GROUP BY primary_name\n",
    "    HAVING COUNT(primary_title) >= 2    \n",
    "\n",
    "\"\"\"\n",
    "writers_ratings_df = pd.read_sql(writers_and_ratings, conn)\n",
    "writers_ratings_df\n",
    "\n",
    "# clean the data from the new table \n",
    "writers_ratings_df = writers_ratings_df.drop_duplicates()\n",
    "writers_ratings_df = writers_ratings_df.dropna()\n",
    "\n",
    "writers_ratings_df"
   ]
  },
  {
   "cell_type": "code",
   "execution_count": 23,
   "metadata": {},
   "outputs": [
    {
     "data": {
      "text/html": [
       "<div>\n",
       "<style scoped>\n",
       "    .dataframe tbody tr th:only-of-type {\n",
       "        vertical-align: middle;\n",
       "    }\n",
       "\n",
       "    .dataframe tbody tr th {\n",
       "        vertical-align: top;\n",
       "    }\n",
       "\n",
       "    .dataframe thead th {\n",
       "        text-align: right;\n",
       "    }\n",
       "</style>\n",
       "<table border=\"1\" class=\"dataframe\">\n",
       "  <thead>\n",
       "    <tr style=\"text-align: right;\">\n",
       "      <th></th>\n",
       "      <th>primary_name</th>\n",
       "      <th>averagerating</th>\n",
       "    </tr>\n",
       "  </thead>\n",
       "  <tbody>\n",
       "    <tr>\n",
       "      <th>9480</th>\n",
       "      <td>Mark Lapwood</td>\n",
       "      <td>9.4</td>\n",
       "    </tr>\n",
       "    <tr>\n",
       "      <th>2014</th>\n",
       "      <td>Briar March</td>\n",
       "      <td>9.4</td>\n",
       "    </tr>\n",
       "    <tr>\n",
       "      <th>3337</th>\n",
       "      <td>Daniel Strang</td>\n",
       "      <td>9.4</td>\n",
       "    </tr>\n",
       "    <tr>\n",
       "      <th>6322</th>\n",
       "      <td>Jared Jones</td>\n",
       "      <td>9.4</td>\n",
       "    </tr>\n",
       "    <tr>\n",
       "      <th>8253</th>\n",
       "      <td>Kim Harrop</td>\n",
       "      <td>9.4</td>\n",
       "    </tr>\n",
       "    <tr>\n",
       "      <th>...</th>\n",
       "      <td>...</td>\n",
       "      <td>...</td>\n",
       "    </tr>\n",
       "    <tr>\n",
       "      <th>11001</th>\n",
       "      <td>Norbert Tanca</td>\n",
       "      <td>8.9</td>\n",
       "    </tr>\n",
       "    <tr>\n",
       "      <th>9874</th>\n",
       "      <td>Max Eisenberg</td>\n",
       "      <td>8.9</td>\n",
       "    </tr>\n",
       "    <tr>\n",
       "      <th>4165</th>\n",
       "      <td>Dávid Hernádi</td>\n",
       "      <td>8.9</td>\n",
       "    </tr>\n",
       "    <tr>\n",
       "      <th>3395</th>\n",
       "      <td>Danny Faux</td>\n",
       "      <td>8.9</td>\n",
       "    </tr>\n",
       "    <tr>\n",
       "      <th>9098</th>\n",
       "      <td>László Feltóti</td>\n",
       "      <td>8.9</td>\n",
       "    </tr>\n",
       "  </tbody>\n",
       "</table>\n",
       "<p>100 rows × 2 columns</p>\n",
       "</div>"
      ],
      "text/plain": [
       "         primary_name  averagerating\n",
       "9480     Mark Lapwood            9.4\n",
       "2014      Briar March            9.4\n",
       "3337    Daniel Strang            9.4\n",
       "6322      Jared Jones            9.4\n",
       "8253       Kim Harrop            9.4\n",
       "...               ...            ...\n",
       "11001   Norbert Tanca            8.9\n",
       "9874    Max Eisenberg            8.9\n",
       "4165    Dávid Hernádi            8.9\n",
       "3395       Danny Faux            8.9\n",
       "9098   László Feltóti            8.9\n",
       "\n",
       "[100 rows x 2 columns]"
      ]
     },
     "execution_count": 23,
     "metadata": {},
     "output_type": "execute_result"
    }
   ],
   "source": [
    "# view the attributes and ratings table in decsending order\n",
    "top_rated_writers = writers_ratings_df.sort_values(\"averagerating\", ascending=False).head(100)\n",
    "top_rated_writers"
   ]
  },
  {
   "cell_type": "markdown",
   "metadata": {},
   "source": [
    "create a scatterplot that shows the relationship between actors and the rating of the movie they are in"
   ]
  },
  {
   "cell_type": "code",
   "execution_count": 24,
   "metadata": {},
   "outputs": [
    {
     "data": {
      "text/plain": [
       "Text(0.5, 1.0, 'average rating of movies that writers have worked for')"
      ]
     },
     "execution_count": 24,
     "metadata": {},
     "output_type": "execute_result"
    },
    {
     "data": {
      "image/png": "[encoded data removed]",
      "text/plain": [
       "<Figure size 1440x432 with 1 Axes>"
      ]
     },
     "metadata": {
      "needs_background": "light"
     },
     "output_type": "display_data"
    }
   ],
   "source": [
    "# create a scatter plot showing that there is a correlation between who a movie is known for and worldwide gross\n",
    "plt.rcParams[\"figure.figsize\"] = (20,6)\n",
    "top_rated_writers.plot(x = \"primary_name\", y = \"averagerating\", kind = \"scatter\")\n",
    "plt.xticks(rotation='vertical')\n",
    "plt.title(\"average rating of movies that writers have worked for\")"
   ]
  },
  {
   "cell_type": "code",
   "execution_count": 25,
   "metadata": {},
   "outputs": [
    {
     "data": {
      "text/plain": [
       "<AxesSubplot:xlabel='primary_name'>"
      ]
     },
     "execution_count": 25,
     "metadata": {},
     "output_type": "execute_result"
    },
    {
     "data": {
      "image/png": "[encoded data removed]",
      "text/plain": [
       "<Figure size 1440x432 with 1 Axes>"
      ]
     },
     "metadata": {
      "needs_background": "light"
     },
     "output_type": "display_data"
    }
   ],
   "source": [
    "# create a bar graph showing the top 50 actors with the average highest rated movies\n",
    "top_10_writers = top_rated_writers.head(10)\n",
    "plt.rcParams[\"figure.figsize\"] = (20,6)\n",
    "top_10_writers.plot(x = \"primary_name\", y = \"averagerating\", kind = \"bar\")"
   ]
  },
  {
   "cell_type": "markdown",
   "metadata": {},
   "source": [
    "# Average number of movies for directors"
   ]
  },
  {
   "cell_type": "markdown",
   "metadata": {},
   "source": [
    "create a sql query that retruns a table with all the directors and the number of movies they have directed"
   ]
  },
  {
   "cell_type": "code",
   "execution_count": 26,
   "metadata": {},
   "outputs": [
    {
     "data": {
      "text/html": [
       "<div>\n",
       "<style scoped>\n",
       "    .dataframe tbody tr th:only-of-type {\n",
       "        vertical-align: middle;\n",
       "    }\n",
       "\n",
       "    .dataframe tbody tr th {\n",
       "        vertical-align: top;\n",
       "    }\n",
       "\n",
       "    .dataframe thead th {\n",
       "        text-align: right;\n",
       "    }\n",
       "</style>\n",
       "<table border=\"1\" class=\"dataframe\">\n",
       "  <thead>\n",
       "    <tr style=\"text-align: right;\">\n",
       "      <th></th>\n",
       "      <th>COUNT(movie_basics.primary_title)</th>\n",
       "      <th>primary_name</th>\n",
       "    </tr>\n",
       "  </thead>\n",
       "  <tbody>\n",
       "    <tr>\n",
       "      <th>0</th>\n",
       "      <td>2</td>\n",
       "      <td>A. Todd Smith</td>\n",
       "    </tr>\n",
       "    <tr>\n",
       "      <th>1</th>\n",
       "      <td>4</td>\n",
       "      <td>A.J. Detisch</td>\n",
       "    </tr>\n",
       "    <tr>\n",
       "      <th>2</th>\n",
       "      <td>2</td>\n",
       "      <td>A.M. Greene</td>\n",
       "    </tr>\n",
       "    <tr>\n",
       "      <th>3</th>\n",
       "      <td>2</td>\n",
       "      <td>Aaron Andrews</td>\n",
       "    </tr>\n",
       "    <tr>\n",
       "      <th>4</th>\n",
       "      <td>1</td>\n",
       "      <td>Aaron Bell</td>\n",
       "    </tr>\n",
       "    <tr>\n",
       "      <th>...</th>\n",
       "      <td>...</td>\n",
       "      <td>...</td>\n",
       "    </tr>\n",
       "    <tr>\n",
       "      <th>8094</th>\n",
       "      <td>3</td>\n",
       "      <td>Özlem Koza</td>\n",
       "    </tr>\n",
       "    <tr>\n",
       "      <th>8095</th>\n",
       "      <td>4</td>\n",
       "      <td>Özlem Sariyildiz</td>\n",
       "    </tr>\n",
       "    <tr>\n",
       "      <th>8096</th>\n",
       "      <td>5</td>\n",
       "      <td>Ülkü Oktay</td>\n",
       "    </tr>\n",
       "    <tr>\n",
       "      <th>8097</th>\n",
       "      <td>3</td>\n",
       "      <td>Þórdur Bragi Jónsson</td>\n",
       "    </tr>\n",
       "    <tr>\n",
       "      <th>8098</th>\n",
       "      <td>6</td>\n",
       "      <td>Þórunn Lárusdóttir</td>\n",
       "    </tr>\n",
       "  </tbody>\n",
       "</table>\n",
       "<p>8099 rows × 2 columns</p>\n",
       "</div>"
      ],
      "text/plain": [
       "      COUNT(movie_basics.primary_title)          primary_name\n",
       "0                                     2         A. Todd Smith\n",
       "1                                     4          A.J. Detisch\n",
       "2                                     2           A.M. Greene\n",
       "3                                     2         Aaron Andrews\n",
       "4                                     1            Aaron Bell\n",
       "...                                 ...                   ...\n",
       "8094                                  3            Özlem Koza\n",
       "8095                                  4      Özlem Sariyildiz\n",
       "8096                                  5            Ülkü Oktay\n",
       "8097                                  3  Þórdur Bragi Jónsson\n",
       "8098                                  6    Þórunn Lárusdóttir\n",
       "\n",
       "[8099 rows x 2 columns]"
      ]
     },
     "execution_count": 26,
     "metadata": {},
     "output_type": "execute_result"
    }
   ],
   "source": [
    "num_of_movies_dir = \"\"\"\n",
    "SELECT \n",
    "    COUNT(movie_basics.primary_title),\n",
    "    persons.primary_name\n",
    "FROM persons\n",
    "JOIN directors\n",
    "    USING(person_id)\n",
    "JOIN movie_basics\n",
    "    USING(movie_id)\n",
    "JOIN principals\n",
    "    USING(movie_id)\n",
    "WHERE job LIKE \"lead director\" OR job LIKE \"assistant director\" OR job LIKE \"co director\" OR job LIKE \"co-director\"\n",
    "GROUP BY primary_name\n",
    "    HAVING COUNT(movie_basics.primary_title)\n",
    "\"\"\"\n",
    "num_of_movies_dir_df = pd.read_sql(num_of_movies_dir, conn)\n",
    "num_of_movies_dir_df"
   ]
  },
  {
   "cell_type": "markdown",
   "metadata": {},
   "source": [
    "find the average number of movies that a director has been in "
   ]
  },
  {
   "cell_type": "code",
   "execution_count": 27,
   "metadata": {},
   "outputs": [
    {
     "data": {
      "text/plain": [
       "3.4520311149524634"
      ]
     },
     "execution_count": 27,
     "metadata": {},
     "output_type": "execute_result"
    }
   ],
   "source": [
    "avg_movies_dir = num_of_movies_dir_df[\"COUNT(movie_basics.primary_title)\"].mean()\n",
    "avg_movies_dir"
   ]
  },
  {
   "cell_type": "markdown",
   "metadata": {},
   "source": [
    "create a box plot to show quartile range of the number of movies directors have been in "
   ]
  },
  {
   "cell_type": "code",
   "execution_count": 28,
   "metadata": {},
   "outputs": [
    {
     "data": {
      "text/plain": [
       "Text(0.5, 1.0, 'Box Plot showing Quartile Range of Number of Movies each Director has Been in')"
      ]
     },
     "execution_count": 28,
     "metadata": {},
     "output_type": "execute_result"
    },
    {
     "data": {
      "image/png": "[encoded data removed]",
      "text/plain": [
       "<Figure size 1440x432 with 1 Axes>"
      ]
     },
     "metadata": {
      "needs_background": "light"
     },
     "output_type": "display_data"
    }
   ],
   "source": [
    "plt.boxplot(num_of_movies_dir_df[\"COUNT(movie_basics.primary_title)\"], vert=False, showfliers=False)\n",
    "plt.xlabel(\"number of movies\")\n",
    "plt.ylabel(\"director\")\n",
    "plt.title(\"Box Plot showing Quartile Range of Number of Movies each Director has Been in\")"
   ]
  },
  {
   "cell_type": "markdown",
   "metadata": {},
   "source": [
    "conclude that it is okay to have directors that have only directed one movie in dataset because it is within the IQR"
   ]
  },
  {
   "cell_type": "markdown",
   "metadata": {},
   "source": [
    "# Directors of movies and the movie budget"
   ]
  },
  {
   "cell_type": "markdown",
   "metadata": {},
   "source": [
    "create a table that shows the directors for all movies in the database"
   ]
  },
  {
   "cell_type": "code",
   "execution_count": 29,
   "metadata": {},
   "outputs": [
    {
     "data": {
      "text/html": [
       "<div>\n",
       "<style scoped>\n",
       "    .dataframe tbody tr th:only-of-type {\n",
       "        vertical-align: middle;\n",
       "    }\n",
       "\n",
       "    .dataframe tbody tr th {\n",
       "        vertical-align: top;\n",
       "    }\n",
       "\n",
       "    .dataframe thead th {\n",
       "        text-align: right;\n",
       "    }\n",
       "</style>\n",
       "<table border=\"1\" class=\"dataframe\">\n",
       "  <thead>\n",
       "    <tr style=\"text-align: right;\">\n",
       "      <th></th>\n",
       "      <th>primary_name</th>\n",
       "      <th>job</th>\n",
       "      <th>primary_title</th>\n",
       "    </tr>\n",
       "  </thead>\n",
       "  <tbody>\n",
       "    <tr>\n",
       "      <th>0</th>\n",
       "      <td>Toby Genkel</td>\n",
       "      <td>co-director</td>\n",
       "      <td>Thor: Legend of the Magical Hammer</td>\n",
       "    </tr>\n",
       "    <tr>\n",
       "      <th>10</th>\n",
       "      <td>Toby Genkel</td>\n",
       "      <td>co-director</td>\n",
       "      <td>All Creatures Big and Small</td>\n",
       "    </tr>\n",
       "    <tr>\n",
       "      <th>14</th>\n",
       "      <td>Tod Mesirow</td>\n",
       "      <td>co-director</td>\n",
       "      <td>The Wild Ponies of Chincoteague</td>\n",
       "    </tr>\n",
       "    <tr>\n",
       "      <th>15</th>\n",
       "      <td>Nick Read</td>\n",
       "      <td>co-director</td>\n",
       "      <td>Bolshoi Babylon</td>\n",
       "    </tr>\n",
       "    <tr>\n",
       "      <th>16</th>\n",
       "      <td>Michael Creighton Rogers</td>\n",
       "      <td>co-director</td>\n",
       "      <td>We Run Sh*t</td>\n",
       "    </tr>\n",
       "    <tr>\n",
       "      <th>...</th>\n",
       "      <td>...</td>\n",
       "      <td>...</td>\n",
       "      <td>...</td>\n",
       "    </tr>\n",
       "    <tr>\n",
       "      <th>12767</th>\n",
       "      <td>Valerie Girie</td>\n",
       "      <td>co-director</td>\n",
       "      <td>Ramesses II: The Great Journey</td>\n",
       "    </tr>\n",
       "    <tr>\n",
       "      <th>12769</th>\n",
       "      <td>Xiao Xiao</td>\n",
       "      <td>co-director</td>\n",
       "      <td>Turtle Rock</td>\n",
       "    </tr>\n",
       "    <tr>\n",
       "      <th>12770</th>\n",
       "      <td>Samuel Rich</td>\n",
       "      <td>co-director</td>\n",
       "      <td>Lost Kites</td>\n",
       "    </tr>\n",
       "    <tr>\n",
       "      <th>12771</th>\n",
       "      <td>Khian Bartlett</td>\n",
       "      <td>lead director</td>\n",
       "      <td>The Invisible Man</td>\n",
       "    </tr>\n",
       "    <tr>\n",
       "      <th>12772</th>\n",
       "      <td>Robert Kosters</td>\n",
       "      <td>co-director</td>\n",
       "      <td>De achtste dag</td>\n",
       "    </tr>\n",
       "  </tbody>\n",
       "</table>\n",
       "<p>3653 rows × 3 columns</p>\n",
       "</div>"
      ],
      "text/plain": [
       "                   primary_name            job  \\\n",
       "0                   Toby Genkel    co-director   \n",
       "10                  Toby Genkel    co-director   \n",
       "14                  Tod Mesirow    co-director   \n",
       "15                    Nick Read    co-director   \n",
       "16     Michael Creighton Rogers    co-director   \n",
       "...                         ...            ...   \n",
       "12767             Valerie Girie    co-director   \n",
       "12769                 Xiao Xiao    co-director   \n",
       "12770               Samuel Rich    co-director   \n",
       "12771            Khian Bartlett  lead director   \n",
       "12772            Robert Kosters    co-director   \n",
       "\n",
       "                            primary_title  \n",
       "0      Thor: Legend of the Magical Hammer  \n",
       "10            All Creatures Big and Small  \n",
       "14        The Wild Ponies of Chincoteague  \n",
       "15                        Bolshoi Babylon  \n",
       "16                            We Run Sh*t  \n",
       "...                                   ...  \n",
       "12767      Ramesses II: The Great Journey  \n",
       "12769                         Turtle Rock  \n",
       "12770                          Lost Kites  \n",
       "12771                   The Invisible Man  \n",
       "12772                      De achtste dag  \n",
       "\n",
       "[3653 rows x 3 columns]"
      ]
     },
     "execution_count": 29,
     "metadata": {},
     "output_type": "execute_result"
    }
   ],
   "source": [
    "# create a SQL query that returns the primary name of the director and their movie\n",
    "# then turn the query into a dataframe\n",
    "# the SQL query should include only people whose job on the movie was \"lead director\", \"assistant director\",\n",
    "# or \"co director\" and who are still alive today \n",
    "directors = \"\"\"\n",
    "SELECT \n",
    "    persons.primary_name,\n",
    "    principals.job,\n",
    "    movie_basics.primary_title\n",
    "FROM persons\n",
    "JOIN directors\n",
    "    USING(person_id)\n",
    "JOIN movie_ratings\n",
    "    USING(movie_id)\n",
    "JOIN movie_basics\n",
    "    USING(movie_id)\n",
    "JOIN principals\n",
    "    USING(movie_id)\n",
    "WHERE (job LIKE \"lead director\" OR job LIKE \"assistant director\" OR job LIKE \"co director\" OR job LIKE \"co-director\") \n",
    "        AND death_year IS NULL\n",
    "\"\"\"\n",
    "\n",
    "directors_df = pd.read_sql(directors, conn)\n",
    "\n",
    "# clean table by dropping duplicates and na values\n",
    "directors_df = directors_df.drop_duplicates()\n",
    "directors_df = directors_df.dropna()\n",
    "directors_df"
   ]
  },
  {
   "cell_type": "code",
   "execution_count": 30,
   "metadata": {},
   "outputs": [
    {
     "data": {
      "text/html": [
       "<div>\n",
       "<style scoped>\n",
       "    .dataframe tbody tr th:only-of-type {\n",
       "        vertical-align: middle;\n",
       "    }\n",
       "\n",
       "    .dataframe tbody tr th {\n",
       "        vertical-align: top;\n",
       "    }\n",
       "\n",
       "    .dataframe thead th {\n",
       "        text-align: right;\n",
       "    }\n",
       "</style>\n",
       "<table border=\"1\" class=\"dataframe\">\n",
       "  <thead>\n",
       "    <tr style=\"text-align: right;\">\n",
       "      <th></th>\n",
       "      <th>id</th>\n",
       "      <th>release_date</th>\n",
       "      <th>movie</th>\n",
       "      <th>production_budget</th>\n",
       "      <th>domestic_gross</th>\n",
       "      <th>worldwide_gross</th>\n",
       "      <th>domestic_profit</th>\n",
       "      <th>profit</th>\n",
       "    </tr>\n",
       "  </thead>\n",
       "  <tbody>\n",
       "    <tr>\n",
       "      <th>0</th>\n",
       "      <td>1</td>\n",
       "      <td>Dec 18, 2009</td>\n",
       "      <td>Avatar</td>\n",
       "      <td>425000000</td>\n",
       "      <td>760507625</td>\n",
       "      <td>2.776345e+09</td>\n",
       "      <td>335507625</td>\n",
       "      <td>2.351345e+09</td>\n",
       "    </tr>\n",
       "    <tr>\n",
       "      <th>42</th>\n",
       "      <td>43</td>\n",
       "      <td>Dec 19, 1997</td>\n",
       "      <td>Titanic</td>\n",
       "      <td>200000000</td>\n",
       "      <td>659363944</td>\n",
       "      <td>2.208208e+09</td>\n",
       "      <td>459363944</td>\n",
       "      <td>2.008208e+09</td>\n",
       "    </tr>\n",
       "    <tr>\n",
       "      <th>5</th>\n",
       "      <td>6</td>\n",
       "      <td>Dec 18, 2015</td>\n",
       "      <td>Star Wars Ep. VII: The Force Awakens</td>\n",
       "      <td>306000000</td>\n",
       "      <td>936662225</td>\n",
       "      <td>2.053311e+09</td>\n",
       "      <td>630662225</td>\n",
       "      <td>1.747311e+09</td>\n",
       "    </tr>\n",
       "    <tr>\n",
       "      <th>6</th>\n",
       "      <td>7</td>\n",
       "      <td>Apr 27, 2018</td>\n",
       "      <td>Avengers: Infinity War</td>\n",
       "      <td>300000000</td>\n",
       "      <td>678815482</td>\n",
       "      <td>2.048134e+09</td>\n",
       "      <td>378815482</td>\n",
       "      <td>1.748134e+09</td>\n",
       "    </tr>\n",
       "    <tr>\n",
       "      <th>33</th>\n",
       "      <td>34</td>\n",
       "      <td>Jun 12, 2015</td>\n",
       "      <td>Jurassic World</td>\n",
       "      <td>215000000</td>\n",
       "      <td>652270625</td>\n",
       "      <td>1.648855e+09</td>\n",
       "      <td>437270625</td>\n",
       "      <td>1.433855e+09</td>\n",
       "    </tr>\n",
       "  </tbody>\n",
       "</table>\n",
       "</div>"
      ],
      "text/plain": [
       "    id  release_date                                 movie  production_budget  \\\n",
       "0    1  Dec 18, 2009                                Avatar          425000000   \n",
       "42  43  Dec 19, 1997                               Titanic          200000000   \n",
       "5    6  Dec 18, 2015  Star Wars Ep. VII: The Force Awakens          306000000   \n",
       "6    7  Apr 27, 2018                Avengers: Infinity War          300000000   \n",
       "33  34  Jun 12, 2015                        Jurassic World          215000000   \n",
       "\n",
       "    domestic_gross  worldwide_gross  domestic_profit        profit  \n",
       "0        760507625     2.776345e+09        335507625  2.351345e+09  \n",
       "42       659363944     2.208208e+09        459363944  2.008208e+09  \n",
       "5        936662225     2.053311e+09        630662225  1.747311e+09  \n",
       "6        678815482     2.048134e+09        378815482  1.748134e+09  \n",
       "33       652270625     1.648855e+09        437270625  1.433855e+09  "
      ]
     },
     "execution_count": 30,
     "metadata": {},
     "output_type": "execute_result"
    }
   ],
   "source": [
    "# examine the budget table\n",
    "budget.head()"
   ]
  },
  {
   "cell_type": "markdown",
   "metadata": {},
   "source": [
    "merge the budget and director tables, then create a table that shows the directors and the budget of their movies"
   ]
  },
  {
   "cell_type": "code",
   "execution_count": 31,
   "metadata": {},
   "outputs": [
    {
     "data": {
      "text/html": [
       "<div>\n",
       "<style scoped>\n",
       "    .dataframe tbody tr th:only-of-type {\n",
       "        vertical-align: middle;\n",
       "    }\n",
       "\n",
       "    .dataframe tbody tr th {\n",
       "        vertical-align: top;\n",
       "    }\n",
       "\n",
       "    .dataframe thead th {\n",
       "        text-align: right;\n",
       "    }\n",
       "</style>\n",
       "<table border=\"1\" class=\"dataframe\">\n",
       "  <thead>\n",
       "    <tr style=\"text-align: right;\">\n",
       "      <th></th>\n",
       "      <th>id</th>\n",
       "      <th>release_date</th>\n",
       "      <th>movie</th>\n",
       "      <th>production_budget</th>\n",
       "      <th>domestic_gross</th>\n",
       "      <th>worldwide_gross</th>\n",
       "      <th>domestic_profit</th>\n",
       "      <th>profit</th>\n",
       "      <th>primary_name</th>\n",
       "      <th>job</th>\n",
       "      <th>primary_title</th>\n",
       "    </tr>\n",
       "  </thead>\n",
       "  <tbody>\n",
       "    <tr>\n",
       "      <th>0</th>\n",
       "      <td>30</td>\n",
       "      <td>Jun 30, 2017</td>\n",
       "      <td>Despicable Me 3</td>\n",
       "      <td>75000000</td>\n",
       "      <td>264624300</td>\n",
       "      <td>1.034728e+09</td>\n",
       "      <td>189624300</td>\n",
       "      <td>959727750.0</td>\n",
       "      <td>Kyle Balda</td>\n",
       "      <td>co-director</td>\n",
       "      <td>Despicable Me 3</td>\n",
       "    </tr>\n",
       "    <tr>\n",
       "      <th>1</th>\n",
       "      <td>30</td>\n",
       "      <td>Jun 30, 2017</td>\n",
       "      <td>Despicable Me 3</td>\n",
       "      <td>75000000</td>\n",
       "      <td>264624300</td>\n",
       "      <td>1.034728e+09</td>\n",
       "      <td>189624300</td>\n",
       "      <td>959727750.0</td>\n",
       "      <td>Pierre Coffin</td>\n",
       "      <td>co-director</td>\n",
       "      <td>Despicable Me 3</td>\n",
       "    </tr>\n",
       "    <tr>\n",
       "      <th>2</th>\n",
       "      <td>30</td>\n",
       "      <td>Jun 30, 2017</td>\n",
       "      <td>Despicable Me 3</td>\n",
       "      <td>75000000</td>\n",
       "      <td>264624300</td>\n",
       "      <td>1.034728e+09</td>\n",
       "      <td>189624300</td>\n",
       "      <td>959727750.0</td>\n",
       "      <td>Eric Guillon</td>\n",
       "      <td>co-director</td>\n",
       "      <td>Despicable Me 3</td>\n",
       "    </tr>\n",
       "    <tr>\n",
       "      <th>3</th>\n",
       "      <td>46</td>\n",
       "      <td>Jun 17, 2016</td>\n",
       "      <td>Finding Dory</td>\n",
       "      <td>200000000</td>\n",
       "      <td>486295561</td>\n",
       "      <td>1.021215e+09</td>\n",
       "      <td>286295561</td>\n",
       "      <td>821215193.0</td>\n",
       "      <td>Angus MacLane</td>\n",
       "      <td>co-director</td>\n",
       "      <td>Finding Dory</td>\n",
       "    </tr>\n",
       "    <tr>\n",
       "      <th>4</th>\n",
       "      <td>46</td>\n",
       "      <td>Jun 17, 2016</td>\n",
       "      <td>Finding Dory</td>\n",
       "      <td>200000000</td>\n",
       "      <td>486295561</td>\n",
       "      <td>1.021215e+09</td>\n",
       "      <td>286295561</td>\n",
       "      <td>821215193.0</td>\n",
       "      <td>Andrew Stanton</td>\n",
       "      <td>co-director</td>\n",
       "      <td>Finding Dory</td>\n",
       "    </tr>\n",
       "  </tbody>\n",
       "</table>\n",
       "</div>"
      ],
      "text/plain": [
       "   id  release_date            movie  production_budget  domestic_gross  \\\n",
       "0  30  Jun 30, 2017  Despicable Me 3           75000000       264624300   \n",
       "1  30  Jun 30, 2017  Despicable Me 3           75000000       264624300   \n",
       "2  30  Jun 30, 2017  Despicable Me 3           75000000       264624300   \n",
       "3  46  Jun 17, 2016     Finding Dory          200000000       486295561   \n",
       "4  46  Jun 17, 2016     Finding Dory          200000000       486295561   \n",
       "\n",
       "   worldwide_gross  domestic_profit       profit    primary_name          job  \\\n",
       "0     1.034728e+09        189624300  959727750.0      Kyle Balda  co-director   \n",
       "1     1.034728e+09        189624300  959727750.0   Pierre Coffin  co-director   \n",
       "2     1.034728e+09        189624300  959727750.0    Eric Guillon  co-director   \n",
       "3     1.021215e+09        286295561  821215193.0   Angus MacLane  co-director   \n",
       "4     1.021215e+09        286295561  821215193.0  Andrew Stanton  co-director   \n",
       "\n",
       "     primary_title  \n",
       "0  Despicable Me 3  \n",
       "1  Despicable Me 3  \n",
       "2  Despicable Me 3  \n",
       "3     Finding Dory  \n",
       "4     Finding Dory  "
      ]
     },
     "execution_count": 31,
     "metadata": {},
     "output_type": "execute_result"
    }
   ],
   "source": [
    "profit_and_directors = pd.merge(budget, directors_df, left_on='movie', right_on=\"primary_title\")\n",
    "profit_and_directors.head()"
   ]
  },
  {
   "cell_type": "code",
   "execution_count": 32,
   "metadata": {},
   "outputs": [
    {
     "data": {
      "text/html": [
       "<div>\n",
       "<style scoped>\n",
       "    .dataframe tbody tr th:only-of-type {\n",
       "        vertical-align: middle;\n",
       "    }\n",
       "\n",
       "    .dataframe tbody tr th {\n",
       "        vertical-align: top;\n",
       "    }\n",
       "\n",
       "    .dataframe thead th {\n",
       "        text-align: right;\n",
       "    }\n",
       "</style>\n",
       "<table border=\"1\" class=\"dataframe\">\n",
       "  <thead>\n",
       "    <tr style=\"text-align: right;\">\n",
       "      <th></th>\n",
       "      <th>primary_name</th>\n",
       "      <th>worldwide_gross</th>\n",
       "    </tr>\n",
       "  </thead>\n",
       "  <tbody>\n",
       "    <tr>\n",
       "      <th>0</th>\n",
       "      <td>Kyle Balda</td>\n",
       "      <td>1.034728e+09</td>\n",
       "    </tr>\n",
       "    <tr>\n",
       "      <th>1</th>\n",
       "      <td>Pierre Coffin</td>\n",
       "      <td>1.034728e+09</td>\n",
       "    </tr>\n",
       "    <tr>\n",
       "      <th>2</th>\n",
       "      <td>Eric Guillon</td>\n",
       "      <td>1.034728e+09</td>\n",
       "    </tr>\n",
       "    <tr>\n",
       "      <th>3</th>\n",
       "      <td>Angus MacLane</td>\n",
       "      <td>1.021215e+09</td>\n",
       "    </tr>\n",
       "    <tr>\n",
       "      <th>4</th>\n",
       "      <td>Andrew Stanton</td>\n",
       "      <td>1.021215e+09</td>\n",
       "    </tr>\n",
       "  </tbody>\n",
       "</table>\n",
       "</div>"
      ],
      "text/plain": [
       "     primary_name  worldwide_gross\n",
       "0      Kyle Balda     1.034728e+09\n",
       "1   Pierre Coffin     1.034728e+09\n",
       "2    Eric Guillon     1.034728e+09\n",
       "3   Angus MacLane     1.021215e+09\n",
       "4  Andrew Stanton     1.021215e+09"
      ]
     },
     "execution_count": 32,
     "metadata": {},
     "output_type": "execute_result"
    }
   ],
   "source": [
    "# create a table with only directors and the worldwide gross of their movies\n",
    "wwg_directors = profit_and_directors.loc[:,[\"primary_name\", \"worldwide_gross\"]]\n",
    "wwg_directors.head()"
   ]
  },
  {
   "cell_type": "code",
   "execution_count": 33,
   "metadata": {},
   "outputs": [],
   "source": [
    "# remove any rows with values == 0\n",
    "empty_index = wwg_directors[wwg_directors[\"worldwide_gross\"] == 0].index\n",
    "wwg_directors = wwg_directors.drop(empty_index)"
   ]
  },
  {
   "cell_type": "code",
   "execution_count": 34,
   "metadata": {},
   "outputs": [
    {
     "data": {
      "text/html": [
       "<div>\n",
       "<style scoped>\n",
       "    .dataframe tbody tr th:only-of-type {\n",
       "        vertical-align: middle;\n",
       "    }\n",
       "\n",
       "    .dataframe tbody tr th {\n",
       "        vertical-align: top;\n",
       "    }\n",
       "\n",
       "    .dataframe thead th {\n",
       "        text-align: right;\n",
       "    }\n",
       "</style>\n",
       "<table border=\"1\" class=\"dataframe\">\n",
       "  <thead>\n",
       "    <tr style=\"text-align: right;\">\n",
       "      <th></th>\n",
       "      <th>primary_name</th>\n",
       "      <th>worldwide_gross</th>\n",
       "    </tr>\n",
       "  </thead>\n",
       "  <tbody>\n",
       "    <tr>\n",
       "      <th>0</th>\n",
       "      <td>Kyle Balda</td>\n",
       "      <td>1,034,727,750.0</td>\n",
       "    </tr>\n",
       "    <tr>\n",
       "      <th>2</th>\n",
       "      <td>Eric Guillon</td>\n",
       "      <td>1,034,727,750.0</td>\n",
       "    </tr>\n",
       "    <tr>\n",
       "      <th>1</th>\n",
       "      <td>Pierre Coffin</td>\n",
       "      <td>1,034,727,750.0</td>\n",
       "    </tr>\n",
       "    <tr>\n",
       "      <th>3</th>\n",
       "      <td>Angus MacLane</td>\n",
       "      <td>1,021,215,193.0</td>\n",
       "    </tr>\n",
       "    <tr>\n",
       "      <th>4</th>\n",
       "      <td>Andrew Stanton</td>\n",
       "      <td>1,021,215,193.0</td>\n",
       "    </tr>\n",
       "    <tr>\n",
       "      <th>...</th>\n",
       "      <td>...</td>\n",
       "      <td>...</td>\n",
       "    </tr>\n",
       "    <tr>\n",
       "      <th>79</th>\n",
       "      <td>Taedong Park</td>\n",
       "      <td>360,898.0</td>\n",
       "    </tr>\n",
       "    <tr>\n",
       "      <th>80</th>\n",
       "      <td>Steven Greenstreet</td>\n",
       "      <td>100,280.0</td>\n",
       "    </tr>\n",
       "    <tr>\n",
       "      <th>81</th>\n",
       "      <td>Reed Cowan</td>\n",
       "      <td>100,280.0</td>\n",
       "    </tr>\n",
       "    <tr>\n",
       "      <th>82</th>\n",
       "      <td>Kate Connor</td>\n",
       "      <td>78,948.0</td>\n",
       "    </tr>\n",
       "    <tr>\n",
       "      <th>83</th>\n",
       "      <td>Michael Worth</td>\n",
       "      <td>78,948.0</td>\n",
       "    </tr>\n",
       "  </tbody>\n",
       "</table>\n",
       "<p>84 rows × 2 columns</p>\n",
       "</div>"
      ],
      "text/plain": [
       "          primary_name  worldwide_gross\n",
       "0           Kyle Balda  1,034,727,750.0\n",
       "2         Eric Guillon  1,034,727,750.0\n",
       "1        Pierre Coffin  1,034,727,750.0\n",
       "3        Angus MacLane  1,021,215,193.0\n",
       "4       Andrew Stanton  1,021,215,193.0\n",
       "..                 ...              ...\n",
       "79        Taedong Park        360,898.0\n",
       "80  Steven Greenstreet        100,280.0\n",
       "81          Reed Cowan        100,280.0\n",
       "82         Kate Connor         78,948.0\n",
       "83       Michael Worth         78,948.0\n",
       "\n",
       "[84 rows x 2 columns]"
      ]
     },
     "execution_count": 34,
     "metadata": {},
     "output_type": "execute_result"
    }
   ],
   "source": [
    "# sort the list by descending\n",
    "wwg_directors = wwg_directors.sort_values(by = \"worldwide_gross\", ascending=False)\n",
    "pd.set_option('display.float_format', lambda x: '%.9f' % x)\n",
    "pd.options.display.float_format = '{:,.1f}'.format\n",
    "wwg_directors"
   ]
  },
  {
   "cell_type": "markdown",
   "metadata": {},
   "source": [
    "create a boxplot that shows the range of worldwide gross"
   ]
  },
  {
   "cell_type": "code",
   "execution_count": 35,
   "metadata": {},
   "outputs": [
    {
     "ename": "AttributeError",
     "evalue": "This method only works with the ScalarFormatter",
     "output_type": "error",
     "traceback": [
      "\u001b[1;31m---------------------------------------------------------------------------\u001b[0m",
      "\u001b[1;31mAttributeError\u001b[0m                            Traceback (most recent call last)",
      "File \u001b[1;32m~\\Anaconda3\\lib\\site-packages\\matplotlib\\axes\\_base.py:3292\u001b[0m, in \u001b[0;36m_AxesBase.ticklabel_format\u001b[1;34m(self, axis, style, scilimits, useOffset, useLocale, useMathText)\u001b[0m\n\u001b[0;32m   3291\u001b[0m \u001b[38;5;28;01mif\u001b[39;00m is_sci_style \u001b[38;5;129;01mis\u001b[39;00m \u001b[38;5;129;01mnot\u001b[39;00m \u001b[38;5;28;01mNone\u001b[39;00m:\n\u001b[1;32m-> 3292\u001b[0m     \u001b[43maxis\u001b[49m\u001b[38;5;241;43m.\u001b[39;49m\u001b[43mmajor\u001b[49m\u001b[38;5;241;43m.\u001b[39;49m\u001b[43mformatter\u001b[49m\u001b[38;5;241;43m.\u001b[39;49m\u001b[43mset_scientific\u001b[49m(is_sci_style)\n\u001b[0;32m   3293\u001b[0m \u001b[38;5;28;01mif\u001b[39;00m scilimits \u001b[38;5;129;01mis\u001b[39;00m \u001b[38;5;129;01mnot\u001b[39;00m \u001b[38;5;28;01mNone\u001b[39;00m:\n",
      "\u001b[1;31mAttributeError\u001b[0m: 'FixedFormatter' object has no attribute 'set_scientific'",
      "\nThe above exception was the direct cause of the following exception:\n",
      "\u001b[1;31mAttributeError\u001b[0m                            Traceback (most recent call last)",
      "Input \u001b[1;32mIn [35]\u001b[0m, in \u001b[0;36m<cell line: 5>\u001b[1;34m()\u001b[0m\n\u001b[0;32m      3\u001b[0m plt\u001b[38;5;241m.\u001b[39mxlabel(\u001b[38;5;124m\"\u001b[39m\u001b[38;5;124mworldwide gross\u001b[39m\u001b[38;5;124m\"\u001b[39m)\n\u001b[0;32m      4\u001b[0m plt\u001b[38;5;241m.\u001b[39mylabel(\u001b[38;5;124m\"\u001b[39m\u001b[38;5;124mmovie\u001b[39m\u001b[38;5;124m\"\u001b[39m)\n\u001b[1;32m----> 5\u001b[0m \u001b[43mplt\u001b[49m\u001b[38;5;241;43m.\u001b[39;49m\u001b[43mticklabel_format\u001b[49m\u001b[43m(\u001b[49m\u001b[43mstyle\u001b[49m\u001b[38;5;241;43m=\u001b[39;49m\u001b[38;5;124;43m\"\u001b[39;49m\u001b[38;5;124;43mplain\u001b[39;49m\u001b[38;5;124;43m\"\u001b[39;49m\u001b[43m)\u001b[49m\n",
      "File \u001b[1;32m~\\Anaconda3\\lib\\site-packages\\matplotlib\\pyplot.py:2941\u001b[0m, in \u001b[0;36mticklabel_format\u001b[1;34m(axis, style, scilimits, useOffset, useLocale, useMathText)\u001b[0m\n\u001b[0;32m   2937\u001b[0m \u001b[38;5;129m@_copy_docstring_and_deprecators\u001b[39m(Axes\u001b[38;5;241m.\u001b[39mticklabel_format)\n\u001b[0;32m   2938\u001b[0m \u001b[38;5;28;01mdef\u001b[39;00m \u001b[38;5;21mticklabel_format\u001b[39m(\n\u001b[0;32m   2939\u001b[0m         \u001b[38;5;241m*\u001b[39m, axis\u001b[38;5;241m=\u001b[39m\u001b[38;5;124m'\u001b[39m\u001b[38;5;124mboth\u001b[39m\u001b[38;5;124m'\u001b[39m, style\u001b[38;5;241m=\u001b[39m\u001b[38;5;124m'\u001b[39m\u001b[38;5;124m'\u001b[39m, scilimits\u001b[38;5;241m=\u001b[39m\u001b[38;5;28;01mNone\u001b[39;00m, useOffset\u001b[38;5;241m=\u001b[39m\u001b[38;5;28;01mNone\u001b[39;00m,\n\u001b[0;32m   2940\u001b[0m         useLocale\u001b[38;5;241m=\u001b[39m\u001b[38;5;28;01mNone\u001b[39;00m, useMathText\u001b[38;5;241m=\u001b[39m\u001b[38;5;28;01mNone\u001b[39;00m):\n\u001b[1;32m-> 2941\u001b[0m     \u001b[38;5;28;01mreturn\u001b[39;00m \u001b[43mgca\u001b[49m\u001b[43m(\u001b[49m\u001b[43m)\u001b[49m\u001b[38;5;241;43m.\u001b[39;49m\u001b[43mticklabel_format\u001b[49m\u001b[43m(\u001b[49m\n\u001b[0;32m   2942\u001b[0m \u001b[43m        \u001b[49m\u001b[43maxis\u001b[49m\u001b[38;5;241;43m=\u001b[39;49m\u001b[43maxis\u001b[49m\u001b[43m,\u001b[49m\u001b[43m \u001b[49m\u001b[43mstyle\u001b[49m\u001b[38;5;241;43m=\u001b[39;49m\u001b[43mstyle\u001b[49m\u001b[43m,\u001b[49m\u001b[43m \u001b[49m\u001b[43mscilimits\u001b[49m\u001b[38;5;241;43m=\u001b[39;49m\u001b[43mscilimits\u001b[49m\u001b[43m,\u001b[49m\n\u001b[0;32m   2943\u001b[0m \u001b[43m        \u001b[49m\u001b[43museOffset\u001b[49m\u001b[38;5;241;43m=\u001b[39;49m\u001b[43museOffset\u001b[49m\u001b[43m,\u001b[49m\u001b[43m \u001b[49m\u001b[43museLocale\u001b[49m\u001b[38;5;241;43m=\u001b[39;49m\u001b[43museLocale\u001b[49m\u001b[43m,\u001b[49m\n\u001b[0;32m   2944\u001b[0m \u001b[43m        \u001b[49m\u001b[43museMathText\u001b[49m\u001b[38;5;241;43m=\u001b[39;49m\u001b[43museMathText\u001b[49m\u001b[43m)\u001b[49m\n",
      "File \u001b[1;32m~\\Anaconda3\\lib\\site-packages\\matplotlib\\axes\\_base.py:3302\u001b[0m, in \u001b[0;36m_AxesBase.ticklabel_format\u001b[1;34m(self, axis, style, scilimits, useOffset, useLocale, useMathText)\u001b[0m\n\u001b[0;32m   3300\u001b[0m             axis\u001b[38;5;241m.\u001b[39mmajor\u001b[38;5;241m.\u001b[39mformatter\u001b[38;5;241m.\u001b[39mset_useMathText(useMathText)\n\u001b[0;32m   3301\u001b[0m \u001b[38;5;28;01mexcept\u001b[39;00m \u001b[38;5;167;01mAttributeError\u001b[39;00m \u001b[38;5;28;01mas\u001b[39;00m err:\n\u001b[1;32m-> 3302\u001b[0m     \u001b[38;5;28;01mraise\u001b[39;00m \u001b[38;5;167;01mAttributeError\u001b[39;00m(\n\u001b[0;32m   3303\u001b[0m         \u001b[38;5;124m\"\u001b[39m\u001b[38;5;124mThis method only works with the ScalarFormatter\u001b[39m\u001b[38;5;124m\"\u001b[39m) \u001b[38;5;28;01mfrom\u001b[39;00m \u001b[38;5;21;01merr\u001b[39;00m\n",
      "\u001b[1;31mAttributeError\u001b[0m: This method only works with the ScalarFormatter"
     ]
    },
    {
     "data": {
      "image/png": "[encoded data removed]",
      "text/plain": [
       "<Figure size 1440x432 with 1 Axes>"
      ]
     },
     "metadata": {
      "needs_background": "light"
     },
     "output_type": "display_data"
    }
   ],
   "source": [
    "plt.boxplot(wwg_directors[\"worldwide_gross\"], vert=False)\n",
    "plt.rcParams[\"figure.figsize\"] = (10,6)\n",
    "plt.xlabel(\"worldwide gross\")\n",
    "plt.ylabel(\"movie\")\n",
    "plt.ticklabel_format(style=\"plain\")"
   ]
  },
  {
   "cell_type": "markdown",
   "metadata": {},
   "source": [
    "create a scatter plot that show the directors above the 75 quartile and the worldwide gross of each of their movies "
   ]
  },
  {
   "cell_type": "code",
   "execution_count": 36,
   "metadata": {},
   "outputs": [
    {
     "data": {
      "text/plain": [
       "Text(0.5, 1.0, 'directors and the average worldwide gross of the movies they have directed')"
      ]
     },
     "execution_count": 36,
     "metadata": {},
     "output_type": "execute_result"
    },
    {
     "data": {
      "image/png": "[encoded data removed]",
      "text/plain": [
       "<Figure size 720x432 with 1 Axes>"
      ]
     },
     "metadata": {
      "needs_background": "light"
     },
     "output_type": "display_data"
    }
   ],
   "source": [
    "# create a scatter plot showing that there is a correlation between director and worldwide gross\n",
    "directors_above_75Q = wwg_directors[wwg_directors[\"worldwide_gross\"] >= 600000000]\n",
    "plt.rcParams[\"figure.figsize\"] = (10,6)\n",
    "directors_above_75Q.plot(x = \"primary_name\", y = \"worldwide_gross\", kind = \"scatter\")\n",
    "plt.xticks(rotation='vertical')\n",
    "plt.title(\"directors and the average worldwide gross of the movies they have directed\")"
   ]
  },
  {
   "cell_type": "markdown",
   "metadata": {},
   "source": [
    "create a bar graph that shows the top directors above the 75 quartile with the highest grossing movies "
   ]
  },
  {
   "cell_type": "code",
   "execution_count": 37,
   "metadata": {},
   "outputs": [
    {
     "data": {
      "text/plain": [
       "Text(0.5, 1.0, 'Directors with Worldwide Gross Above the 75th Quartile')"
      ]
     },
     "execution_count": 37,
     "metadata": {},
     "output_type": "execute_result"
    },
    {
     "data": {
      "image/png": "[encoded data removed]",
      "text/plain": [
       "<Figure size 720x432 with 1 Axes>"
      ]
     },
     "metadata": {
      "needs_background": "light"
     },
     "output_type": "display_data"
    }
   ],
   "source": [
    "plt.rcParams[\"figure.figsize\"] = (10,6)\n",
    "directors_above_75Q.plot(x = \"primary_name\", y = \"worldwide_gross\", kind = \"bar\")\n",
    "plt.ylabel(\"Worldwide Gross Earnings\")\n",
    "plt.xlabel(\"Director Name\")\n",
    "plt.xticks(rotation='vertical')\n",
    "plt.title(\"Directors with Worldwide Gross Above the 75th Quartile\")"
   ]
  },
  {
   "cell_type": "markdown",
   "metadata": {},
   "source": [
    "plot a bar graph that has the top 5 best directors:"
   ]
  },
  {
   "cell_type": "code",
   "execution_count": 38,
   "metadata": {},
   "outputs": [
    {
     "data": {
      "image/png": "[encoded data removed]",
      "text/plain": [
       "<Figure size 720x432 with 1 Axes>"
      ]
     },
     "metadata": {
      "needs_background": "light"
     },
     "output_type": "display_data"
    }
   ],
   "source": [
    "top_5_dir = wwg_directors.head(5)\n",
    "plt.rcParams[\"figure.figsize\"] = (10,6)\n",
    "top_5_dir.plot(x = \"primary_name\", y = \"worldwide_gross\", kind = \"bar\")\n",
    "plt.ylabel(\"Worldwide Gross Earnings in Billions\")\n",
    "plt.xlabel(\"Director Name\")\n",
    "plt.xticks(rotation=45)\n",
    "plt.title(\"Top 5 Directors According To Worldwide Gross\")\n",
    "plt.savefig(\"top5dir\")"
   ]
  },
  {
   "cell_type": "markdown",
   "metadata": {},
   "source": [
    "# Directors of movies and the movies ratings"
   ]
  },
  {
   "cell_type": "raw",
   "metadata": {},
   "source": [
    "create a sql query that returns the name of the director, the name of the movie they directed, and the rating of that movie"
   ]
  },
  {
   "cell_type": "code",
   "execution_count": 39,
   "metadata": {},
   "outputs": [
    {
     "data": {
      "text/html": [
       "<div>\n",
       "<style scoped>\n",
       "    .dataframe tbody tr th:only-of-type {\n",
       "        vertical-align: middle;\n",
       "    }\n",
       "\n",
       "    .dataframe tbody tr th {\n",
       "        vertical-align: top;\n",
       "    }\n",
       "\n",
       "    .dataframe thead th {\n",
       "        text-align: right;\n",
       "    }\n",
       "</style>\n",
       "<table border=\"1\" class=\"dataframe\">\n",
       "  <thead>\n",
       "    <tr style=\"text-align: right;\">\n",
       "      <th></th>\n",
       "      <th>primary_name</th>\n",
       "      <th>averagerating</th>\n",
       "    </tr>\n",
       "  </thead>\n",
       "  <tbody>\n",
       "    <tr>\n",
       "      <th>0</th>\n",
       "      <td>A. Todd Smith</td>\n",
       "      <td>8.2</td>\n",
       "    </tr>\n",
       "    <tr>\n",
       "      <th>1</th>\n",
       "      <td>A.J. Detisch</td>\n",
       "      <td>6.9</td>\n",
       "    </tr>\n",
       "    <tr>\n",
       "      <th>2</th>\n",
       "      <td>A.M. Greene</td>\n",
       "      <td>7.2</td>\n",
       "    </tr>\n",
       "    <tr>\n",
       "      <th>3</th>\n",
       "      <td>Aaron Bishop</td>\n",
       "      <td>5.1</td>\n",
       "    </tr>\n",
       "    <tr>\n",
       "      <th>4</th>\n",
       "      <td>Aaron Cadieux</td>\n",
       "      <td>5.4</td>\n",
       "    </tr>\n",
       "    <tr>\n",
       "      <th>...</th>\n",
       "      <td>...</td>\n",
       "      <td>...</td>\n",
       "    </tr>\n",
       "    <tr>\n",
       "      <th>3523</th>\n",
       "      <td>Özgür Bakar</td>\n",
       "      <td>3.6</td>\n",
       "    </tr>\n",
       "    <tr>\n",
       "      <th>3524</th>\n",
       "      <td>Özlem Koza</td>\n",
       "      <td>6.6</td>\n",
       "    </tr>\n",
       "    <tr>\n",
       "      <th>3525</th>\n",
       "      <td>Özlem Sariyildiz</td>\n",
       "      <td>7.8</td>\n",
       "    </tr>\n",
       "    <tr>\n",
       "      <th>3526</th>\n",
       "      <td>Ülkü Oktay</td>\n",
       "      <td>6.0</td>\n",
       "    </tr>\n",
       "    <tr>\n",
       "      <th>3527</th>\n",
       "      <td>Þórdur Bragi Jónsson</td>\n",
       "      <td>6.3</td>\n",
       "    </tr>\n",
       "  </tbody>\n",
       "</table>\n",
       "<p>3528 rows × 2 columns</p>\n",
       "</div>"
      ],
      "text/plain": [
       "              primary_name  averagerating\n",
       "0            A. Todd Smith            8.2\n",
       "1             A.J. Detisch            6.9\n",
       "2              A.M. Greene            7.2\n",
       "3             Aaron Bishop            5.1\n",
       "4            Aaron Cadieux            5.4\n",
       "...                    ...            ...\n",
       "3523           Özgür Bakar            3.6\n",
       "3524            Özlem Koza            6.6\n",
       "3525      Özlem Sariyildiz            7.8\n",
       "3526            Ülkü Oktay            6.0\n",
       "3527  Þórdur Bragi Jónsson            6.3\n",
       "\n",
       "[3528 rows x 2 columns]"
      ]
     },
     "execution_count": 39,
     "metadata": {},
     "output_type": "execute_result"
    }
   ],
   "source": [
    "directors_and_ratings = \"\"\"\n",
    "SELECT \n",
    "    persons.primary_name,\n",
    "    movie_ratings.averagerating\n",
    "FROM persons\n",
    "JOIN directors \n",
    "    USING(person_id)\n",
    "JOIN movie_basics\n",
    "    USING(movie_id)\n",
    "JOIN movie_ratings\n",
    "    USING(movie_id)\n",
    "JOIN principals\n",
    "    USING(movie_id)\n",
    "WHERE job LIKE \"lead director\" OR job LIKE \"assistant director\" OR job LIKE \"co director\" OR job LIKE \"co-director\"\n",
    "GROUP BY primary_name\n",
    "\"\"\"\n",
    "\n",
    "directors_and_ratings_df = pd.read_sql(directors_and_ratings, conn)\n",
    "\n",
    "# clean the data from the new table \n",
    "directors_and_ratings_df = directors_and_ratings_df.drop_duplicates()\n",
    "directors_and_ratings_df = directors_and_ratings_df.dropna()\n",
    "\n",
    "directors_and_ratings_df"
   ]
  },
  {
   "cell_type": "code",
   "execution_count": 40,
   "metadata": {},
   "outputs": [
    {
     "data": {
      "text/html": [
       "<div>\n",
       "<style scoped>\n",
       "    .dataframe tbody tr th:only-of-type {\n",
       "        vertical-align: middle;\n",
       "    }\n",
       "\n",
       "    .dataframe tbody tr th {\n",
       "        vertical-align: top;\n",
       "    }\n",
       "\n",
       "    .dataframe thead th {\n",
       "        text-align: right;\n",
       "    }\n",
       "</style>\n",
       "<table border=\"1\" class=\"dataframe\">\n",
       "  <thead>\n",
       "    <tr style=\"text-align: right;\">\n",
       "      <th></th>\n",
       "      <th>primary_name</th>\n",
       "      <th>averagerating</th>\n",
       "    </tr>\n",
       "  </thead>\n",
       "  <tbody>\n",
       "    <tr>\n",
       "      <th>519</th>\n",
       "      <td>Casey Kauffman</td>\n",
       "      <td>9.6</td>\n",
       "    </tr>\n",
       "    <tr>\n",
       "      <th>106</th>\n",
       "      <td>Alessandro Cassigoli</td>\n",
       "      <td>9.6</td>\n",
       "    </tr>\n",
       "    <tr>\n",
       "      <th>1669</th>\n",
       "      <td>Josepmaria Anglès</td>\n",
       "      <td>9.5</td>\n",
       "    </tr>\n",
       "    <tr>\n",
       "      <th>390</th>\n",
       "      <td>Bharatha Hettiarachchi</td>\n",
       "      <td>9.5</td>\n",
       "    </tr>\n",
       "    <tr>\n",
       "      <th>1909</th>\n",
       "      <td>Lauren Ross</td>\n",
       "      <td>9.5</td>\n",
       "    </tr>\n",
       "    <tr>\n",
       "      <th>...</th>\n",
       "      <td>...</td>\n",
       "      <td>...</td>\n",
       "    </tr>\n",
       "    <tr>\n",
       "      <th>943</th>\n",
       "      <td>Ely Buendia</td>\n",
       "      <td>1.6</td>\n",
       "    </tr>\n",
       "    <tr>\n",
       "      <th>2072</th>\n",
       "      <td>Marc Roussel</td>\n",
       "      <td>1.5</td>\n",
       "    </tr>\n",
       "    <tr>\n",
       "      <th>378</th>\n",
       "      <td>Bernard-Henri Lévy</td>\n",
       "      <td>1.5</td>\n",
       "    </tr>\n",
       "    <tr>\n",
       "      <th>3216</th>\n",
       "      <td>Takeo Urakami</td>\n",
       "      <td>1.0</td>\n",
       "    </tr>\n",
       "    <tr>\n",
       "      <th>1847</th>\n",
       "      <td>Koki Ebata</td>\n",
       "      <td>1.0</td>\n",
       "    </tr>\n",
       "  </tbody>\n",
       "</table>\n",
       "<p>3528 rows × 2 columns</p>\n",
       "</div>"
      ],
      "text/plain": [
       "                primary_name  averagerating\n",
       "519           Casey Kauffman            9.6\n",
       "106     Alessandro Cassigoli            9.6\n",
       "1669       Josepmaria Anglès            9.5\n",
       "390   Bharatha Hettiarachchi            9.5\n",
       "1909             Lauren Ross            9.5\n",
       "...                      ...            ...\n",
       "943              Ely Buendia            1.6\n",
       "2072            Marc Roussel            1.5\n",
       "378       Bernard-Henri Lévy            1.5\n",
       "3216           Takeo Urakami            1.0\n",
       "1847              Koki Ebata            1.0\n",
       "\n",
       "[3528 rows x 2 columns]"
      ]
     },
     "execution_count": 40,
     "metadata": {},
     "output_type": "execute_result"
    }
   ],
   "source": [
    "# choosing not to remove rows with average rating of 0 incase that is the actual average rating\n",
    "# view the attributes and ratings table in decsending order\n",
    "directors_and_ratings_df = directors_and_ratings_df.sort_values(\"averagerating\", ascending=False)\n",
    "directors_and_ratings_df"
   ]
  },
  {
   "cell_type": "markdown",
   "metadata": {},
   "source": [
    "create a box plot that shows the IQR of the averageratings of directors"
   ]
  },
  {
   "cell_type": "code",
   "execution_count": 41,
   "metadata": {},
   "outputs": [
    {
     "data": {
      "text/plain": [
       "Text(0.5, 1.0, 'Range of Average Ratings for Directors')"
      ]
     },
     "execution_count": 41,
     "metadata": {},
     "output_type": "execute_result"
    },
    {
     "data": {
      "image/png": "[encoded data removed]",
      "text/plain": [
       "<Figure size 720x432 with 1 Axes>"
      ]
     },
     "metadata": {
      "needs_background": "light"
     },
     "output_type": "display_data"
    }
   ],
   "source": [
    "plt.boxplot(directors_and_ratings_df[\"averagerating\"], vert=False)\n",
    "plt.rcParams[\"figure.figsize\"] = (5,3)\n",
    "plt.xlabel(\"average rating\")\n",
    "plt.ylabel(\"movie\")\n",
    "plt.title(\"Range of Average Ratings for Directors\")"
   ]
  },
  {
   "cell_type": "markdown",
   "metadata": {},
   "source": [
    "create a scatter plot showing all directors with above average rating"
   ]
  },
  {
   "cell_type": "code",
   "execution_count": null,
   "metadata": {},
   "outputs": [
    {
     "data": {
      "text/plain": [
       "Text(0.5, 1.0, 'directors and the average rating of their movies')"
      ]
     },
     "execution_count": 42,
     "metadata": {},
     "output_type": "execute_result"
    }
   ],
   "source": [
    "above_avg_rated_dir = directors_and_ratings_df[directors_and_ratings_df[\"averagerating\"] >= 8]\n",
    "plt.rcParams[\"figure.figsize\"] = (20,6)\n",
    "above_avg_rated_dir.plot(x = \"primary_name\", y = \"averagerating\", kind = \"scatter\")\n",
    "plt.xticks(rotation='vertical')\n",
    "plt.title(\"directors and the average rating of their movies\")"
   ]
  },
  {
   "cell_type": "markdown",
   "metadata": {},
   "source": [
    "still too many directors to choose from, we will create another box plot that graphs the "
   ]
  },
  {
   "cell_type": "code",
   "execution_count": null,
   "metadata": {},
   "outputs": [],
   "source": [
    "plt.boxplot(above_avg_rated_dir[\"averagerating\"], vert=False)\n",
    "plt.rcParams[\"figure.figsize\"] = (5,1)\n",
    "plt.xlabel(\"average rating\")\n",
    "plt.ylabel(\"movie\")\n",
    "plt.title(\"Range of Average Ratings for Directors\")"
   ]
  },
  {
   "cell_type": "markdown",
   "metadata": {},
   "source": [
    "create a bar graph that shows all the directors that are above the maximum"
   ]
  },
  {
   "cell_type": "code",
   "execution_count": null,
   "metadata": {},
   "outputs": [],
   "source": [
    "# create a bar graph showing the top 50 directors with the highest grossing movies\n",
    "very_best_directors = above_avg_rated_dir[above_avg_rated_dir[\"averagerating\"] >= 9.4]\n",
    "plt.rcParams[\"figure.figsize\"] = (10,6)\n",
    "very_best_directors.plot(x = \"primary_name\", y = \"averagerating\", kind = \"bar\")\n",
    "plt.title(\"Average Movie Rating for Directors\")\n",
    "plt.ylabel(\"Average Movie Ratings\")\n",
    "plt.xlabel(\"Director Name\")\n",
    "#plt.xticks(rotation='horizontal')\n",
    "#plt.yticks()"
   ]
  },
  {
   "cell_type": "code",
   "execution_count": null,
   "metadata": {},
   "outputs": [],
   "source": []
  },
  {
   "cell_type": "code",
   "execution_count": null,
   "metadata": {},
   "outputs": [],
   "source": []
  },
  {
   "cell_type": "code",
   "execution_count": null,
   "metadata": {},
   "outputs": [],
   "source": []
  }
 ],
 "metadata": {
  "kernelspec": {
   "display_name": "Python 3 (ipykernel)",
   "language": "python",
   "name": "python3"
  },
  "language_info": {
   "codemirror_mode": {
    "name": "ipython",
    "version": 3
   },
   "file_extension": ".py",
   "mimetype": "text/x-python",
   "name": "python",
   "nbconvert_exporter": "python",
   "pygments_lexer": "ipython3",
   "version": "3.9.12"
  }
 },
 "nbformat": 4,
 "nbformat_minor": 4
}
